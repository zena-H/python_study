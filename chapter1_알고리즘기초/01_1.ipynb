{
 "cells": [
  {
   "cell_type": "markdown",
   "metadata": {},
   "source": [
    "##### 세 정수의 최댓값 구하기"
   ]
  },
  {
   "cell_type": "markdown",
   "metadata": {},
   "source": [
    "###### 1-1"
   ]
  },
  {
   "cell_type": "code",
   "execution_count": 4,
   "metadata": {},
   "outputs": [
    {
     "name": "stdout",
     "output_type": "stream",
     "text": [
      "세 정수의 최댓값을 구합니다.\n",
      "최댓값은 5입니다\n"
     ]
    }
   ],
   "source": [
    "print ('세 정수의 최댓값을 구합니다.')\n",
    "\n",
    "a = int(input('정수 a의 값을 입력하세요 : '))\n",
    "b = int(input('정수 b의 값을 입력하세요 : '))\n",
    "c = int(input('정수 c의 값을 입력하세요 : '))\n",
    "\n",
    "maximum = a\n",
    "if b > maximum : maximum = b\n",
    "if c > maximum : maximum = c\n",
    "\n",
    "print (f'최댓값은 {maximum}입니다')"
   ]
  },
  {
   "cell_type": "markdown",
   "metadata": {},
   "source": [
    "###### 1C-1 "
   ]
  },
  {
   "cell_type": "code",
   "execution_count": 5,
   "metadata": {},
   "outputs": [
    {
     "name": "stdout",
     "output_type": "stream",
     "text": [
      "이름을 입력하세요 :안녕하세요. 홍길동 님\n"
     ]
    }
   ],
   "source": [
    "# 이름을 입력받아 인사하기\n",
    "\n",
    "print ('이름을 입력하세요 :',end='')\n",
    "name = input()\n",
    "print (f'안녕하세요? {name} 님')"
   ]
  },
  {
   "cell_type": "code",
   "execution_count": 6,
   "metadata": {},
   "outputs": [
    {
     "name": "stdout",
     "output_type": "stream",
     "text": [
      "안녕하세요? 홍길동 님\n"
     ]
    }
   ],
   "source": [
    "name = input('이름을 입력하세요 : ')\n",
    "print (f'안녕하세요? {name} 님')"
   ]
  },
  {
   "cell_type": "markdown",
   "metadata": {},
   "source": [
    "###### 문자열을 정수로 형 변환"
   ]
  },
  {
   "cell_type": "code",
   "execution_count": 14,
   "metadata": {},
   "outputs": [
    {
     "name": "stdout",
     "output_type": "stream",
     "text": [
      "17\n",
      "13\n",
      "6\n",
      "61\n",
      "63\n",
      "3.14\n"
     ]
    }
   ],
   "source": [
    "print (int('17'))\n",
    "print (int('13', 10))\n",
    "print (int('0b110', 2))     # 2진수 문자열을 10진수 정수형으로 변환\n",
    "print (int('0o75', 8))      # 8진수 문자열을 10진수 정수형으로 변환\n",
    "print (int('0x3F', 16))     # 16진수 문자열을 10진수 정수형으로 변환\n",
    "print (float('3.14'))       # 문자열을 실수형으로 변환"
   ]
  },
  {
   "cell_type": "code",
   "execution_count": null,
   "metadata": {},
   "outputs": [],
   "source": []
  }
 ],
 "metadata": {
  "interpreter": {
   "hash": "0cf90eb564dcf90a219ae509985b5381d51b47d0448d01a29ea34215728d8c14"
  },
  "kernelspec": {
   "display_name": "Python 3.8.8 64-bit ('base': conda)",
   "language": "python",
   "name": "python3"
  },
  "language_info": {
   "codemirror_mode": {
    "name": "ipython",
    "version": 3
   },
   "file_extension": ".py",
   "mimetype": "text/x-python",
   "name": "python",
   "nbconvert_exporter": "python",
   "pygments_lexer": "ipython3",
   "version": "3.8.8"
  },
  "orig_nbformat": 4
 },
 "nbformat": 4,
 "nbformat_minor": 2
}
