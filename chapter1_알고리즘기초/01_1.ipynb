{
 "cells": [
  {
   "cell_type": "markdown",
   "metadata": {},
   "source": [
    "##### 세 정수의 최댓값 구하기"
   ]
  },
  {
   "cell_type": "markdown",
   "metadata": {},
   "source": [
    "###### 1-1"
   ]
  },
  {
   "cell_type": "code",
   "execution_count": 4,
   "metadata": {},
   "outputs": [
    {
     "name": "stdout",
     "output_type": "stream",
     "text": [
      "세 정수의 최댓값을 구합니다.\n",
      "최댓값은 5입니다\n"
     ]
    }
   ],
   "source": [
    "print ('세 정수의 최댓값을 구합니다.')\n",
    "\n",
    "a = int(input('정수 a의 값을 입력하세요 : '))\n",
    "b = int(input('정수 b의 값을 입력하세요 : '))\n",
    "c = int(input('정수 c의 값을 입력하세요 : '))\n",
    "\n",
    "maximum = a\n",
    "if b > maximum : maximum = b\n",
    "if c > maximum : maximum = c\n",
    "\n",
    "print (f'최댓값은 {maximum}입니다')"
   ]
  },
  {
   "cell_type": "markdown",
   "metadata": {},
   "source": [
    "###### 1C-1 "
   ]
  },
  {
   "cell_type": "code",
   "execution_count": 5,
   "metadata": {},
   "outputs": [
    {
     "name": "stdout",
     "output_type": "stream",
     "text": [
      "이름을 입력하세요 :안녕하세요. 홍길동 님\n"
     ]
    }
   ],
   "source": [
    "# 이름을 입력받아 인사하기\n",
    "\n",
    "print ('이름을 입력하세요 :',end='')\n",
    "name = input()\n",
    "print (f'안녕하세요? {name} 님')"
   ]
  },
  {
   "cell_type": "code",
   "execution_count": 6,
   "metadata": {},
   "outputs": [
    {
     "name": "stdout",
     "output_type": "stream",
     "text": [
      "안녕하세요? 홍길동 님\n"
     ]
    }
   ],
   "source": [
    "name = input('이름을 입력하세요 : ')\n",
    "print (f'안녕하세요? {name} 님')"
   ]
  },
  {
   "cell_type": "markdown",
   "metadata": {},
   "source": [
    "###### 문자열을 정수로 형 변환"
   ]
  },
  {
   "cell_type": "code",
   "execution_count": 14,
   "metadata": {},
   "outputs": [
    {
     "name": "stdout",
     "output_type": "stream",
     "text": [
      "17\n",
      "13\n",
      "6\n",
      "61\n",
      "63\n",
      "3.14\n"
     ]
    }
   ],
   "source": [
    "print (int('17'))\n",
    "print (int('13', 10))\n",
    "print (int('0b110', 2))     # 2진수 문자열을 10진수 정수형으로 변환\n",
    "print (int('0o75', 8))      # 8진수 문자열을 10진수 정수형으로 변환\n",
    "print (int('0x3F', 16))     # 16진수 문자열을 10진수 정수형으로 변환\n",
    "print (float('3.14'))       # 문자열을 실수형으로 변환"
   ]
  },
  {
   "cell_type": "markdown",
   "metadata": {},
   "source": [
    "###### 1-6"
   ]
  },
  {
   "cell_type": "code",
   "execution_count": 15,
   "metadata": {},
   "outputs": [],
   "source": [
    "def max3(a, b, c ):\n",
    "    \"\"\"\n",
    "    a, b, c의 최댓값을 구하여 반환\n",
    "    \"\"\"\n",
    "\n",
    "    maximum = a\n",
    "\n",
    "    if b > maximum: maximum = b\n",
    "    if c > maximum: maximum = c\n",
    "    return maximum"
   ]
  },
  {
   "cell_type": "code",
   "execution_count": 17,
   "metadata": {},
   "outputs": [
    {
     "name": "stdout",
     "output_type": "stream",
     "text": [
      "max3(3,2,1) = 3\n",
      "max3(3,2,2) = 3\n",
      "max3(3,1,2) = 3\n",
      "max3(3,2,3) = 3\n",
      "max3(2,1,3) = 3\n"
     ]
    }
   ],
   "source": [
    "print (f'max3(3,2,1) = {max3(3,2,1)}')\n",
    "print (f'max3(3,2,2) = {max3(3,2,2)}')\n",
    "print (f'max3(3,1,2) = {max3(3,1,2)}')\n",
    "print (f'max3(3,2,3) = {max3(3,2,3)}')\n",
    "print (f'max3(2,1,3) = {max3(2,1,3)}')"
   ]
  },
  {
   "cell_type": "markdown",
   "metadata": {},
   "source": [
    "###### 복합문 작성 시 지켜야할 규칙"
   ]
  },
  {
   "cell_type": "code",
   "execution_count": null,
   "metadata": {},
   "outputs": [],
   "source": [
    "# 복합문 내부는 들여쓰기 4칸\n",
    "if a < b:\n",
    "    min2 = a\n",
    "    max2 = b\n",
    "\n",
    "# 복합문 한줄로 쓰기\n",
    "if a < b: min2 = a              # 단순문 1개\n",
    "if a < b: min2 = a; max2 = b    # 단순문 2개\n",
    "if a < b: min2 = a; max2 = b;   # 단순문 2개 (세미콜론을 추가한 단순문)\n",
    "\n",
    "# 복합문 내부의 복합문은 한줄로 쓰기 불가\n",
    "# ex>\n",
    "if z < b: if c < d: x = u"
   ]
  },
  {
   "cell_type": "markdown",
   "metadata": {},
   "source": [
    "###### 1C-2"
   ]
  },
  {
   "cell_type": "code",
   "execution_count": 18,
   "metadata": {},
   "outputs": [],
   "source": [
    "def med3(a, b, c):\n",
    "    \"\"\"\n",
    "    a, b, c의 중앙값을 구하여 반환\n",
    "    \"\"\"\n",
    "    if a >= b:\n",
    "        if b >= c: return b\n",
    "\n",
    "        elif a <= c: return a\n",
    "\n",
    "        else: return c\n",
    "\n",
    "    elif a > c: return a\n",
    "\n",
    "    elif b > c: return c\n",
    "\n",
    "    else: return b"
   ]
  },
  {
   "cell_type": "code",
   "execution_count": 19,
   "metadata": {},
   "outputs": [
    {
     "name": "stdout",
     "output_type": "stream",
     "text": [
      "세 정수의 중앙값을 구합니다.\n",
      "중앙값은 6입니다.\n"
     ]
    }
   ],
   "source": [
    "print ('세 정수의 중앙값을 구합니다.')\n",
    "\n",
    "a = int(input('정수 a의 값을 입력하세요 : '))\n",
    "b = int(input('정수 b의 값을 입력하세요 : '))\n",
    "c = int(input('정수 c의 값을 입력하세요 : '))\n",
    "\n",
    "print (f'중앙값은 {med3(a,b,c)}입니다.')"
   ]
  },
  {
   "cell_type": "code",
   "execution_count": 20,
   "metadata": {},
   "outputs": [],
   "source": [
    "# 세 정수를 입력받아 중앙값 구하기 2\n",
    "\n",
    "def med3_(a, b, c):\n",
    "    \"\"\"\n",
    "    a, b, c의 중앙값을 구하여 반환(다른 방법)\n",
    "    \"\"\"\n",
    "\n",
    "    if (b >=  a and c <= a) or (b <= a and c >= a): return a\n",
    "\n",
    "    elif ((a>b) & (c < b) | ((a < b) & (c > b))): return b\n",
    "\n",
    "    else:\n",
    "        return c"
   ]
  },
  {
   "cell_type": "code",
   "execution_count": 22,
   "metadata": {},
   "outputs": [
    {
     "name": "stdout",
     "output_type": "stream",
     "text": [
      "세 정수의 중앙값을 구합니다.\n",
      "중앙값은 7입니다.\n"
     ]
    }
   ],
   "source": [
    "print ('세 정수의 중앙값을 구합니다.')\n",
    "\n",
    "a = int(input('정수 a의 값을 입력하세요 : '))\n",
    "b = int(input('정수 b의 값을 입력하세요 : '))\n",
    "c = int(input('정수 c의 값을 입력하세요 : '))\n",
    "\n",
    "print (f'중앙값은 {med3_(a,b,c)}입니다.')"
   ]
  },
  {
   "cell_type": "markdown",
   "metadata": {},
   "source": [
    "###### 조건문과 분기"
   ]
  },
  {
   "cell_type": "markdown",
   "metadata": {},
   "source": [
    "###### 1-3"
   ]
  },
  {
   "cell_type": "code",
   "execution_count": 23,
   "metadata": {},
   "outputs": [
    {
     "name": "stdout",
     "output_type": "stream",
     "text": [
      "이 수는 음수입니다.\n"
     ]
    }
   ],
   "source": [
    "# 입력받은 정수의 부호(양수, 음수, 0) 출력하기\n",
    "\n",
    "n = int(input('정수를 입력해주세요 : '))\n",
    "\n",
    "if n > 0:\n",
    "    print ('이 수는 양수입니다')\n",
    "elif n < 0:\n",
    "    print ('이 수는 음수입니다.')\n",
    "else:\n",
    "    print ('이 수는 0입니다')"
   ]
  },
  {
   "cell_type": "markdown",
   "metadata": {},
   "source": [
    "###### 1-4"
   ]
  },
  {
   "cell_type": "code",
   "execution_count": 24,
   "metadata": {},
   "outputs": [
    {
     "name": "stdout",
     "output_type": "stream",
     "text": [
      "B\n"
     ]
    }
   ],
   "source": [
    "# 3개로 분기하는 조건문\n",
    "\n",
    "n = int(input('정수를 입력하세요 :'))\n",
    "\n",
    "if n == 1:\n",
    "    print ('A')\n",
    "elif n == 2:\n",
    "    print ('B')\n",
    "else:\n",
    "    print ('C')"
   ]
  },
  {
   "cell_type": "markdown",
   "metadata": {},
   "source": [
    "###### 1-5"
   ]
  },
  {
   "cell_type": "code",
   "execution_count": 26,
   "metadata": {},
   "outputs": [],
   "source": [
    "# 4개로 분기하는 조건문\n",
    "\n",
    "n = int(input('정수를 입력하세요 : '))\n",
    "\n",
    "if n == 1:\n",
    "    print ('A')\n",
    "elif n == 2:\n",
    "    print ('B')\n",
    "elif n == 3:\n",
    "    print ('C')\n"
   ]
  },
  {
   "cell_type": "markdown",
   "metadata": {},
   "source": [
    "###### 1-6"
   ]
  },
  {
   "cell_type": "code",
   "execution_count": 27,
   "metadata": {},
   "outputs": [
    {
     "name": "stdout",
     "output_type": "stream",
     "text": [
      "C\n"
     ]
    }
   ],
   "source": [
    "# 실습 1-5의 원래 모습\n",
    "\n",
    "n = int(input('정수를 입력하세요 : '))\n",
    "\n",
    "if n == 1:\n",
    "    print ('A')\n",
    "elif n == 2:\n",
    "    print ('B')\n",
    "elif n == 3:\n",
    "    print ('C')\n",
    "else:\n",
    "    pass\n"
   ]
  },
  {
   "cell_type": "markdown",
   "metadata": {},
   "source": [
    "##### 조건 연산자"
   ]
  },
  {
   "cell_type": "code",
   "execution_count": 30,
   "metadata": {},
   "outputs": [
    {
     "name": "stdout",
     "output_type": "stream",
     "text": [
      "3\n",
      "c는 0이 아닙니다\n"
     ]
    }
   ],
   "source": [
    "x = 3; y = 2; c = 3\n",
    "\n",
    "\n",
    "a = x if x > y else y\n",
    "print (a)\n",
    "print ('c는 0입니다.' if c == 0 else 'c는 0이 아닙니다')"
   ]
  }
 ],
 "metadata": {
  "interpreter": {
   "hash": "0cf90eb564dcf90a219ae509985b5381d51b47d0448d01a29ea34215728d8c14"
  },
  "kernelspec": {
   "display_name": "Python 3.8.8 64-bit ('base': conda)",
   "language": "python",
   "name": "python3"
  },
  "language_info": {
   "codemirror_mode": {
    "name": "ipython",
    "version": 3
   },
   "file_extension": ".py",
   "mimetype": "text/x-python",
   "name": "python",
   "nbconvert_exporter": "python",
   "pygments_lexer": "ipython3",
   "version": "3.8.8"
  },
  "orig_nbformat": 4
 },
 "nbformat": 4,
 "nbformat_minor": 2
}
