{
 "cells": [
  {
   "cell_type": "markdown",
   "metadata": {},
   "source": [
    "##### 1부터 n까지 정수의 합 구하기"
   ]
  },
  {
   "cell_type": "markdown",
   "metadata": {},
   "source": [
    "###### 1-7"
   ]
  },
  {
   "cell_type": "code",
   "execution_count": 1,
   "metadata": {},
   "outputs": [
    {
     "name": "stdout",
     "output_type": "stream",
     "text": [
      "1부터 n까지의 정수의 합을 구합니다\n",
      "1부터 5까지의 정수의 합은 15입니다\n"
     ]
    }
   ],
   "source": [
    "# 1부터 n까지의 정수의 합 구하기 1(while 문)\n",
    "\n",
    "print ('1부터 n까지의 정수의 합을 구합니다')\n",
    "n = int(input('n값을 입력하세요'))\n",
    "\n",
    "sum = 0\n",
    "i = 1\n",
    "\n",
    "while i <= n:\n",
    "    sum += i\n",
    "    i += 1\n",
    "\n",
    "print (f'1부터 {n}까지의 정수의 합은 {sum}입니다')"
   ]
  },
  {
   "cell_type": "markdown",
   "metadata": {},
   "source": [
    "###### 1-8"
   ]
  },
  {
   "cell_type": "code",
   "execution_count": 2,
   "metadata": {},
   "outputs": [
    {
     "name": "stdout",
     "output_type": "stream",
     "text": [
      "1부터 n까지 정수의 합을 구합니다.\n",
      "1부터 5까지 정수의 합은 15입니다.\n"
     ]
    }
   ],
   "source": [
    "# 1부터 n까지 정수의 합 구하기 2(for 문)\n",
    "\n",
    "print ('1부터 n까지 정수의 합을 구합니다.')\n",
    "n = int(input('n값을 입력하세요 : '))\n",
    "\n",
    "sum = 0\n",
    "\n",
    "for i in range(1, n+1):\n",
    "    sum += i\n",
    "\n",
    "print (f'1부터 {n}까지 정수의 합은 {sum}입니다.')"
   ]
  },
  {
   "cell_type": "markdown",
   "metadata": {},
   "source": [
    "##### 연속하는 정수의 합을 구하기 위해 값 정렬하기\n",
    "###### 1-9"
   ]
  },
  {
   "cell_type": "code",
   "execution_count": 3,
   "metadata": {},
   "outputs": [
    {
     "name": "stdout",
     "output_type": "stream",
     "text": [
      "a부터 b까지 정수의 합을 구합니다.\n",
      "4부터 6까지 정수의 합은 15입니다.\n"
     ]
    }
   ],
   "source": [
    "# a 부터 b까지 정수의 합 구하기(for 문)\n",
    "\n",
    "print ('a부터 b까지 정수의 합을 구합니다.')\n",
    "a = int(input('정수 a를 입력하세요 :'))\n",
    "b = int(input('정수 b를 입력하세요 :'))\n",
    "\n",
    "if a > b:\n",
    "    a,b = b, a    # a와 b를 오름차순으로 정렬\n",
    "\n",
    "sum = 0\n",
    "for i in range(a, b+1):\n",
    "    sum += i\n",
    "\n",
    "print (f'{a}부터 {b}까지 정수의 합은 {sum}입니다.')"
   ]
  },
  {
   "cell_type": "markdown",
   "metadata": {},
   "source": [
    "##### 반복 과정에서 조건 판단하기 1\n",
    "###### 1-10"
   ]
  },
  {
   "cell_type": "code",
   "execution_count": 5,
   "metadata": {},
   "outputs": [
    {
     "name": "stdout",
     "output_type": "stream",
     "text": [
      "a부터 b까지 정수의 합을 구합니다\n",
      "6 + 7 + 8 =3\n"
     ]
    }
   ],
   "source": [
    "# a부터 b까지 정수의 합 구하기 1\n",
    "\n",
    "print ('a부터 b까지 정수의 합을 구합니다')\n",
    "a = int(input('정수 a를 입력하세요 : '))\n",
    "b = int(input('정수 b를 입력하세요 : '))\n",
    "\n",
    "if a > b:\n",
    "    a, b = b, a\n",
    "\n",
    "sum = 0\n",
    "\n",
    "for i in range(a, b+1):\n",
    "    if i < b:\n",
    "        print (f'{i} + ', end = '' )     # i가 b보다 작으면 합을 구하는 과정 출력\n",
    "    else:\n",
    "        print (f'{i} =', end = '')    # i가 b보다 크거나 같으면 최종값 출력을 위해 i = 를 출력\n",
    "    sum += 1\n",
    "\n",
    "print (sum)"
   ]
  },
  {
   "cell_type": "markdown",
   "metadata": {},
   "source": [
    "###### 1-11"
   ]
  },
  {
   "cell_type": "code",
   "execution_count": 6,
   "metadata": {},
   "outputs": [
    {
     "name": "stdout",
     "output_type": "stream",
     "text": [
      "a부터 b까지 정수의 합을 구합니다.\n",
      "4 + 5 + 6 + 7 + 8 = 30\n"
     ]
    }
   ],
   "source": [
    "# a부터 b까지 정수의 합 구하기 2\n",
    "\n",
    "print ('a부터 b까지 정수의 합을 구합니다.')\n",
    "a = int(input('정수 a를 입력하세요 : '))\n",
    "b = int(input('정수 b를 입력하세요 : '))\n",
    "\n",
    "if a > b:\n",
    "    a, b = b, a\n",
    "\n",
    "sum = 0\n",
    "for i in range(a, b):\n",
    "    print (f'{i} + ', end = '')\n",
    "    sum += i\n",
    "\n",
    "print (f'{b} = ', end = '')\n",
    "sum += b\n",
    "\n",
    "print (sum)"
   ]
  },
  {
   "cell_type": "markdown",
   "metadata": {},
   "source": [
    "##### 반복 과정에서 조건 판단하기 2\n",
    "###### 1-12"
   ]
  },
  {
   "cell_type": "code",
   "execution_count": 7,
   "metadata": {},
   "outputs": [
    {
     "name": "stdout",
     "output_type": "stream",
     "text": [
      "+와 -를 번갈아 출력합니다\n",
      "+-+-+-+\n"
     ]
    }
   ],
   "source": [
    "# +와 -를 번갈아 출력하기 1\n",
    "\n",
    "print ('+와 -를 번갈아 출력합니다')\n",
    "n = int(input('몇 개를 출력할까요? : '))\n",
    "\n",
    "for i in range(n):\n",
    "    if i % 2:    \n",
    "        print ('-', end='')     # 홀수인 경우 -출력\n",
    "    else:    \n",
    "        print ('+', end='')     # 짝수인 경우 + 출력\n",
    "\n",
    "print ()\n"
   ]
  },
  {
   "cell_type": "code",
   "execution_count": 8,
   "metadata": {},
   "outputs": [
    {
     "name": "stdout",
     "output_type": "stream",
     "text": [
      "+와 -를 번갈아 출력합니다\n",
      "-+-+-+-+-+-+-+-+-+-\n"
     ]
    }
   ],
   "source": [
    "# +와 -를 번갈아 출력하기 (for 문 수정)\n",
    "\n",
    "print ('+와 -를 번갈아 출력합니다')\n",
    "n = int(input('몇 개를 출력할까요? : '))\n",
    "\n",
    "for i in range(1, n+1):\n",
    "    if i % 2:    \n",
    "        print ('-', end='')     # 홀수인 경우 -출력\n",
    "    else:    \n",
    "        print ('+', end='')     # 짝수인 경우 + 출력\n",
    "\n",
    "print ()\n"
   ]
  },
  {
   "cell_type": "markdown",
   "metadata": {},
   "source": [
    "###### 1-13"
   ]
  },
  {
   "cell_type": "code",
   "execution_count": 9,
   "metadata": {},
   "outputs": [
    {
     "name": "stdout",
     "output_type": "stream",
     "text": [
      "+와 -를 번갈아 출력합니다\n",
      "+-+-+-+-+-+-+-+-+-+-+-+-+-+-\n"
     ]
    }
   ],
   "source": [
    "# +와 -를 번갈아 출력하기 2\n",
    "\n",
    "print('+와 -를 번갈아 출력합니다')\n",
    "n = int(input('몇 개를 출력할까요? : '))\n",
    "\n",
    "for _ in range(n//2):\n",
    "    print ('+-', end = '')\n",
    "\n",
    "if n % 2:\n",
    "    print ('+', end = '') \n",
    "\n",
    "print()"
   ]
  },
  {
   "cell_type": "markdown",
   "metadata": {},
   "source": [
    "##### 반복 과정에서 조건 판단하기 3\n",
    "###### 1-14"
   ]
  },
  {
   "cell_type": "code",
   "execution_count": 10,
   "metadata": {},
   "outputs": [
    {
     "name": "stdout",
     "output_type": "stream",
     "text": [
      "*를 출력합니다\n",
      "***\n",
      "***\n",
      "***\n",
      "***\n",
      "***\n",
      "***\n",
      "***\n",
      "***\n",
      "*\n"
     ]
    }
   ],
   "source": [
    "# *를 n개 출력하되 w개마다 줄바꿈하기 1\n",
    "\n",
    "print ('*를 출력합니다')\n",
    "n = int(input('몇 개를 출력할까요? : '))\n",
    "w = int(input('몇 개마다 줄바꿈할까요?'))\n",
    "\n",
    "for i in range(n):      # n번 반복\n",
    "    print ('*', end = '')\n",
    "    if i % w == w - 1:  # n번 판단\n",
    "        print ()        # 줄바꿈\n",
    "\n",
    "if n % w:               # 1번 판단\n",
    "    print ()            # 줄바꿈"
   ]
  },
  {
   "cell_type": "markdown",
   "metadata": {},
   "source": [
    "###### 1-15"
   ]
  },
  {
   "cell_type": "code",
   "execution_count": 11,
   "metadata": {},
   "outputs": [
    {
     "name": "stdout",
     "output_type": "stream",
     "text": [
      "*를 출력합니다\n",
      "******\n",
      "******\n",
      "******\n",
      "******\n"
     ]
    }
   ],
   "source": [
    "# *를 n개 출력하되 w개마다 줄바꿈하기 2\n",
    "\n",
    "print ('*를 출력합니다')\n",
    "n = int(input('몇 개를 출력할까요? : '))\n",
    "w = int(input('몇 개마다 줄바꿈할까요? : '))\n",
    "\n",
    "for _ in range(n // w):     # n // w번 반복\n",
    "    print ('*'*w)\n",
    "\n",
    "rest = n % w\n",
    "if rest: # if문 판단 1번\n",
    "    print ('*' * rest)"
   ]
  },
  {
   "cell_type": "markdown",
   "metadata": {},
   "source": [
    "##### 양수만 입력받기\n",
    "###### 1-16"
   ]
  },
  {
   "cell_type": "code",
   "execution_count": 12,
   "metadata": {},
   "outputs": [
    {
     "name": "stdout",
     "output_type": "stream",
     "text": [
      "1부터 n까지 정수의 합을 구합니다\n",
      "1부터 5까지 정수의 합은 15입니다\n"
     ]
    }
   ],
   "source": [
    "# 1부터 n까지 정수의 합 구하기 (n값은 양수만 입력받음)\n",
    "\n",
    "print ('1부터 n까지 정수의 합을 구합니다')\n",
    "\n",
    "while True:\n",
    "    n = int(input('n값을 입력하세요 : '))\n",
    "    \n",
    "    if n > 0:\n",
    "        break\n",
    "\n",
    "sum = 0\n",
    "i = 1\n",
    "\n",
    "for i in range(1, n+1):\n",
    "    sum += i\n",
    "    i += 1\n",
    "\n",
    "\n",
    "print (f'1부터 {n}까지 정수의 합은 {sum}입니다')"
   ]
  },
  {
   "cell_type": "markdown",
   "metadata": {},
   "source": [
    "##### 직사각형 넓이로 변의 길이 구하기 \n",
    "###### 1-17"
   ]
  },
  {
   "cell_type": "code",
   "execution_count": 13,
   "metadata": {},
   "outputs": [
    {
     "name": "stdout",
     "output_type": "stream",
     "text": [
      "1 x 15\n",
      "3 x 5\n"
     ]
    }
   ],
   "source": [
    "# 가로, 세로의 길이가 정수이고 넓이가 area인 직사각형에서 변의 길이 나열하기\n",
    "\n",
    "area = int(input('직사각형의 넓이를 입력하세요 : '))\n",
    "\n",
    "for i in range(1, area + 1):    # 1부터 사각형의 넓이 계산\n",
    "    if i * i > area : break\n",
    "    if area % i : continue\n",
    "    print (f'{i} x {area // i}')"
   ]
  },
  {
   "cell_type": "markdown",
   "metadata": {},
   "source": [
    "###### 1-18"
   ]
  },
  {
   "cell_type": "code",
   "execution_count": 15,
   "metadata": {},
   "outputs": [
    {
     "name": "stdout",
     "output_type": "stream",
     "text": [
      "76 92 53 78 42 39 25 70 98 45 38 23 55 93 82 \n",
      "난수 생성을 종료합니다\n"
     ]
    }
   ],
   "source": [
    "# 10 ~ 99 사이의 난수 n개 생성하기 (13이 나오면 중단)\n",
    "\n",
    "import random\n",
    "\n",
    "n = int(input('난수의 개수를 입력하세요 : '))\n",
    "\n",
    "for _ in range(n):\n",
    "    r = random.randint(10, 99)\n",
    "    print (r , end = ' ')\n",
    "    if r == 13:\n",
    "        print ('\\n프로그램을 중단합니다.')\n",
    "        break\n",
    "\n",
    "else:\n",
    "    print ('\\n난수 생성을 종료합니다')"
   ]
  },
  {
   "cell_type": "markdown",
   "metadata": {},
   "source": [
    "##### 반복문 건너뛰기와 여러 범위 스캔하기\n",
    "###### 1-19"
   ]
  },
  {
   "cell_type": "code",
   "execution_count": 17,
   "metadata": {},
   "outputs": [
    {
     "name": "stdout",
     "output_type": "stream",
     "text": [
      "1 2 3 4 5 6 7 9 10 11 12 \n"
     ]
    }
   ],
   "source": [
    "# 1~12까지 8을 건너뛰고 출력하기 1\n",
    "\n",
    "for i in range(1, 13):\n",
    "    if i == 8:\n",
    "        continue\n",
    "    print (i, end = ' ')\n",
    "print ()"
   ]
  },
  {
   "cell_type": "code",
   "execution_count": 18,
   "metadata": {},
   "outputs": [
    {
     "name": "stdout",
     "output_type": "stream",
     "text": [
      "1 2 3 4 5 6 7 9 10 11 12 \n"
     ]
    }
   ],
   "source": [
    "# 1부터 12까지 8을 건너뛰고 출력하기 2\n",
    "\n",
    "for i in list(range(1,8)) + list(range(9,13)):\n",
    "    print (i, end = ' ')\n",
    "\n",
    "print ()"
   ]
  },
  {
   "cell_type": "markdown",
   "metadata": {},
   "source": [
    "##### 다중 루프 알아보기\n",
    "###### 1-21"
   ]
  },
  {
   "cell_type": "code",
   "execution_count": 22,
   "metadata": {},
   "outputs": [
    {
     "name": "stdout",
     "output_type": "stream",
     "text": [
      "---------------------------\n",
      " 1  2  3  4  5  6  7  8  9 \n",
      " 2  4  6  8 10 12 14 16 18 \n",
      " 3  6  9 12 15 18 21 24 27 \n",
      " 4  8 12 16 20 24 28 32 36 \n",
      " 5 10 15 20 25 30 35 40 45 \n",
      " 6 12 18 24 30 36 42 48 54 \n",
      " 7 14 21 28 35 42 49 56 63 \n",
      " 8 16 24 32 40 48 56 64 72 \n",
      " 9 18 27 36 45 54 63 72 81 \n",
      "---------------------------\n"
     ]
    }
   ],
   "source": [
    "# 구구단 곱셈표 출력하기\n",
    "\n",
    "print ( '-' * 27)\n",
    "\n",
    "for i in range(1,10):  # 행 루프\n",
    "    for j in range(1, 10): # 열 루프\n",
    "        print (f'{i * j :2}', end = ' ')\n",
    "    print ()\n",
    "print ('-' * 27)"
   ]
  },
  {
   "cell_type": "markdown",
   "metadata": {},
   "source": [
    "##### 직각 이등변 삼각형으로 출력하기\n",
    "###### 1-22"
   ]
  },
  {
   "cell_type": "code",
   "execution_count": 23,
   "metadata": {},
   "outputs": [
    {
     "name": "stdout",
     "output_type": "stream",
     "text": [
      "왼쪽 아래가 직각인 이등변 삼각형을 출력합니다\n",
      "*\n",
      "**\n",
      "***\n",
      "****\n",
      "*****\n",
      "******\n"
     ]
    }
   ],
   "source": [
    "# 왼쪽 아래가 직각인 이등변 삼각형으로 * 출력하기\n",
    "\n",
    "print ('왼쪽 아래가 직각인 이등변 삼각형을 출력합니다')\n",
    "n = int(input('짧은 변의 길이를 입력하세요'))\n",
    "\n",
    "for i in range(n):\n",
    "    for j in range(i + 1):\n",
    "        print ('*', end = '')\n",
    "    print ()"
   ]
  },
  {
   "cell_type": "markdown",
   "metadata": {},
   "source": [
    "###### 1-23"
   ]
  },
  {
   "cell_type": "code",
   "execution_count": 24,
   "metadata": {},
   "outputs": [
    {
     "name": "stdout",
     "output_type": "stream",
     "text": [
      "오른쪽 아래가 직각인 이등변 삼각형을 출력합니다\n",
      "       *\n",
      "      **\n",
      "     ***\n",
      "    ****\n",
      "   *****\n",
      "  ******\n",
      " *******\n",
      "********\n"
     ]
    }
   ],
   "source": [
    "# 오른쪽 아래가 직각인 이등변 삼각형으로 * 출력하기\n",
    "\n",
    "print ('오른쪽 아래가 직각인 이등변 삼각형을 출력합니다')\n",
    "n = int(input('짧은 변의 길이를 입력하세요 : '))\n",
    "\n",
    "for i in range(n):\n",
    "    for _ in range(n - i -1):    # 공백을 출력\n",
    "        print (' ', end = '')\n",
    "    for _ in range(i + 1):\n",
    "        print ('*', end = '')\n",
    "    print ()"
   ]
  },
  {
   "cell_type": "markdown",
   "metadata": {},
   "source": [
    "###### 보충수업 > 파이썬의 변수"
   ]
  },
  {
   "cell_type": "code",
   "execution_count": 25,
   "metadata": {},
   "outputs": [
    {
     "name": "stdout",
     "output_type": "stream",
     "text": [
      "140713440651568\n",
      "140713440651568\n"
     ]
    }
   ],
   "source": [
    "n = 17\n",
    "print (id(17))\n",
    "print (id(n))"
   ]
  },
  {
   "cell_type": "markdown",
   "metadata": {},
   "source": [
    "###### - 변수는 객체를 참조하는 객체에 연결된 이름에 불과하다.\n",
    "###### - 모든 객체는 메모리를 차지하고, 자료형 뿐만 아니라 식별 번호(identitiy)를 가짐"
   ]
  },
  {
   "cell_type": "markdown",
   "metadata": {},
   "source": [
    "###### 1C-4"
   ]
  },
  {
   "cell_type": "code",
   "execution_count": 26,
   "metadata": {},
   "outputs": [
    {
     "name": "stdout",
     "output_type": "stream",
     "text": [
      "id(1) = 140713440651056\n",
      "id(n) = 140713440651056\n",
      "id(x) = 140713440651056\n"
     ]
    }
   ],
   "source": [
    "# 함수 내부,외부에서 정의한 변수와 객체의 식별 번호를 출력하기\n",
    "\n",
    "n = 1           # 전역 변수 (함수 내부, 외부에서 사용)\n",
    "\n",
    "def put_id():\n",
    "    x = 1       # 지역 변수 (함수 내부에서만 사용)\n",
    "    print (f'id(x) = {id(x)}')\n",
    "\n",
    "print (f'id(1) = {id(1)}')\n",
    "print (f\"id(n) = {id(n)}\")\n",
    "put_id()"
   ]
  },
  {
   "cell_type": "markdown",
   "metadata": {},
   "source": [
    "###### 1C-5"
   ]
  },
  {
   "cell_type": "code",
   "execution_count": 27,
   "metadata": {},
   "outputs": [
    {
     "name": "stdout",
     "output_type": "stream",
     "text": [
      "i =   1    id(i) = 140713440651056\n",
      "i =   2    id(i) = 140713440651088\n",
      "i =   3    id(i) = 140713440651120\n",
      "i =   4    id(i) = 140713440651152\n",
      "i =   5    id(i) = 140713440651184\n",
      "i =   6    id(i) = 140713440651216\n",
      "i =   7    id(i) = 140713440651248\n",
      "i =   8    id(i) = 140713440651280\n",
      "i =   9    id(i) = 140713440651312\n",
      "i =  10    id(i) = 140713440651344\n",
      "i =  11    id(i) = 140713440651376\n",
      "i =  12    id(i) = 140713440651408\n",
      "i =  13    id(i) = 140713440651440\n",
      "i =  14    id(i) = 140713440651472\n",
      "i =  15    id(i) = 140713440651504\n",
      "i =  16    id(i) = 140713440651536\n",
      "i =  17    id(i) = 140713440651568\n",
      "i =  18    id(i) = 140713440651600\n",
      "i =  19    id(i) = 140713440651632\n",
      "i =  20    id(i) = 140713440651664\n",
      "i =  21    id(i) = 140713440651696\n",
      "i =  22    id(i) = 140713440651728\n",
      "i =  23    id(i) = 140713440651760\n",
      "i =  24    id(i) = 140713440651792\n",
      "i =  25    id(i) = 140713440651824\n",
      "i =  26    id(i) = 140713440651856\n",
      "i =  27    id(i) = 140713440651888\n",
      "i =  28    id(i) = 140713440651920\n",
      "i =  29    id(i) = 140713440651952\n",
      "i =  30    id(i) = 140713440651984\n",
      "i =  31    id(i) = 140713440652016\n",
      "i =  32    id(i) = 140713440652048\n",
      "i =  33    id(i) = 140713440652080\n",
      "i =  34    id(i) = 140713440652112\n",
      "i =  35    id(i) = 140713440652144\n",
      "i =  36    id(i) = 140713440652176\n",
      "i =  37    id(i) = 140713440652208\n",
      "i =  38    id(i) = 140713440652240\n",
      "i =  39    id(i) = 140713440652272\n",
      "i =  40    id(i) = 140713440652304\n",
      "i =  41    id(i) = 140713440652336\n",
      "i =  42    id(i) = 140713440652368\n",
      "i =  43    id(i) = 140713440652400\n",
      "i =  44    id(i) = 140713440652432\n",
      "i =  45    id(i) = 140713440652464\n",
      "i =  46    id(i) = 140713440652496\n",
      "i =  47    id(i) = 140713440652528\n",
      "i =  48    id(i) = 140713440652560\n",
      "i =  49    id(i) = 140713440652592\n",
      "i =  50    id(i) = 140713440652624\n",
      "i =  51    id(i) = 140713440652656\n",
      "i =  52    id(i) = 140713440652688\n",
      "i =  53    id(i) = 140713440652720\n",
      "i =  54    id(i) = 140713440652752\n",
      "i =  55    id(i) = 140713440652784\n",
      "i =  56    id(i) = 140713440652816\n",
      "i =  57    id(i) = 140713440652848\n",
      "i =  58    id(i) = 140713440652880\n",
      "i =  59    id(i) = 140713440652912\n",
      "i =  60    id(i) = 140713440652944\n",
      "i =  61    id(i) = 140713440652976\n",
      "i =  62    id(i) = 140713440653008\n",
      "i =  63    id(i) = 140713440653040\n",
      "i =  64    id(i) = 140713440653072\n",
      "i =  65    id(i) = 140713440653104\n",
      "i =  66    id(i) = 140713440653136\n",
      "i =  67    id(i) = 140713440653168\n",
      "i =  68    id(i) = 140713440653200\n",
      "i =  69    id(i) = 140713440653232\n",
      "i =  70    id(i) = 140713440653264\n",
      "i =  71    id(i) = 140713440653296\n",
      "i =  72    id(i) = 140713440653328\n",
      "i =  73    id(i) = 140713440653360\n",
      "i =  74    id(i) = 140713440653392\n",
      "i =  75    id(i) = 140713440653424\n",
      "i =  76    id(i) = 140713440653456\n",
      "i =  77    id(i) = 140713440653488\n",
      "i =  78    id(i) = 140713440653520\n",
      "i =  79    id(i) = 140713440653552\n",
      "i =  80    id(i) = 140713440653584\n",
      "i =  81    id(i) = 140713440653616\n",
      "i =  82    id(i) = 140713440653648\n",
      "i =  83    id(i) = 140713440653680\n",
      "i =  84    id(i) = 140713440653712\n",
      "i =  85    id(i) = 140713440653744\n",
      "i =  86    id(i) = 140713440653776\n",
      "i =  87    id(i) = 140713440653808\n",
      "i =  88    id(i) = 140713440653840\n",
      "i =  89    id(i) = 140713440653872\n",
      "i =  90    id(i) = 140713440653904\n",
      "i =  91    id(i) = 140713440653936\n",
      "i =  92    id(i) = 140713440653968\n",
      "i =  93    id(i) = 140713440654000\n",
      "i =  94    id(i) = 140713440654032\n",
      "i =  95    id(i) = 140713440654064\n",
      "i =  96    id(i) = 140713440654096\n",
      "i =  97    id(i) = 140713440654128\n",
      "i =  98    id(i) = 140713440654160\n",
      "i =  99    id(i) = 140713440654192\n",
      "i = 100    id(i) = 140713440654224\n"
     ]
    }
   ],
   "source": [
    "# 1부터 100까지 반복하여 출력하기\n",
    "\n",
    "for i in range(1, 101):\n",
    "    print (f'i = {i:3}    id(i) = {id(i)}')"
   ]
  },
  {
   "cell_type": "code",
   "execution_count": null,
   "metadata": {},
   "outputs": [],
   "source": []
  }
 ],
 "metadata": {
  "interpreter": {
   "hash": "0cf90eb564dcf90a219ae509985b5381d51b47d0448d01a29ea34215728d8c14"
  },
  "kernelspec": {
   "display_name": "Python 3.8.8 64-bit ('base': conda)",
   "language": "python",
   "name": "python3"
  },
  "language_info": {
   "codemirror_mode": {
    "name": "ipython",
    "version": 3
   },
   "file_extension": ".py",
   "mimetype": "text/x-python",
   "name": "python",
   "nbconvert_exporter": "python",
   "pygments_lexer": "ipython3",
   "version": "3.8.8"
  },
  "orig_nbformat": 4
 },
 "nbformat": 4,
 "nbformat_minor": 2
}
