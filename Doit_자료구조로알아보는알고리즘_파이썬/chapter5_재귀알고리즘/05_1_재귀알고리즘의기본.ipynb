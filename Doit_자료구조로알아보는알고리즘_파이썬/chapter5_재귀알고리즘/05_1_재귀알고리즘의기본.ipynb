{
 "cells": [
  {
   "cell_type": "markdown",
   "metadata": {},
   "source": [
    "##### 재귀 알아보기\n",
    "재귀 : 어떠한 이벤트에서 자기 자신을 포함하고 다시 자기 자신을 사용하여 정의되는 경우\n",
    "- 재귀를 효과적으로 사용하면 프로그램을 간결하고 효율성 좋게 작성할 수 있음\n",
    "\n",
    "##### 팩토리얼 알아보기\n",
    "\n",
    "###### 6-1"
   ]
  },
  {
   "cell_type": "code",
   "execution_count": 1,
   "metadata": {},
   "outputs": [
    {
     "name": "stdout",
     "output_type": "stream",
     "text": [
      "3의 팩토리얼은 6입니다.\n"
     ]
    }
   ],
   "source": [
    "# 양의 정수 n의 팩토리얼 구하기\n",
    "\n",
    "def factorial(n: int) -> int:\n",
    "    \"\"\"양의 정수 n의 팩토리얼값을 재귀적으로 구함\"\"\"\n",
    "    if n > 0:\n",
    "        return n * factorial(n - 1)\n",
    "    else:\n",
    "        return 1\n",
    "\n",
    "if __name__==\"__main__\":\n",
    "    n = int(input('출력할 팩토리얼값을 입력하세요 : '))\n",
    "    print (f'{n}의 팩토리얼은 {factorial(n)}입니다.')"
   ]
  },
  {
   "cell_type": "markdown",
   "metadata": {},
   "source": [
    "###### 보충 수업 5-1 : math.factorial() 함수\n",
    "\n",
    "##### 직접 재귀와 간접 재귀\n",
    "직접 재귀 : 자신과 똑같은 함수를 호출하는 방식  \n",
    "간접 재귀 : 다른 함수를 통해 자신과 똑같은 함수를 호출하는 방식\n",
    "\n",
    "##### 유클리드 호제법 알아보기\n",
    "두 정숫값의 최대 공약수를 재귀적으로 구하는 방법\n",
    "\n",
    "###### 5-2"
   ]
  },
  {
   "cell_type": "code",
   "execution_count": 2,
   "metadata": {},
   "outputs": [
    {
     "name": "stdout",
     "output_type": "stream",
     "text": [
      "두 정숫값의 최대 공약수를 구합니다.\n",
      "두 정숫값의 최대 공약수는 2입니다.\n"
     ]
    }
   ],
   "source": [
    "# 유클리드 호제법으로 최대 공약수 구하기\n",
    "\n",
    "def gcd(x: int, y: int) -> int:\n",
    "    \"\"\"정숫값 x와 y의 최대 공약수를 반환\"\"\"\n",
    "    if y == 0:\n",
    "        return x\n",
    "    else:\n",
    "        return gcd(y, x % y)\n",
    "\n",
    "if __name__==\"__main__\":\n",
    "    print ('두 정숫값의 최대 공약수를 구합니다.')\n",
    "    x = int(input('첫 번째 정숫값을 입력하세요 : '))\n",
    "    y = int(input('두 번째 정숫값을 입력하세요 : '))\n",
    "\n",
    "    print (f'두 정숫값의 최대 공약수는 {gcd(x, y)}입니다.')"
   ]
  },
  {
   "cell_type": "markdown",
   "metadata": {},
   "source": [
    "###### 보충 수업 5-2 : math.gcd() 함수"
   ]
  }
 ],
 "metadata": {
  "interpreter": {
   "hash": "0cf90eb564dcf90a219ae509985b5381d51b47d0448d01a29ea34215728d8c14"
  },
  "kernelspec": {
   "display_name": "Python 3.8.8 64-bit ('base': conda)",
   "language": "python",
   "name": "python3"
  },
  "language_info": {
   "codemirror_mode": {
    "name": "ipython",
    "version": 3
   },
   "file_extension": ".py",
   "mimetype": "text/x-python",
   "name": "python",
   "nbconvert_exporter": "python",
   "pygments_lexer": "ipython3",
   "version": "3.8.8"
  },
  "orig_nbformat": 4
 },
 "nbformat": 4,
 "nbformat_minor": 2
}
