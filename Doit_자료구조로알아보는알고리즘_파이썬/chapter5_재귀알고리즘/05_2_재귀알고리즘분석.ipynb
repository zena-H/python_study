{
 "cells": [
  {
   "cell_type": "markdown",
   "metadata": {},
   "source": [
    "##### 재귀 알고리즘의 2가지 분석 방법\n",
    "\n",
    "###### 5-3"
   ]
  },
  {
   "cell_type": "code",
   "execution_count": 1,
   "metadata": {},
   "outputs": [
    {
     "name": "stdout",
     "output_type": "stream",
     "text": [
      "1\n",
      "2\n",
      "3\n",
      "1\n",
      "4\n",
      "1\n",
      "2\n"
     ]
    }
   ],
   "source": [
    "# 순수한 재귀 함수 구현하기\n",
    "\n",
    "def recur(n: int) -> int:\n",
    "    \"\"\"순수한 재귀 함수 recur의 구현\"\"\"\n",
    "    if n > 0:\n",
    "        recur(n - 1)\n",
    "        print(n)\n",
    "        recur(n - 2)\n",
    "\n",
    "x = int(input('정숫값을 입력하세요 : '))\n",
    "\n",
    "recur(x)"
   ]
  },
  {
   "cell_type": "code",
   "execution_count": 3,
   "metadata": {},
   "outputs": [
    {
     "name": "stdout",
     "output_type": "stream",
     "text": [
      "2\n",
      "1\n",
      "4\n",
      "1\n",
      "3\n",
      "2\n",
      "1\n"
     ]
    }
   ],
   "source": [
    "# recur() 함수의 재귀 호출을 거꾸로 출력하기\n",
    "\n",
    "def recur(n : int) -> int:\n",
    "    \"\"\"순수한 재귀 함수 recur의 구현(거꾸로 출력)\"\"\"\n",
    "    if n > 0:\n",
    "        recur(n - 2)\n",
    "        print(n)\n",
    "        recur(n - 1)\n",
    "\n",
    "x = int(input('정숫값을 입력하세요 : '))\n",
    "\n",
    "recur(x)"
   ]
  },
  {
   "cell_type": "markdown",
   "metadata": {},
   "source": [
    "##### 재귀 알고리즘의 비재귀적 표현\n",
    "꼬리 재귀를 제거하기\n",
    "\n",
    "###### 5-4"
   ]
  },
  {
   "cell_type": "code",
   "execution_count": 4,
   "metadata": {},
   "outputs": [
    {
     "name": "stdout",
     "output_type": "stream",
     "text": [
      "1\n",
      "2\n",
      "3\n",
      "1\n",
      "4\n",
      "1\n",
      "2\n"
     ]
    }
   ],
   "source": [
    "# 비재귀적으로 재귀 함수 구현하기(꼬리 재귀를 제거)\n",
    "\n",
    "def recur(n: int) -> int:\n",
    "    \"\"\"꼬리 재귀를 제거한 recur() 함수\"\"\"\n",
    "    while n > 0:\n",
    "        recur(n - 1)\n",
    "        print (n)\n",
    "        n = n - 2\n",
    "\n",
    "x = int(input('정숫값을 입력합니다 : '))\n",
    "\n",
    "recur(x)"
   ]
  },
  {
   "cell_type": "markdown",
   "metadata": {},
   "source": [
    "재귀를 제거하기\n",
    "\n",
    "###### 5-5"
   ]
  },
  {
   "cell_type": "code",
   "execution_count": 5,
   "metadata": {},
   "outputs": [
    {
     "name": "stdout",
     "output_type": "stream",
     "text": [
      "1\n",
      "2\n",
      "3\n",
      "1\n",
      "4\n",
      "1\n",
      "2\n"
     ]
    }
   ],
   "source": [
    "# 스택으로 재귀 함수 구현하기(재귀를 제거)\n",
    "\n",
    "from stack import Stack             # stack.py의 Stack 클래스를 임포트\n",
    "\n",
    "def recur(n: int) -> int:\n",
    "    \"\"\"재귀를 제거한 recur() 함수\"\"\"\n",
    "    s = Stack(n)\n",
    "\n",
    "    while True:\n",
    "        if n > 0:\n",
    "            s.push(n)               # n 값을 푸시\n",
    "            n = n - 1\n",
    "            continue\n",
    "        if not s.is_empty():        # 스택이 비어있지 않으면\n",
    "            n = s.pop()             # 저장된 값을 n에 팝\n",
    "            print (n)\n",
    "            n = n - 2\n",
    "            continue\n",
    "        break\n",
    "\n",
    "x = int(input('정숫값을 입력하세요 : '))\n",
    "\n",
    "recur(x)"
   ]
  },
  {
   "cell_type": "code",
   "execution_count": null,
   "metadata": {},
   "outputs": [],
   "source": []
  }
 ],
 "metadata": {
  "interpreter": {
   "hash": "0cf90eb564dcf90a219ae509985b5381d51b47d0448d01a29ea34215728d8c14"
  },
  "kernelspec": {
   "display_name": "Python 3.8.8 64-bit ('base': conda)",
   "language": "python",
   "name": "python3"
  },
  "language_info": {
   "codemirror_mode": {
    "name": "ipython",
    "version": 3
   },
   "file_extension": ".py",
   "mimetype": "text/x-python",
   "name": "python",
   "nbconvert_exporter": "python",
   "pygments_lexer": "ipython3",
   "version": "3.8.8"
  },
  "orig_nbformat": 4
 },
 "nbformat": 4,
 "nbformat_minor": 2
}
