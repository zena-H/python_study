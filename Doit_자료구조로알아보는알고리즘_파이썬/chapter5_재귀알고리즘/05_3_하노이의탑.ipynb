{
 "cells": [
  {
   "cell_type": "markdown",
   "metadata": {},
   "source": [
    "##### 하노이의 탑 알아보기\n",
    "\n",
    "###### 5-6"
   ]
  },
  {
   "cell_type": "code",
   "execution_count": 1,
   "metadata": {},
   "outputs": [
    {
     "name": "stdout",
     "output_type": "stream",
     "text": [
      "하노이의 탑을 구합니다.\n",
      "원반 [1]개를 1기둥에서 3기둥으로 옮깁니다.\n",
      "원반 [2]개를 1기둥에서 2기둥으로 옮깁니다.\n",
      "원반 [1]개를 3기둥에서 2기둥으로 옮깁니다.\n",
      "원반 [3]개를 1기둥에서 3기둥으로 옮깁니다.\n",
      "원반 [1]개를 2기둥에서 1기둥으로 옮깁니다.\n",
      "원반 [2]개를 2기둥에서 3기둥으로 옮깁니다.\n",
      "원반 [1]개를 1기둥에서 3기둥으로 옮깁니다.\n"
     ]
    }
   ],
   "source": [
    "# 하노이의 탑 구현하기\n",
    "\n",
    "def move(no: int, x: int, y: int) -> None:\n",
    "    \"\"\"원반 no개를 x기둥에서 y기둥으로 옮김\"\"\"\n",
    "    if no > 1:\n",
    "        move(no -1, x, 6 - x - y)\n",
    "\n",
    "    print (f'원반 [{no}]개를 {x}기둥에서 {y}기둥으로 옮깁니다.')\n",
    "\n",
    "    if no > 1:\n",
    "        move(no -1, 6 - x - y, y)\n",
    "\n",
    "print ('하노이의 탑을 구합니다.')\n",
    "n = int(input('원반의 개수를 입력하세요 : '))\n",
    "\n",
    "move(n, 1, 3)   # 1 기둥에 쌓인 원반 n개를 3기둥으로 옮김"
   ]
  },
  {
   "cell_type": "code",
   "execution_count": null,
   "metadata": {},
   "outputs": [],
   "source": []
  }
 ],
 "metadata": {
  "interpreter": {
   "hash": "0cf90eb564dcf90a219ae509985b5381d51b47d0448d01a29ea34215728d8c14"
  },
  "kernelspec": {
   "display_name": "Python 3.8.8 64-bit ('base': conda)",
   "language": "python",
   "name": "python3"
  },
  "language_info": {
   "codemirror_mode": {
    "name": "ipython",
    "version": 3
   },
   "file_extension": ".py",
   "mimetype": "text/x-python",
   "name": "python",
   "nbconvert_exporter": "python",
   "pygments_lexer": "ipython3",
   "version": "3.8.8"
  },
  "orig_nbformat": 4
 },
 "nbformat": 4,
 "nbformat_minor": 2
}
