{
 "cells": [
  {
   "cell_type": "markdown",
   "metadata": {},
   "source": [
    "##### 보이어무어법 알아보기\n",
    "보이어무어법 : KMP법보다 효율적이어서 실제 문자열 검색에서 널리 사용하는 알고리즘\n",
    "- 패턴에 포함되지 않는 문자를 만난 경우\n",
    "    - 패턴 이동량이 곧 n입니다. 패턴에 포함되지 않는만큼 밀어냅니다\n",
    "  \n",
    "  \n",
    "- 패턴에 포함되는 문자를 만난 경우\n",
    "    - 마지막에 나오는 위치의 인덱스가 k이면 이동량이 n - k - 1입니다.\n",
    "    - 같은 문자가 패턴 안에 중복해서 존재하지 않으면 패턴의 맨 끝 문자의 이동량은 n입니다.\n",
    "\n",
    "###### 7-3"
   ]
  },
  {
   "cell_type": "code",
   "execution_count": 4,
   "metadata": {},
   "outputs": [
    {
     "name": "stdout",
     "output_type": "stream",
     "text": [
      "ABABCDEFGHA\n",
      "ABC\n",
      "3번째 문자가 일치합니다\n"
     ]
    }
   ],
   "source": [
    "# 보이어무어법으로 문자열 검색하기(문자열 길이는 0 ~ 255개)\n",
    "\n",
    "def bm_match(txt : str, pat: str) -> int:\n",
    "    \"\"\"보이어무어법으로 문자열 검색\"\"\"\n",
    "    skip = [None] * 256                 # 건너뛰기 표\n",
    "\n",
    "    # 건너뛰기 표 만들기\n",
    "    for pt in range(256):\n",
    "        skip[pt] = len(pat)\n",
    "    for pt in range(len(pat)):\n",
    "        skip[ord(pat[pt])] = len(pat) - pt - 1\n",
    "\n",
    "    # 검색하기\n",
    "    while pt < len(txt):\n",
    "        pp = len(pat) - 1\n",
    "        while txt[pt] == pat[pp]:\n",
    "            if pp == 0:\n",
    "                return pt\n",
    "            pt -= 1\n",
    "            pp -= 1\n",
    "        pt += skip[ord(txt[pt])] if skip[ord(txt[pt])] > len(pat) - pp else len(pat) - pp\n",
    "\n",
    "    return -1\n",
    "\n",
    "\n",
    "if __name__ == \"__main__\":\n",
    "    s1 = input('텍스트를 입력하세요 : ')        # 텍스트용 문자열\n",
    "    s2 = input('패턴을 입력하세요 : ')          # 패턴용 문자열\n",
    "\n",
    "    idx = bm_match(s1, s2)                      # 문자열 s1 ~ s2를 보이어무어법으로 검색\n",
    "\n",
    "    if idx == -1:\n",
    "        print('텍스트 안에 패턴이 존재하지 않습니다.')\n",
    "    else:\n",
    "        print(f'{s1}\\n{s2}')\n",
    "        print(f'{(idx + 1)}번째 문자가 일치합니다')"
   ]
  },
  {
   "cell_type": "markdown",
   "metadata": {},
   "source": [
    "##### 문자열 검색 알고리즘의 시간 복잡도\n",
    "텍스트의 길이 : n\n",
    "패턴의 길이 : m\n",
    "  \n",
    "  \n",
    "- 브루트 포스법\n",
    "    - O(mn) 이지만 일부로 꾸며낸 패턴이 아니라면 O(n)\n",
    "\n",
    "- KMP법\n",
    "    - 최악의 경우에도 O(n)\n",
    "    - 패턴 안에 반복이 없으면 효율은 좋지 않음\n",
    "\n",
    "- 보이어무어법\n",
    "    - 최악의 경우 O(n), 평균 O(n / m)\n",
    "    - 배열 2개로 알고리즘을 구현하면 효율성이 떨어짐\n",
    "    "
   ]
  },
  {
   "cell_type": "markdown",
   "metadata": {},
   "source": [
    "###### 보충 수업 7-2 : 문자 코드를 다루는 ord() 함수와 chr() 함수\n",
    "ord() : 문자의 유니코드포인트를 정수로 반환  \n",
    "chr() : 유니코드를 문자로 반환"
   ]
  },
  {
   "cell_type": "code",
   "execution_count": 14,
   "metadata": {},
   "outputs": [
    {
     "name": "stdout",
     "output_type": "stream",
     "text": [
      "65\n",
      "a\n"
     ]
    }
   ],
   "source": [
    "print(ord('A'))\n",
    "print(chr(97))"
   ]
  }
 ],
 "metadata": {
  "interpreter": {
   "hash": "0cf90eb564dcf90a219ae509985b5381d51b47d0448d01a29ea34215728d8c14"
  },
  "kernelspec": {
   "display_name": "Python 3.8.8 64-bit ('base': conda)",
   "language": "python",
   "name": "python3"
  },
  "language_info": {
   "codemirror_mode": {
    "name": "ipython",
    "version": 3
   },
   "file_extension": ".py",
   "mimetype": "text/x-python",
   "name": "python",
   "nbconvert_exporter": "python",
   "pygments_lexer": "ipython3",
   "version": "3.8.8"
  },
  "orig_nbformat": 4
 },
 "nbformat": 4,
 "nbformat_minor": 2
}
