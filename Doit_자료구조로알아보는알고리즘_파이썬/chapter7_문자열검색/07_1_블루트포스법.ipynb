{
 "cells": [
  {
   "cell_type": "markdown",
   "metadata": {},
   "source": [
    "##### 문자열 검색이란?\n",
    "문자열 검색 : 어떤 문자열 안에 다른 문자열이 포함되어 있는지 검사하고, 만약 포함되어 있다면 어디에 위치하는지 찾아내는 것  \n",
    "텍스트 : 검색되는 쪽  \n",
    "패턴 : 찾아내는 문자열\n",
    "\n",
    "##### 브루트 포스법 알아보기\n",
    "\n",
    "###### 7-1"
   ]
  },
  {
   "cell_type": "code",
   "execution_count": 2,
   "metadata": {},
   "outputs": [
    {
     "name": "stdout",
     "output_type": "stream",
     "text": [
      "text : ABABCDEFGHA\n",
      "pattern : ABC\n",
      "3번째 문자가 일치합니다.\n"
     ]
    }
   ],
   "source": [
    "# 브루트 포스법으로 문자열 검색하기\n",
    "\n",
    "def bf_match(txt: str, pat: str) -> int:\n",
    "    \"\"\"브루트 포스법으로 문자열 검색\"\"\"\n",
    "    pt = 0                              # txt를 따라가는 커서\n",
    "    pp = 0                              # pat을 따라가는 커서\n",
    "\n",
    "    while pt != len(txt) and pp != len(pat):\n",
    "        if txt[pt] == pat[pp]:\n",
    "            pt += 1\n",
    "            pp += 1\n",
    "        else:\n",
    "            pt = pt - pp + 1\n",
    "            pp = 0\n",
    "\n",
    "    return pt - pp if pp == len(pat) else -1\n",
    "\n",
    "if __name__ == \"__main__\":\n",
    "    s1 = input('텍스트를 입력하세요 : ')    # 텍스트용 문자열\n",
    "    s2 = input('패턴을 입력하세요 : ')      # 패턴용 문자열\n",
    "\n",
    "    idx = bf_match(s1, s2)                 # 문자열 s1 ~ s2를 브루트 포스법으로 검색\n",
    "\n",
    "    if idx == -1:\n",
    "        print('텍스트 안에 패턴이 존재하지 않습니다.')\n",
    "    else:\n",
    "        print('text :', s1)\n",
    "        print('pattern :', s2)\n",
    "        print(f'{(idx + 1)}번째 문자가 일치합니다.')"
   ]
  },
  {
   "cell_type": "markdown",
   "metadata": {},
   "source": [
    "###### 보충 수업 7-1 : 멤버십 연산자와 표준 라이브러리를 사용한 문자열 검색\n",
    "\n",
    "###### 멤버십 연산자로 구현하기"
   ]
  },
  {
   "cell_type": "code",
   "execution_count": 6,
   "metadata": {},
   "outputs": [
    {
     "name": "stdout",
     "output_type": "stream",
     "text": [
      "True\n",
      "False\n"
     ]
    }
   ],
   "source": [
    "txt = 'ABABCDEFGHABC'\n",
    "ptn = 'ABC'\n",
    "\n",
    "print(ptn in txt)\n",
    "print(ptn not in txt)"
   ]
  },
  {
   "cell_type": "markdown",
   "metadata": {},
   "source": [
    "###### find, index 계열 함수로 구현하기"
   ]
  },
  {
   "cell_type": "code",
   "execution_count": 8,
   "metadata": {},
   "outputs": [
    {
     "name": "stdout",
     "output_type": "stream",
     "text": [
      "2\n",
      "10\n",
      "2\n",
      "10\n"
     ]
    }
   ],
   "source": [
    "# str.find(sub[, start[, end]])\n",
    "# 문자열 str의 [start : end]에 sub이 포함되면 그 가운데 가장 작은 인덱스를 반환하고, 그렇지 않으면 -1 반환\n",
    "print(txt.find(ptn))\n",
    "\n",
    "# str.rfind(sub[, start[, end]])\n",
    "# 문자열 str의 [start : end]에 sub이 포함되면 그 가운데 가장 큰 인덱스를 반환하고, 그렇지 않으면 -1 반환\n",
    "print(txt.rfind(ptn))\n",
    "\n",
    "# str.index(sub[, start[, end]])\n",
    "# find()함수와 같은 기능을 수행, 다만 sub이 발견되지 않으면 예외처리로 ValueError을 내보냄\n",
    "print(txt.index(ptn))\n",
    "\n",
    "# str.rindex(sub[, start[, end]])\n",
    "# rfind()함수와 같은 기능을 수행, 다만 sub이 발견되지 않으면 예외처리로 ValueError을 내보냄\n",
    "print(txt.rindex(ptn))"
   ]
  },
  {
   "cell_type": "markdown",
   "metadata": {},
   "source": [
    "###### with 계열 함수로 구현하기"
   ]
  },
  {
   "cell_type": "code",
   "execution_count": 21,
   "metadata": {},
   "outputs": [
    {
     "name": "stdout",
     "output_type": "stream",
     "text": [
      "True\n",
      "False\n"
     ]
    }
   ],
   "source": [
    "# str.startswith(prefix[, start[, end]])\n",
    "# 문자열이 prefix로 시작하면 True를 그렇지 않으면 False를 반환\n",
    "# start가 지정되어있으면 그 위치에서 판단 시작, end가 지정되어 있으면 그 위치에서 비교 중단\n",
    "print(txt.startswith(ptn, 2))\n",
    "\n",
    "# str.endswith(suffix[, start[, end]])\n",
    "# 문자열이 suffix로 끝나면 True, 그렇지 않으면 False 반환\n",
    "# start가 지정되어 있으면 그 위치에서 판단 시작, end가 지정되어 있으면 그 위치에서 비교 중단\n",
    "print(txt.endswith(ptn, None ,3))"
   ]
  }
 ],
 "metadata": {
  "interpreter": {
   "hash": "0cf90eb564dcf90a219ae509985b5381d51b47d0448d01a29ea34215728d8c14"
  },
  "kernelspec": {
   "display_name": "Python 3.8.8 64-bit ('base': conda)",
   "language": "python",
   "name": "python3"
  },
  "language_info": {
   "codemirror_mode": {
    "name": "ipython",
    "version": 3
   },
   "file_extension": ".py",
   "mimetype": "text/x-python",
   "name": "python",
   "nbconvert_exporter": "python",
   "pygments_lexer": "ipython3",
   "version": "3.8.8"
  },
  "orig_nbformat": 4
 },
 "nbformat": 4,
 "nbformat_minor": 2
}
