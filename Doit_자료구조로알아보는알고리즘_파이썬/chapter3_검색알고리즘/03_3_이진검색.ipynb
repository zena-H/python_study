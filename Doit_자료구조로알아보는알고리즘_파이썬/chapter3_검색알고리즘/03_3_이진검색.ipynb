{
 "cells": [
  {
   "cell_type": "markdown",
   "metadata": {},
   "source": [
    "##### 이진 검색\n",
    "###### 3-4"
   ]
  },
  {
   "cell_type": "code",
   "execution_count": 1,
   "metadata": {},
   "outputs": [
    {
     "name": "stdout",
     "output_type": "stream",
     "text": [
      "배열 데이터를 오름차순으로 입력하세요\n",
      "검색값은 x[3]에 있습니다.\n"
     ]
    }
   ],
   "source": [
    "# 이진 검색 알고리즘\n",
    "\n",
    "from typing import Any, Sequence\n",
    "\n",
    "def bin_search(a: Sequence, key: Any) -> int:\n",
    "    \"\"\"시퀀스 a에서 key와 일치하는 원소를 이진 검색\"\"\"\n",
    "\n",
    "    pl = 0              # 검색 범위 맨 앞 원소의 인덱스\n",
    "    pr = len(a) - 1     # 검색 범위 맨 뒤 원소의 인덱스\n",
    "\n",
    "    while True:\n",
    "        pc = (pl + pr) // 2     # 중앙 원소의 인덱스\n",
    "        if a[pc] == key:\n",
    "            return pc           # 검색 성공\n",
    "\n",
    "        elif a[pc] < key :\n",
    "            pl = pc + 1         # 검색 범위를 뒤쪽 절반으로 좁힘\n",
    "\n",
    "        else:\n",
    "            pr = pc -1          # 검색 범위를 앞쪽 절반으로 좁힘\n",
    "\n",
    "        if pl > pr:\n",
    "            break\n",
    "    return -1                   # 검색 실패\n",
    "\n",
    "\n",
    "if __name__ == \"__main__\":\n",
    "    num = int(input('원소 수를 입력하세요 : '))\n",
    "    x = [None] * num            # 원소 수가 num인 배열을 생성\n",
    "\n",
    "    print ('배열 데이터를 오름차순으로 입력하세요')\n",
    "\n",
    "    x[0] = int(input('x[0] : '))\n",
    "\n",
    "    for i in range(1, num):\n",
    "        while True:\n",
    "            x[i] = int(input(f'x[{i}] : '))\n",
    "            if x[i] >= x[i - 1]:        # 바로 직전에 입력한 원솟값보다 큰 값을 입력\n",
    "                break\n",
    "\n",
    "    ky = int(input('검색할 값을 입력하세요 : '))    # 검색할 키값 ky를 입력\n",
    "\n",
    "    idx = bin_search(x, ky)                         # ky값과 같은 원소를 x에서 검색\n",
    "\n",
    "    if idx == -1:\n",
    "        print ('검색값을 갖는 원소가 존재하지 않습니다')\n",
    "    else:\n",
    "        print (f'검색값은 x[{idx}]에 있습니다.')"
   ]
  },
  {
   "cell_type": "markdown",
   "metadata": {},
   "source": [
    "##### 복잡도\n",
    "###### 시간 복잡도(time complexity) : 실행하는 데 필요한 시간을 평가\n",
    "###### 공간 복잡도(space complexity) : 메모리(기억 공간)과 파일 공간이 얼마나 필요한지를 평가"
   ]
  },
  {
   "cell_type": "markdown",
   "metadata": {},
   "source": [
    "선형 검색 시간의 복잡도\n",
    "\n",
    "def seq_search(a: Sequence, key: Any) -> int:\n",
    "1. i = 0    \n",
    "2. while i < 0:\n",
    "3.      if a[i] == key:\n",
    "4.          return i    # 검색에 성공하여 인덱스를 반환\n",
    "5.      i += 1\n",
    "  \n",
    "6. return -1"
   ]
  },
  {
   "cell_type": "markdown",
   "metadata": {},
   "source": [
    "단계, 실행횟수, 복잡도  \n",
    "1,     1  ,     O(1)  \n",
    "2,     n/2,     O(n)  \n",
    "3,     n/2,     O(n)  \n",
    "4,     1  ,     O(1)  \n",
    "5.     n/2,     O(n)  \n",
    "6,     1  ,     O(1)  "
   ]
  },
  {
   "cell_type": "markdown",
   "metadata": {},
   "source": [
    "O(f(n)) + O(g(n)) = max(O(f(n)), O(g(n)))\n",
    "\n",
    "∴ 위 코드 복잡도  \n",
    "O(1) + O(n) + O(n) + O(1) + O(n) + O(1) = max(O(1), O(n), O(n), O(1), O(n), O(1)) = O(n)"
   ]
  },
  {
   "cell_type": "markdown",
   "metadata": {},
   "source": [
    "###### 보충수업 3-2 : index() 함수로 검색하기\n",
    "###### 이진 검색의 시간 복잡도"
   ]
  },
  {
   "cell_type": "markdown",
   "metadata": {},
   "source": [
    "def bin_search(a: Sequence, key: Any) -> int:\n",
    "    \"\"\"시퀀스 a에서 key와 일치하는 원소를 이진 검색\"\"\"\n",
    "\n",
    "1.  pl = 0              # 검색 범위 맨 앞 원소의 인덱스\n",
    "2.  pr = len(a) - 1     # 검색 범위 맨 뒤 원소의 인덱스\n",
    "\n",
    "    while True:\n",
    "3.      pc = (pl + pr) // 2     # 중앙 원소의 인덱스\n",
    "4.      if a[pc] == key:\n",
    "5.          return pc           # 검색 성공\n",
    "\n",
    "6.      elif a[pc] < key :\n",
    "7.          pl = pc + 1         # 검색 범위를 뒤쪽 절반으로 좁힘\n",
    "        else:\n",
    "8.          pr = pc -1          # 검색 범위를 앞쪽 절반으로 좁힘\n",
    "9.      if pl > pr:\n",
    "            break\n",
    "10. return -1                   # 검색 실패"
   ]
  },
  {
   "cell_type": "markdown",
   "metadata": {},
   "source": [
    "단계, 실행횟수, 복잡도  \n",
    "1,     1    ,     O(1)  \n",
    "2,     1    ,     O(1)  \n",
    "3,     log n,     O(log n)  \n",
    "4,     log n,     O(log n)  \n",
    "5.     1    ,     O(1)  \n",
    "6,     log n,     O(log n)\n",
    "7,     log n,     O(log n)\n",
    "8,     log n,     O(log n)\n",
    "9,     log n,     O(log n)\n",
    "10.    1    ,     O(1)"
   ]
  },
  {
   "cell_type": "markdown",
   "metadata": {},
   "source": [
    "∴ 복잡도  \n",
    "O(1) + O(1) + O(log n) + O(log n) + O(1) + O(log n) + O(log n) + O(log n) + O(log n) + O(1)  \n",
    "= max(O(1) + O(1) + O(log n) + O(log n) + O(1) + O(log n) + O(log n) + O(log n) + O(log n) + O(1))  \n",
    "= O(log n)"
   ]
  },
  {
   "cell_type": "markdown",
   "metadata": {},
   "source": [
    "###### 보충수업 3-3 : 이진 검색의 실행 과정 출력하기\n",
    "###### 3C-3"
   ]
  },
  {
   "cell_type": "code",
   "execution_count": 4,
   "metadata": {},
   "outputs": [
    {
     "name": "stdout",
     "output_type": "stream",
     "text": [
      "배열 데이터를 오름차순으로 입력하세요\n",
      "    |   0   1   2   3   4   5   6   7   8   9  10\n",
      "---+----------------------------------------------\n",
      "    |<-                    +                  ->\n",
      "  5|   1   2   3   4   5   6   7   8   9  10  11\n",
      "   |\n",
      "    |<-        +      ->\n",
      "  8|   1   2   3   4   5   6   7   8   9  10  11\n",
      "   |\n",
      "    |                         <+  ->\n",
      "  6|   1   2   3   4   5   6   7   8   9  10  11\n",
      "   |\n",
      "    |                             <+->\n",
      "  7|   1   2   3   4   5   6   7   8   9  10  11\n",
      "   |\n",
      "검색값은 x[7]에 있습니다.\n"
     ]
    }
   ],
   "source": [
    "# 이진 검색 알고리즘의 실행 과정을 출력\n",
    "\n",
    "from typing import Any, Sequence\n",
    "\n",
    "def bin_search(a: Sequence, key: Any) -> int:\n",
    "    \"\"\"시퀀스 a에서 key와 일치하는 원소를 이진 검색(실행 과정을 출력)\"\"\"\n",
    "    pl = 0                  # 검색 범위 맨 앞 원소의 인덱스\n",
    "    pr = len(a) - 1         # 검색 범위 맨 뒤 원소의 인덱스\n",
    "\n",
    "    print ('    |', end = '')\n",
    "    for i in range(len(a)):\n",
    "        print (f'{i: 4}', end = '')\n",
    "    print ()\n",
    "    print ('---+' + (4 * len(a) + 2) * '-')\n",
    "\n",
    "    while True:\n",
    "        pc = (pl + pr) // 2             # 중앙 원소의 인덱스\n",
    "\n",
    "        print ('    |', end = '')\n",
    "        if pl != pc:        # pl 원소 위에 <- 출력\n",
    "            print ((pl * 4 + 1) * '' + '<-'+((pc - pl)*4)*' ' + '+', end = '')\n",
    "        else:\n",
    "            print ((pc * 4 + 1)* ' ' + '<+', end = '')\n",
    "        \n",
    "        if pc != pr:        # pr 원소 위에 -> 출력\n",
    "            print (((pr - pc) * 4 -2)* ' ' + '->')\n",
    "        else:\n",
    "            print ('->')\n",
    "\n",
    "        print (f'{pc: 3}|', end='')\n",
    "\n",
    "        for i in range(len(a)):\n",
    "            print (f'{a[i]: 4}', end = '')\n",
    "        \n",
    "        print ('\\n   |')\n",
    "\n",
    "        if a[pc] == key:\n",
    "            return pc           # 검색 성공\n",
    "\n",
    "        elif a[pc] < key :\n",
    "            pl = pc + 1         # 검색 범위를 뒤쪽 절반으로 좁힘\n",
    "\n",
    "        else:\n",
    "            pr = pc -1          # 검색 범위를 앞쪽 절반으로 좁힘\n",
    "\n",
    "        if pl > pr:\n",
    "            break\n",
    "    return -1                   # 검색 실패\n",
    "\n",
    "\n",
    "if __name__ == \"__main__\":\n",
    "    num = int(input('원소 수를 입력하세요 : '))\n",
    "    x = [None] * num            # 원소 수가 num인 배열을 생성\n",
    "\n",
    "    print ('배열 데이터를 오름차순으로 입력하세요')\n",
    "\n",
    "    x[0] = int(input('x[0] : '))\n",
    "\n",
    "    for i in range(1, num):\n",
    "        while True:\n",
    "            x[i] = int(input(f'x[{i}] : '))\n",
    "            if x[i] >= x[i - 1]:        # 바로 직전에 입력한 원솟값보다 큰 값을 입력\n",
    "                break\n",
    "\n",
    "    ky = int(input('검색할 값을 입력하세요 : '))    # 검색할 키값 ky를 입력\n",
    "\n",
    "    idx = bin_search(x, ky)                         # ky값과 같은 원소를 x에서 검색\n",
    "\n",
    "    if idx == -1:\n",
    "        print ('검색값을 갖는 원소가 존재하지 않습니다')\n",
    "    else:\n",
    "        print (f'검색값은 x[{idx}]에 있습니다.')"
   ]
  },
  {
   "cell_type": "code",
   "execution_count": null,
   "metadata": {},
   "outputs": [],
   "source": []
  }
 ],
 "metadata": {
  "interpreter": {
   "hash": "0cf90eb564dcf90a219ae509985b5381d51b47d0448d01a29ea34215728d8c14"
  },
  "kernelspec": {
   "display_name": "Python 3.8.8 64-bit ('base': conda)",
   "language": "python",
   "name": "python3"
  },
  "language_info": {
   "codemirror_mode": {
    "name": "ipython",
    "version": 3
   },
   "file_extension": ".py",
   "mimetype": "text/x-python",
   "name": "python",
   "nbconvert_exporter": "python",
   "pygments_lexer": "ipython3",
   "version": "3.8.8"
  },
  "orig_nbformat": 4
 },
 "nbformat": 4,
 "nbformat_minor": 2
}
