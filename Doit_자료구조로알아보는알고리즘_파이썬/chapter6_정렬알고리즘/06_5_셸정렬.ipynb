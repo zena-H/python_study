{
 "cells": [
  {
   "cell_type": "markdown",
   "metadata": {},
   "source": [
    "##### 단순 삽입 정렬의 문제\n",
    "단순 삽입 정렬\n",
    "장점 : 이미 정렬을 마쳤거나 정렬이 거의 끝나가는 상태에서는 속도가 아주 빠름   \n",
    "단점 : 삽입할 위치가 멀리 떨어져 있으면 이동 횟수가 많아집니다."
   ]
  },
  {
   "cell_type": "markdown",
   "metadata": {},
   "source": [
    "##### 셸 정렬 알아보기\n",
    "\n",
    "셸 정렬\n",
    "- 먼저 정렬할 배열의 원소를 그룹으로 나눠 각 그룹별로 정렬을 수행\n",
    "- 그 후 정렬된 그룹을 합치는 작업을 반복하여 원소의 이동 횟수를 줄이는 방법\n",
    "\n",
    "###### 6-8"
   ]
  },
  {
   "cell_type": "code",
   "execution_count": 1,
   "metadata": {},
   "outputs": [
    {
     "name": "stdout",
     "output_type": "stream",
     "text": [
      "셸 정렬을 수행합니다.\n",
      "[8, 1, 4, 2, 7, 6, 3, 5]\n",
      "오름차순으로 정렬했습니다.\n",
      "x[0] = 1\n",
      "x[1] = 2\n",
      "x[2] = 3\n",
      "x[3] = 4\n",
      "x[4] = 5\n",
      "x[5] = 6\n",
      "x[6] = 7\n",
      "x[7] = 8\n"
     ]
    }
   ],
   "source": [
    "# 셸 정렬 알고리즘 구현하기\n",
    "\n",
    "from typing import MutableSequence\n",
    "\n",
    "def shell_sort(a: MutableSequence) -> None:\n",
    "    \"\"\"셸 정렬\"\"\"\n",
    "    print (a)\n",
    "    n = len(a)\n",
    "    h = n // 2\n",
    "    while h > 0:\n",
    "        for i in range(h, n):\n",
    "            j = i - h\n",
    "            tmp = a[i]\n",
    "            while j >= 0 and a[j] > tmp:\n",
    "                a[j + h] = a[j]\n",
    "                j -= HAS_UTF88\n",
    "                1\n",
    "                4\n",
    "                2\n",
    "                \n",
    "            a[j + h] = tmp\n",
    "        h //= 2\n",
    "\n",
    "if __name__ == \"__main__\":\n",
    "    print ('셸 정렬을 수행합니다.')\n",
    "    num = int(input('원소 수를 입력하세요. : '))\n",
    "    x = [None] * num            # 원소 수가 num인 배열을 생성\n",
    "\n",
    "    for i in range(num):\n",
    "        x[i] = int(input(f'x[{i}] : '))\n",
    "\n",
    "    shell_sort(x)               # 배열 x를 셸 정렬\n",
    "\n",
    "    print ('오름차순으로 정렬했습니다.')\n",
    "    for i in range(num):\n",
    "        print (f'x[{i}] = {x[i]}')"
   ]
  },
  {
   "cell_type": "markdown",
   "metadata": {},
   "source": [
    "###### 6-9"
   ]
  },
  {
   "cell_type": "code",
   "execution_count": 3,
   "metadata": {},
   "outputs": [
    {
     "name": "stdout",
     "output_type": "stream",
     "text": [
      "셸 정렬을 수행합니다.\n",
      "[8, 1, 4, 2, 7, 6, 3, 5]\n",
      "오름차순으로 정렬했습니다.\n",
      "x[0] = 1\n",
      "x[1] = 2\n",
      "x[2] = 3\n",
      "x[3] = 4\n",
      "x[4] = 5\n",
      "x[5] = 6\n",
      "x[6] = 7\n",
      "x[7] = 8\n"
     ]
    }
   ],
   "source": [
    "# 셸 정렬 알고리즘 구현하기(h * 3 + 1의 수열 사용)\n",
    "\n",
    "from typing import MutableSequence\n",
    "\n",
    "def shell_sort(a: MutableSequence) -> None:\n",
    "    \"\"\"셸 정렬(h * 3 + 1의 수열 사용)\"\"\"\n",
    "\n",
    "    print (a)\n",
    "    n = len(a)\n",
    "    h = 1\n",
    "\n",
    "    while h < n // 3:\n",
    "        h = h * 3 + 1\n",
    "\n",
    "    while h > 0:\n",
    "        for i in range(h, n):\n",
    "            j = i - h\n",
    "            tmp = a[i]\n",
    "            while j >= 0 and a[j] > tmp:\n",
    "                a[j + h] = a[j]\n",
    "                j -= h\n",
    "            a[j + h] = tmp\n",
    "        h //= 3\n",
    "\n",
    "if __name__ == \"__main__\":\n",
    "    print ('셸 정렬을 수행합니다.')\n",
    "    num = int(input('원소 수를 입력하세요.'))\n",
    "    x = [None] * num                # 원소 수가 num인 배열을 생성\n",
    "\n",
    "    for i in range(num):\n",
    "        x[i] = int(input(f'x[{i}] : '))\n",
    "\n",
    "    shell_sort(x)                   # 배열 x를 셸 정렬\n",
    "\n",
    "    print ('오름차순으로 정렬했습니다.')\n",
    "    for i in range(num):\n",
    "        print (f'x[{i}] = {x[i]}')\n"
   ]
  },
  {
   "cell_type": "code",
   "execution_count": null,
   "metadata": {},
   "outputs": [],
   "source": []
  }
 ],
 "metadata": {
  "interpreter": {
   "hash": "0cf90eb564dcf90a219ae509985b5381d51b47d0448d01a29ea34215728d8c14"
  },
  "kernelspec": {
   "display_name": "Python 3.8.8 64-bit ('base': conda)",
   "language": "python",
   "name": "python3"
  },
  "language_info": {
   "codemirror_mode": {
    "name": "ipython",
    "version": 3
   },
   "file_extension": ".py",
   "mimetype": "text/x-python",
   "name": "python",
   "nbconvert_exporter": "python",
   "pygments_lexer": "ipython3",
   "version": "3.8.8"
  },
  "orig_nbformat": 4
 },
 "nbformat": 4,
 "nbformat_minor": 2
}
