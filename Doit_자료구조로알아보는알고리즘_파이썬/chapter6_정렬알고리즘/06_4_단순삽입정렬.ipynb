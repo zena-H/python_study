{
 "cells": [
  {
   "cell_type": "markdown",
   "metadata": {},
   "source": [
    "##### 단순 삽입 정렬 알아보기\n",
    "단순 삽입 정렬 : 주목한 원소보다 더 앞쪽에서 알맞은 위치로 삽입하며 정렬하는 알고리즘\n",
    "\n",
    "###### 6-7"
   ]
  },
  {
   "cell_type": "code",
   "execution_count": 3,
   "metadata": {},
   "outputs": [
    {
     "name": "stdout",
     "output_type": "stream",
     "text": [
      "단순 삽입 정렬을 수행합니다.\n",
      "6 4 3 7 1 9 8\n",
      "4 6 3 7 1 9 8\n",
      "3 4 6 7 1 9 8\n",
      "3 4 6 7 1 9 8\n",
      "1 3 4 6 7 9 8\n",
      "1 3 4 6 7 9 8\n",
      "오름차순으로 정렬했습니다.\n",
      "x[0] = 1\n",
      "x[1] = 3\n",
      "x[2] = 4\n",
      "x[3] = 6\n",
      "x[4] = 7\n",
      "x[5] = 8\n",
      "x[6] = 9\n"
     ]
    }
   ],
   "source": [
    "# 단순 삽입 정렬 알고리즘 구현하기\n",
    "\n",
    "from typing import MutableSequence\n",
    "\n",
    "def insertion_sort(a: MutableSequence) -> None:\n",
    "    \"\"\"단순 삽입 정렬\"\"\"\n",
    "    n = len(a)\n",
    "    for i in range(1, n):\n",
    "        print(*a, sep = ' ')\n",
    "        j = i\n",
    "        tmp = a[i]\n",
    "        while j > 0 and a[j - 1] > tmp:\n",
    "            a[j] = a[j - 1]\n",
    "            j -= 1\n",
    "        a[j] = tmp\n",
    "        \n",
    "\n",
    "if __name__ == \"__main__\":\n",
    "    print ('단순 삽입 정렬을 수행합니다.')\n",
    "    num = int(input('원소 수를 입력하세요 : '))\n",
    "    x = [None] * num            # 원소 수가 num인 배열을 생성\n",
    "\n",
    "    for i in range(num):\n",
    "        x[i] = int(input(f'x[{i}] : '))\n",
    "\n",
    "    insertion_sort(x)       # 배열 x를 단순 삽입 정렬\n",
    "\n",
    "    print ('오름차순으로 정렬했습니다.')\n",
    "    for i in range(num):\n",
    "        print(f'x[{i}] = {x[i]}')"
   ]
  },
  {
   "cell_type": "markdown",
   "metadata": {},
   "source": [
    "###### 보충 수업 6-2 : 이진 삽입 정렬\n",
    "###### 이진 삽입 정렬 : 이진 검색법을 사용하여 삽입 정렬을 하여 이미 정렬을 마친 배열을 제외하고 원소를 삽입해야 할 위치를 검사하는 알고리즘\n",
    "\n",
    "###### 6C-1"
   ]
  },
  {
   "cell_type": "code",
   "execution_count": 5,
   "metadata": {},
   "outputs": [
    {
     "name": "stdout",
     "output_type": "stream",
     "text": [
      "이진 삽입 정렬을 수행합니다.\n",
      "6 4 3 7 1 9 8\n",
      "4 6 3 7 1 9 8\n",
      "3 4 6 7 1 9 8\n",
      "3 4 6 7 1 9 8\n",
      "1 3 4 6 7 9 8\n",
      "1 3 4 6 7 9 8\n",
      "오름차순으로 정렬했습니다.\n",
      "x[0] = 1\n",
      "x[1] = 3\n",
      "x[2] = 4\n",
      "x[3] = 6\n",
      "x[4] = 7\n",
      "x[5] = 8\n",
      "x[6] = 9\n"
     ]
    }
   ],
   "source": [
    "# 이진 삽입 정렬 알고리즘 구현하기\n",
    "\n",
    "from typing import MutableSequence\n",
    "\n",
    "def binary_insertion_sort(a: MutableSequence) -> None:\n",
    "    \"\"\"이진 삽입 정렬\"\"\"\n",
    "    n = len(a)\n",
    "    for i in range(1, n):\n",
    "        print (*a, sep = ' ')\n",
    "        key = a[i]\n",
    "        pl = 0                                  # 검색 범위의 맨 앞 원소 인덱스\n",
    "        pr = i - 1                              # 검색 범위의 맨 끝 원소 인덱스\n",
    "\n",
    "        while True:\n",
    "            pc = (pl + pr) // 2                 # 검색 범위의 가운데 원소 인덱스\n",
    "            if a[pc] == key:                    # 검색 성공\n",
    "                break\n",
    "            elif a[pc] < key:\n",
    "                pl = pc + 1                     # 검색 범위를 뒤쪽 절반으로 좁힘\n",
    "            else:\n",
    "                pr = pc -1                      # 검색 범위를 앞쪽 절반으로 좁힘\n",
    "            if pl > pr:\n",
    "                break\n",
    "\n",
    "        pd = pc + 1 if pl <= pr else pr + 1     # 삽입해야 할 위치의 인덱스\n",
    "\n",
    "        for j in range(i, pd, -1):\n",
    "            a[j] = a[j - 1]\n",
    "        a[pd] = key\n",
    "\n",
    "if __name__ == \"__main__\":\n",
    "    print ('이진 삽입 정렬을 수행합니다.')\n",
    "    num = int(input(\"원소 수를 입력하세요 : \"))\n",
    "    x = [None] * num                            # 원소 수가 num인 배열을 생성\n",
    "\n",
    "    for i in range(num):\n",
    "        x[i] = int(input(f'x[{i}] : '))\n",
    "\n",
    "    binary_insertion_sort(x)                    # 배열 x를 이진 삽입 정렬\n",
    "\n",
    "    print ('오름차순으로 정렬했습니다.')\n",
    "    \n",
    "    for i in range(num):\n",
    "        print(f'x[{i}] = {x[i]}')"
   ]
  },
  {
   "cell_type": "markdown",
   "metadata": {},
   "source": [
    "###### 6C-2"
   ]
  },
  {
   "cell_type": "code",
   "execution_count": 8,
   "metadata": {},
   "outputs": [
    {
     "name": "stdout",
     "output_type": "stream",
     "text": [
      "이진 삽입 정렬을 수행합니다.\n",
      "6 4 3 7 1 9 8\n",
      "4 6 3 7 1 9 8\n",
      "3 4 6 7 1 9 8\n",
      "3 4 6 7 1 9 8\n",
      "1 3 4 6 7 9 8\n",
      "1 3 4 6 7 9 8\n",
      "오름차순으로 정렬했습니다.\n",
      "x[0] = 1\n",
      "x[1] = 3\n",
      "x[2] = 4\n",
      "x[3] = 6\n",
      "x[4] = 7\n",
      "x[5] = 8\n",
      "x[6] = 9\n"
     ]
    }
   ],
   "source": [
    "# 이진 삽입 정렬 알고리즘 구현(bisect.insort 사용)\n",
    "\n",
    "from typing import MutableSequence\n",
    "import bisect\n",
    "\n",
    "def binary_insertion_sort(a: MutableSequence) -> None:\n",
    "    \"\"\"이진 삽입 정렬(bisect.insort 사용)\"\"\"\n",
    "    for i in range(1, len(a)):\n",
    "        print (*a, sep = ' ')\n",
    "        bisect.insort(a, a.pop(i), 0, i)\n",
    "\n",
    "if __name__ == \"__main__\":\n",
    "    print ('이진 삽입 정렬을 수행합니다.')\n",
    "    num = int(input(\"원소 수를 입력하세요 : \"))\n",
    "    x = [None] * num                            # 원소 수가 num인 배열을 생성\n",
    "\n",
    "    for i in range(num):\n",
    "        x[i] = int(input(f'x[{i}] : '))\n",
    "\n",
    "    binary_insertion_sort(x)                    # 배열 x를 이진 삽입 정렬\n",
    "\n",
    "    print ('오름차순으로 정렬했습니다.')\n",
    "    \n",
    "    for i in range(num):\n",
    "        print(f'x[{i}] = {x[i]}')\n"
   ]
  },
  {
   "cell_type": "code",
   "execution_count": null,
   "metadata": {},
   "outputs": [],
   "source": []
  }
 ],
 "metadata": {
  "interpreter": {
   "hash": "0cf90eb564dcf90a219ae509985b5381d51b47d0448d01a29ea34215728d8c14"
  },
  "kernelspec": {
   "display_name": "Python 3.8.8 64-bit ('base': conda)",
   "language": "python",
   "name": "python3"
  },
  "language_info": {
   "codemirror_mode": {
    "name": "ipython",
    "version": 3
   },
   "file_extension": ".py",
   "mimetype": "text/x-python",
   "name": "python",
   "nbconvert_exporter": "python",
   "pygments_lexer": "ipython3",
   "version": "3.8.8"
  },
  "orig_nbformat": 4
 },
 "nbformat": 4,
 "nbformat_minor": 2
}
