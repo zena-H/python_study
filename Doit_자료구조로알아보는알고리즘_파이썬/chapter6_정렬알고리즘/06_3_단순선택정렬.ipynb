{
 "cells": [
  {
   "cell_type": "markdown",
   "metadata": {},
   "source": [
    "##### 단순 선택 정렬 알아보기\n",
    "단순 선택 정렬 : 가장 작은 원소부터 선택해 알맞은 위치로 옮기는 작업을 반복하여 정렬하는 알고리즘 \n",
    "\n",
    "###### 6-6"
   ]
  },
  {
   "cell_type": "code",
   "execution_count": 4,
   "metadata": {},
   "outputs": [
    {
     "name": "stdout",
     "output_type": "stream",
     "text": [
      "버블 정렬을 수행합니다.\n",
      "34231\n",
      "14233\n",
      "12433\n",
      "12343\n",
      "[1, 2, 3, 3, 4]\n"
     ]
    }
   ],
   "source": [
    "# 단순 선택 정렬 알고리즘 구현하기\n",
    "\n",
    "from typing import MutableSequence\n",
    "\n",
    "def selection_sort(a: MutableSequence) -> None:\n",
    "    \"\"\"단순 선택 정렬\"\"\"\n",
    "    n = len(a)\n",
    "    for i in range(n - 1):\n",
    "        print (*a, sep= '', end = '')\n",
    "        min = i     # 정렬할 부분에서 가장 작은 원소의 인덱스\n",
    "        for j in range(i + 1, n):\n",
    "            if a[j] < a[min]:\n",
    "                min = j\n",
    "\n",
    "        a[min], a[i] = a[i], a[min]     # 정렬할 부분에서 맨 앞의 원소와 가장 작은 원소를 교환\n",
    "        print ()\n",
    "    \n",
    "\n",
    "if __name__ == \"__main__\":\n",
    "    num = int(input('원소 수를 입력하세요 : '))\n",
    "    x = [None] * num\n",
    "\n",
    "    for i in range(num):\n",
    "        x[i] = int(input(f'x[{i}] : '))\n",
    "\n",
    "    print ('버블 정렬을 수행합니다.')\n",
    "\n",
    "    selection_sort(x) \n",
    "    print (x)           "
   ]
  },
  {
   "cell_type": "code",
   "execution_count": null,
   "metadata": {},
   "outputs": [],
   "source": []
  }
 ],
 "metadata": {
  "interpreter": {
   "hash": "0cf90eb564dcf90a219ae509985b5381d51b47d0448d01a29ea34215728d8c14"
  },
  "kernelspec": {
   "display_name": "Python 3.8.8 64-bit ('base': conda)",
   "language": "python",
   "name": "python3"
  },
  "language_info": {
   "codemirror_mode": {
    "name": "ipython",
    "version": 3
   },
   "file_extension": ".py",
   "mimetype": "text/x-python",
   "name": "python",
   "nbconvert_exporter": "python",
   "pygments_lexer": "ipython3",
   "version": "3.8.8"
  },
  "orig_nbformat": 4
 },
 "nbformat": 4,
 "nbformat_minor": 2
}
