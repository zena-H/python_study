{
 "cells": [
  {
   "cell_type": "code",
   "execution_count": null,
   "metadata": {},
   "outputs": [],
   "source": []
  },
  {
   "cell_type": "markdown",
   "metadata": {},
   "source": [
    "##### 버블 정렬 알아보기\n",
    "\n",
    "###### 6-1"
   ]
  },
  {
   "cell_type": "code",
   "execution_count": 1,
   "metadata": {},
   "outputs": [
    {
     "name": "stdout",
     "output_type": "stream",
     "text": [
      "버블 정렬을 수행합니다.\n",
      "[6, 4, 3, 7, 1, 9, 8]\n",
      "오름차순으로 정렬했습니다.\n",
      "x[0] = 1\n",
      "x[1] = 3\n",
      "x[2] = 4\n",
      "x[3] = 6\n",
      "x[4] = 7\n",
      "x[5] = 8\n",
      "x[6] = 9\n"
     ]
    }
   ],
   "source": [
    "# 버블 정렬 알고리즘 구현하기\n",
    "\n",
    "from typing import MutableSequence\n",
    "\n",
    "def bubble_sort(a: MutableSequence) -> None:\n",
    "    \"\"\"버블 정렬\"\"\"\n",
    "    n = len(a)\n",
    "    for i in range(n - 1):\n",
    "        for j in range(n - 1, i, -1):\n",
    "            if a[j - 1] > a[j]:\n",
    "                a[j - 1], a[j] = a[j], a[j - 1]\n",
    "\n",
    "if __name__==\"__main__\":\n",
    "    print('버블 정렬을 수행합니다.')\n",
    "    num = int(input('원소 수를 입력하세요.'))\n",
    "\n",
    "    x = [None] * num        # 원소 수가 num인 배열을 생성\n",
    "\n",
    "    for i in range(num):\n",
    "        x[i] = int(input(f'x[{i}] : '))\n",
    "\n",
    "    print (x)\n",
    "\n",
    "    bubble_sort(x)          # 배열 x를 버블 정렬\n",
    "\n",
    "    print ('오름차순으로 정렬했습니다.')\n",
    "    for i in range(num):\n",
    "        print (f'x[{i}] = {x[i]}')"
   ]
  },
  {
   "cell_type": "markdown",
   "metadata": {},
   "source": [
    "###### 6-2"
   ]
  },
  {
   "cell_type": "code",
   "execution_count": 17,
   "metadata": {},
   "outputs": [
    {
     "name": "stdout",
     "output_type": "stream",
     "text": [
      "버블 정렬을 수행합니다.\n",
      "[1, 3, 9, 4, 7, 8, 6]\n",
      "패스 1\n",
      " 1   3   9   4   7   8 + 6\n",
      " 1   3   9   4   7 + 6   8\n",
      " 1   3   9   4 - 6   7   8\n",
      " 1   3   9 + 4   6   7   8\n",
      " 1   3 - 4   9   6   7   8\n",
      " 1 - 3   4   9   6   7   8\n",
      " 1 3 4 9 6 7 8\n",
      "패스 2\n",
      " 1   3   4   9   6   7 - 8\n",
      " 1   3   4   9   6 - 7   8\n",
      " 1   3   4   9 + 6   7   8\n",
      " 1   3   4 - 6   9   7   8\n",
      " 1   3 - 4   6   9   7   8\n",
      " 1 3 4 6 9 7 8\n",
      "패스 3\n",
      " 1   3   4   6   9   7 - 8\n",
      " 1   3   4   6   9 + 7   8\n",
      " 1   3   4   6 - 7   9   8\n",
      " 1   3   4 - 6   7   9   8\n",
      " 1 3 4 6 7 9 8\n",
      "패스 4\n",
      " 1   3   4   6   7   9 + 8\n",
      " 1   3   4   6   7 - 8   9\n",
      " 1   3   4   6 - 7   8   9\n",
      " 1 3 4 6 7 8 9\n",
      "패스 5\n",
      " 1   3   4   6   7   8 - 9\n",
      " 1   3   4   6   7 - 8   9\n",
      " 1 3 4 6 7 8 9\n",
      "패스 6\n",
      " 1   3   4   6   7   8 - 9\n",
      " 1 3 4 6 7 8 9\n",
      "비교를 21번 했습니다.\n",
      "교환을 6번 했습니다.\n",
      "오름차순으로 정렬했습니다.\n"
     ]
    }
   ],
   "source": [
    "# 버블 정렬 알고리즘 구현하기(정렬 과정을 출력)\n",
    "\n",
    "from typing import MutableSequence\n",
    "\n",
    "def bubble_sort_verbose(a: MutableSequence) -> None:\n",
    "    \"\"\"버블 정렬 (정렬 과정을 출력)\"\"\"\n",
    "    ccnt = 0    # 비교 횟수\n",
    "    scnt = 0    # 교환 횟수\n",
    "    n = len(a)\n",
    "    for i in range(n - 1):\n",
    "        print (f'패스 {i + 1}')\n",
    "        for j in range(n - 1, i, -1):\n",
    "            for m in range(0, n - 1):\n",
    "                print(f'{a[m]: 2}' + (  '  ' if m != j - 1 else \n",
    "                                        ' +' if a[j - 1] > a[j] else ' -'), end = '')\n",
    "            print(f'{a[n - 1]: 2}')\n",
    "            ccnt += 1\n",
    "            if a[j - 1] > a[j]:\n",
    "                scnt += 1\n",
    "                a[j - 1], a[j] = a[j], a[j - 1]\n",
    "        \n",
    "        for m in range(0, n - 1):\n",
    "            print (f'{a[m]: 2}', end = '')\n",
    "        print(f'{a[n - 1]: 2}')\n",
    "    print(f'비교를 {ccnt}번 했습니다.')\n",
    "    print(f'교환을 {scnt}번 했습니다.')\n",
    "\n",
    "if __name__ == \"__main__\":\n",
    "    print ('버블 정렬을 수행합니다.')\n",
    "    num = int(input('원소 수를 입력하세요 : '))\n",
    "    x = [None] * num\n",
    "\n",
    "    for i in range(num):\n",
    "        x[i] = int(input(f'x[{i}] : '))\n",
    "\n",
    "    print (x)\n",
    "\n",
    "    bubble_sort_verbose(x)\n",
    "\n",
    "    print ('오름차순으로 정렬했습니다.')\n"
   ]
  },
  {
   "cell_type": "markdown",
   "metadata": {},
   "source": [
    "###### 6-3"
   ]
  },
  {
   "cell_type": "code",
   "execution_count": 19,
   "metadata": {},
   "outputs": [
    {
     "name": "stdout",
     "output_type": "stream",
     "text": [
      "버블 정렬을 수행합니다.\n",
      "[1, 3, 9, 4, 7, 8, 6]\n",
      "비교를 20번 했습니다.\n",
      "교환을 6번 했습니다\n",
      "[1, 3, 4, 6, 7, 8, 9]\n"
     ]
    }
   ],
   "source": [
    "# 버블 정렬 알고리즘 구현하기(알고리즘의 개선 1)\n",
    "\n",
    "from typing import MutableSequence\n",
    "\n",
    "def bubble_sort(a: MutableSequence) -> None:\n",
    "    \"\"\"버블 정렬(교환 횟수에 따른 중단)\"\"\"\n",
    "    ccnt = 0            # 비교 횟수\n",
    "    scnt = 0            # 교환 횟수\n",
    "    n = len(a)\n",
    "    for i in range(n - 1):\n",
    "        exchng = 0      # 패스에서 교환 횟수\n",
    "        for j in range(n - 1, i, -1):\n",
    "            ccnt += 1\n",
    "            \n",
    "            if a[j - 1] > a[j]:\n",
    "                a[j - 1], a[j] = a[j], a[j - 1]\n",
    "                scnt += 1\n",
    "                exchng += 1\n",
    "        if exchng == 0:\n",
    "            break\n",
    "    print(f'비교를 {ccnt}번 했습니다.')\n",
    "    print(f'교환을 {scnt}번 했습니다')\n",
    "\n",
    "if __name__ == \"__main__\":\n",
    "    print ('버블 정렬을 수행합니다.')\n",
    "    num = int(input('원소 수를 입력하세요 : '))\n",
    "    x = [None] * num\n",
    "\n",
    "    for i in range(num):\n",
    "        x[i] = int(input(f'x[{i}] : '))\n",
    "\n",
    "    print (x)\n",
    "\n",
    "    bubble_sort(x)\n",
    "    print (x)"
   ]
  },
  {
   "cell_type": "markdown",
   "metadata": {},
   "source": [
    "###### 6-4"
   ]
  },
  {
   "cell_type": "code",
   "execution_count": 20,
   "metadata": {},
   "outputs": [
    {
     "name": "stdout",
     "output_type": "stream",
     "text": [
      "버블 정렬을 수행합니다.\n",
      "[1, 3, 9, 4, 7, 8, 6]\n",
      "비교를 12번 했습니다.\n",
      "교환을 6번 했습니다.\n",
      "[1, 3, 4, 6, 7, 8, 9]\n"
     ]
    }
   ],
   "source": [
    "# 버블 정렬 알고리즘 구현하기(알고리즘의 구현 2)\n",
    "\n",
    "from typing import MutableSequence\n",
    "\n",
    "def bubble_sort(a: MutableSequence) -> None:\n",
    "    \"\"\"버블 정렬(스캔 범위를 제한)\"\"\"\n",
    "    print (a)\n",
    "\n",
    "    ccnt = 0        # 비교 횟수\n",
    "    scnt = 0        # 교환 횟수\n",
    "    n = len(a)\n",
    "    k = 0\n",
    "    while k < n - 1:\n",
    "        last = n - 1\n",
    "        for j in range(n - 1, k, -1):\n",
    "            ccnt += 1\n",
    "            if a[j - 1] > a[j]:\n",
    "                a[j - 1], a[j] = a[j], a[j - 1]\n",
    "                scnt += 1\n",
    "                last = j\n",
    "        k = last\n",
    "\n",
    "    print (f'비교를 {ccnt}번 했습니다.')\n",
    "    print (f'교환을 {scnt}번 했습니다.')\n",
    "    print (a)\n",
    "\n",
    "if __name__ == \"__main__\":\n",
    "    num = int(input('원소 수를 입력하세요 : '))\n",
    "    x = [None] * num\n",
    "\n",
    "    for i in range(num):\n",
    "        x[i] = int(input(f'x[{i}] : '))\n",
    "\n",
    "    print ('버블 정렬을 수행합니다.')\n",
    "\n",
    "    bubble_sort(x)"
   ]
  },
  {
   "cell_type": "code",
   "execution_count": 43,
   "metadata": {},
   "outputs": [
    {
     "name": "stdout",
     "output_type": "stream",
     "text": [
      "버블 정렬을 수행합니다.\n",
      "[9, 1, 3, 4, 6, 7, 8]\n",
      " 9   1   3   4   6   7 - 8\n",
      " 9   1   3   4   6 - 7   8\n",
      " 9   1   3   4 - 6   7   8\n",
      " 9   1   3 - 4   6   7   8\n",
      " 9   1 - 3   4   6   7   8\n",
      " 9 + 1   3   4   6   7   8\n",
      "1   9   3   4   6   7   8\n",
      " 1 + 9   3   4   6   7   8\n",
      " 1   3 + 9   4   6   7   8\n",
      " 1   3   4 + 9   6   7   8\n",
      " 1   3   4   6 + 9   7   8\n",
      " 1   3   4   6   7 + 9   8\n",
      "1   3   4   6   7   8   9\n",
      " 1   3   4   6   7 - 8   9\n",
      " 1   3   4   6 - 7   8   9\n",
      " 1   3   4 - 6   7   8   9\n",
      " 1   3 - 4   6   7   8   9\n",
      "1   3   4   6   7   8   9\n",
      "1   3   4   6   7   8   9\n",
      "비교를 10번 했습니다.\n",
      "교환을 6번 했습니다.\n",
      "[1, 3, 4, 6, 7, 8, 9]\n"
     ]
    }
   ],
   "source": [
    "# 셰이커 정렬 알고리즘 구현하기\n",
    "\n",
    "from typing import MutableSequence\n",
    "\n",
    "def shaker_sort(a: MutableSequence) -> None:\n",
    "    \"\"\"셰이커 정렬\"\"\"\n",
    "    print (a)\n",
    "    \n",
    "    ccnt = 0        # 비교 횟수\n",
    "    scnt = 0        # 교환 횟수\n",
    "    left = 0\n",
    "    right = len(a) - 1\n",
    "    last = right\n",
    "    n = right\n",
    "    \n",
    "    while left < right:\n",
    "        for j in range(right, left, -1):\n",
    "            ccnt += 1\n",
    "            for m in range(0, n):\n",
    "                print(f'{a[m]: 2}' + (  '  ' if m != j - 1 else \n",
    "                                        ' +' if a[j - 1] > a[j] else ' -'), end = '')\n",
    "            print(f'{a[n]: 2}')\n",
    "            \n",
    "\n",
    "            if a[j - 1] > a[j]:\n",
    "                a[j - 1], a[j] = a[j], a[j - 1]\n",
    "                last = j\n",
    "                scnt += 1\n",
    "        left = last\n",
    "        print(*a , sep = '   ', end='')\n",
    "        print ()\n",
    "        for j in range(left, right):\n",
    "            for m in range(0, n):\n",
    "                print(f'{a[m]: 2}' + (  '  ' if m != j - 1 else \n",
    "                                        ' +' if a[j - 1] < a[j] else ' -'), end = '')\n",
    "            print(f'{a[n]: 2}')\n",
    "            if a[j] > a[j + 1]:\n",
    "                a[j], a[j + 1] = a[j + 1], a[j]\n",
    "                last = j\n",
    "                scnt += 1\n",
    "        right = last\n",
    "        \n",
    "        print(*a , sep = '   ', end='')\n",
    "        print()\n",
    "    print (f'비교를 {ccnt}번 했습니다.')\n",
    "    print (f'교환을 {scnt}번 했습니다.')\n",
    "    print (a)\n",
    "            \n",
    "\n",
    "if __name__ == \"__main__\":\n",
    "    num = int(input('원소 수를 입력하세요 : '))\n",
    "    x = [None] * num\n",
    "\n",
    "    for i in range(num):\n",
    "        x[i] = int(input(f'x[{i}] : '))\n",
    "\n",
    "    print ('버블 정렬을 수행합니다.')\n",
    "\n",
    "    shaker_sort(x)            "
   ]
  },
  {
   "cell_type": "code",
   "execution_count": null,
   "metadata": {},
   "outputs": [],
   "source": []
  }
 ],
 "metadata": {
  "interpreter": {
   "hash": "0cf90eb564dcf90a219ae509985b5381d51b47d0448d01a29ea34215728d8c14"
  },
  "kernelspec": {
   "display_name": "Python 3.8.8 64-bit ('base': conda)",
   "language": "python",
   "name": "python3"
  },
  "language_info": {
   "codemirror_mode": {
    "name": "ipython",
    "version": 3
   },
   "file_extension": ".py",
   "mimetype": "text/x-python",
   "name": "python",
   "nbconvert_exporter": "python",
   "pygments_lexer": "ipython3",
   "version": "3.8.8"
  },
  "orig_nbformat": 4
 },
 "nbformat": 4,
 "nbformat_minor": 2
}
