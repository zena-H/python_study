{
 "cells": [
  {
   "cell_type": "markdown",
   "metadata": {},
   "source": [
    "리스트 : 데이터에 순서를 매겨 늘어놓은 자료구조  \n",
    "선형리스트 , 연결리스트\n",
    "\n",
    "##### 연결 리스트 알아보기\n",
    "데이터가 순서대로 나열되고, 각 데이터가 화살표로 연결되어있음  \n",
    "노드\n",
    "    - 각각의 원소\n",
    "    - 데이터, 포인터(뒤쪽 노드를 가리킴(참조함)) "
   ]
  },
  {
   "cell_type": "markdown",
   "metadata": {},
   "source": [
    "단순 배열 연결리스트의 문제\n",
    "- 데이터를 삽입, 삭제함에 따라 데이터를 옮겨야 하므로 효율적이지 못함"
   ]
  }
 ],
 "metadata": {
  "interpreter": {
   "hash": "0cf90eb564dcf90a219ae509985b5381d51b47d0448d01a29ea34215728d8c14"
  },
  "kernelspec": {
   "display_name": "Python 3.8.8 64-bit ('base': conda)",
   "language": "python",
   "name": "python3"
  },
  "language_info": {
   "name": "python",
   "version": "3.8.8"
  },
  "orig_nbformat": 4
 },
 "nbformat": 4,
 "nbformat_minor": 2
}
