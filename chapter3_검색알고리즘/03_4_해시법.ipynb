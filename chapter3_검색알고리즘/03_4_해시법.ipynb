{
 "cells": [
  {
   "cell_type": "markdown",
   "metadata": {},
   "source": [
    "##### 해시법\n",
    "- 해시법 : '데이터를 저장할 위치 = 인덱스'를 간단한 연산으로 구하는 것\n",
    "- 해시 함수 : 키를 해시값으로 변환하는 과정\n",
    "- 버킷 : 해시테이블에서 만들어진 원소"
   ]
  },
  {
   "cell_type": "markdown",
   "metadata": {},
   "source": [
    "##### 해시 충돌\n",
    "키와 해시값은 일반적으로 다대일(n:1) 관계\n",
    "- 충돌 : 저장할 버킷이 중복되는 현상\n",
    "- 충돌 해결 방법 \n",
    "    - 체인법 : 해시값이 같은 원소를 연결 리스트로 관리\n",
    "    - 오픈 주소법 : 빈 버킷을 찾을 때까지 해시를 반복"
   ]
  },
  {
   "cell_type": "markdown",
   "metadata": {},
   "source": [
    "##### 체인법\n",
    "- 체인법(오픈 해시법) : 해시값이 같은 데이터를 체인 모양의 연결 리스트로 연결하는 방법\n",
    "###### 3-5[A]"
   ]
  },
  {
   "cell_type": "code",
   "execution_count": 2,
   "metadata": {},
   "outputs": [],
   "source": [
    "# 체인법으로 해시 함수 구현하기\n",
    "\n",
    "from __future__ import annotations\n",
    "from typing import Any, Type\n",
    "import hashlib\n",
    "\n",
    "class Node:\n",
    "    \"\"\"해시를 구성하는 노드\"\"\"\n",
    "\n",
    "    def __init__(self, key: Any, value: Any, next: Node) -> None:\n",
    "        \"\"\"초기화\"\"\"\n",
    "        self.key = key      # 키\n",
    "        self.value = value  # 값\n",
    "        self.next = next    # 뒤쪽 노드를 참조"
   ]
  },
  {
   "cell_type": "markdown",
   "metadata": {},
   "source": [
    "###### 3-5[B, C, D]"
   ]
  },
  {
   "cell_type": "code",
   "execution_count": 3,
   "metadata": {},
   "outputs": [],
   "source": [
    "class ChainedHash:\n",
    "    \"\"\"체인법으로 해시 클래스 구현\"\"\"\n",
    "\n",
    "    def __init__(self, capacity: int) -> None:\n",
    "        \"\"\"초기화\"\"\"\n",
    "        self.capacity = capacity        # 해시 테이블의 크기를 지정\n",
    "        self.table = [None] * self.capacity # 해시테이블(리스트)를 선언\n",
    "\n",
    "    def hash_value(self, key:Any) -> int:\n",
    "        \"\"\"해시값을 구함\"\"\"\n",
    "        if isinstance(key, int):\n",
    "            return key % self.capacity\n",
    "        return (int(hashlib.sha256(str(key).encode()).hexdigest(), 16) % self.capacity)\n",
    "\n",
    "    def search(self, key: Any) -> Any:\n",
    "        \"\"\"키가 key인 원소를 검색하여 값을 반환\"\"\"\n",
    "        hash = self.hash_value(key)         # 검색하는 키의 해시값\n",
    "        p = self.table[hash]                # 노드를 주목\n",
    "\n",
    "        while p is not None:\n",
    "            if p.key == key:\n",
    "                return p.value              # 검색 성공\n",
    "            p = p.next                      # 뒤쪽 노드를 주목\n",
    "\n",
    "        return None                         # 검색 실패\n",
    "\n",
    "    def add(self, key: Any, value: Any) -> bool:\n",
    "        \"\"\"키가 key이고 값이 value인 원소를 추가\"\"\"\n",
    "        hash = self.hash_value(key)         # 추가하는 key의 해시값\n",
    "        p = self.table[hash]                # 노드를 주목\n",
    "\n",
    "        while p is not None:\n",
    "            if p.key == key:\n",
    "                return False                # 추가 실패\n",
    "            p = p.next                      # 뒤쪽 노드를 주목\n",
    "\n",
    "        temp = Node(key, value, self.table[hash])   \n",
    "        self.table[hash] = temp             # 노드를 추가\n",
    "        return True                         # 추가 성공\n",
    "\n",
    "    def remove(self, key: Any) -> bool:\n",
    "        \"\"\"키가 key인 원소를 삭제\"\"\"\n",
    "        hash = self.hash_value(key)     # 삭제할 key의 hash값\n",
    "        p = self.table[hash]            # 노드를 주목\n",
    "        pp = None                       # 바로 앞의 노드를 주목\n",
    "\n",
    "        while p is not None:\n",
    "            if p.key == key:            # key를 발견하면 아래를 실행\n",
    "                if pp is None:\n",
    "                    self.table[hash] = p.next\n",
    "                else:\n",
    "                    pp.next = p.next\n",
    "                return True     # key 삭제 성공\n",
    "\n",
    "            pp = p\n",
    "            p = p.next                  # 뒤쪽 노드를 주목\n",
    "        return False                    # 삭제 실패(key가 존재하지 않음)\n",
    "\n",
    "    def dump(self) -> None:\n",
    "        \"\"\"해시 테이블을 덤프\"\"\"\n",
    "        for i in range(self.capacity):\n",
    "            p = self.table[i]\n",
    "            print (i, end='')\n",
    "            while p is not None:\n",
    "                print (f'  -> {p.key} ({p.value})', end = '')\n",
    "                p = p.next\n",
    "            print ()"
   ]
  },
  {
   "cell_type": "markdown",
   "metadata": {},
   "source": [
    "- sha256 알고리즘 : hashlib 모듈에서 제공하는 sha256은 RSA의 FIPS 알고리즘을 바탕으로 하며, 주어진 바이트(byte) 문자열의 해시값을 구하는 해시 알고리즘의 생성자(xonstructor)입니다. hashlib모듈은 sha256 외에도 MD5 알고리즘인 md5 등 다양한 해시 알고리즘을 제공합니다.  \n",
    "  \n",
    "- encode() 함수 : hashlib.sha256에는 바이트 문자열의 인수를 전달해야합니다. 그래서 key를 str형 문자열로 변환한 뒤 그 문자열을 encode() 함수에 전달하여 바이트 문자열을 생성합니다.\n",
    "\n",
    "- hexdigest() 함수 : sha256 알고리즘에서 해시값을 16진수 문자열로 꺼냅니다.\n",
    "\n",
    "- int() 함수 : hexdigest() 함수로 꺼낸 문자열을 16진수 문자열로 하는 int형으로 변환합니다."
   ]
  },
  {
   "cell_type": "markdown",
   "metadata": {},
   "source": [
    "###### 3-6"
   ]
  },
  {
   "cell_type": "code",
   "execution_count": 8,
   "metadata": {},
   "outputs": [
    {
     "name": "stdout",
     "output_type": "stream",
     "text": [
      "(1)추가  (2)삭제  (3)검색  (4)덤프  (5)종료"
     ]
    },
    {
     "ename": "NameError",
     "evalue": "name 'Node' is not defined",
     "output_type": "error",
     "traceback": [
      "\u001b[1;31m---------------------------------------------------------------------------\u001b[0m",
      "\u001b[1;31mNameError\u001b[0m                                 Traceback (most recent call last)",
      "\u001b[1;32m<ipython-input-8-8c5346644ce6>\u001b[0m in \u001b[0;36m<module>\u001b[1;34m\u001b[0m\n\u001b[0;32m     21\u001b[0m         \u001b[0mkey\u001b[0m \u001b[1;33m=\u001b[0m \u001b[0mint\u001b[0m\u001b[1;33m(\u001b[0m\u001b[0minput\u001b[0m\u001b[1;33m(\u001b[0m\u001b[1;34m'추가할 키를 입력하세요 : '\u001b[0m\u001b[1;33m)\u001b[0m\u001b[1;33m)\u001b[0m\u001b[1;33m\u001b[0m\u001b[1;33m\u001b[0m\u001b[0m\n\u001b[0;32m     22\u001b[0m         \u001b[0mval\u001b[0m \u001b[1;33m=\u001b[0m \u001b[0minput\u001b[0m\u001b[1;33m(\u001b[0m\u001b[1;34m'추가할 값을 입력하세요 : '\u001b[0m\u001b[1;33m)\u001b[0m\u001b[1;33m\u001b[0m\u001b[1;33m\u001b[0m\u001b[0m\n\u001b[1;32m---> 23\u001b[1;33m         \u001b[1;32mif\u001b[0m \u001b[1;32mnot\u001b[0m \u001b[0mhash\u001b[0m\u001b[1;33m.\u001b[0m\u001b[0madd\u001b[0m\u001b[1;33m(\u001b[0m\u001b[0mkey\u001b[0m\u001b[1;33m,\u001b[0m \u001b[0mval\u001b[0m\u001b[1;33m)\u001b[0m\u001b[1;33m:\u001b[0m\u001b[1;33m\u001b[0m\u001b[1;33m\u001b[0m\u001b[0m\n\u001b[0m\u001b[0;32m     24\u001b[0m             \u001b[0mprint\u001b[0m \u001b[1;33m(\u001b[0m\u001b[1;34m'추가를 실패했습니다.'\u001b[0m\u001b[1;33m)\u001b[0m\u001b[1;33m\u001b[0m\u001b[1;33m\u001b[0m\u001b[0m\n\u001b[0;32m     25\u001b[0m \u001b[1;33m\u001b[0m\u001b[0m\n",
      "\u001b[1;32mc:\\Users\\han71\\Desktop\\python_study\\chapter3_검색알고리즘\\chained_hash.py\u001b[0m in \u001b[0;36madd\u001b[1;34m(self, key, value)\u001b[0m\n\u001b[0;32m     39\u001b[0m             \u001b[0mp\u001b[0m \u001b[1;33m=\u001b[0m \u001b[0mp\u001b[0m\u001b[1;33m.\u001b[0m\u001b[0mnext\u001b[0m                      \u001b[1;31m# 뒤쪽 노드를 주목\u001b[0m\u001b[1;33m\u001b[0m\u001b[1;33m\u001b[0m\u001b[0m\n\u001b[0;32m     40\u001b[0m \u001b[1;33m\u001b[0m\u001b[0m\n\u001b[1;32m---> 41\u001b[1;33m         \u001b[1;32mreturn\u001b[0m \u001b[1;32mNone\u001b[0m                         \u001b[1;31m# 검색 실패\u001b[0m\u001b[1;33m\u001b[0m\u001b[1;33m\u001b[0m\u001b[0m\n\u001b[0m\u001b[0;32m     42\u001b[0m \u001b[1;33m\u001b[0m\u001b[0m\n\u001b[0;32m     43\u001b[0m     \u001b[1;32mdef\u001b[0m \u001b[0madd\u001b[0m\u001b[1;33m(\u001b[0m\u001b[0mself\u001b[0m\u001b[1;33m,\u001b[0m \u001b[0mkey\u001b[0m\u001b[1;33m:\u001b[0m \u001b[0mAny\u001b[0m\u001b[1;33m,\u001b[0m \u001b[0mvalue\u001b[0m\u001b[1;33m:\u001b[0m \u001b[0mAny\u001b[0m\u001b[1;33m)\u001b[0m \u001b[1;33m->\u001b[0m \u001b[0mbool\u001b[0m\u001b[1;33m:\u001b[0m\u001b[1;33m\u001b[0m\u001b[1;33m\u001b[0m\u001b[0m\n",
      "\u001b[1;31mNameError\u001b[0m: name 'Node' is not defined"
     ]
    }
   ],
   "source": [
    "from enum import Enum\n",
    "from chained_hash import ChainedHash\n",
    "\n",
    "Menu = Enum('Menu', ['추가', '삭제', '검색', '덤프', '종료'])   # 메뉴를 선언\n",
    "\n",
    "def select_menu() -> Menu:\n",
    "    \"\"\"메뉴 선택\"\"\"\n",
    "    s = [f'({m.value}){m.name}' for m in Menu]\n",
    "    while True:\n",
    "        print (*s, sep = '  ', end='')\n",
    "        n = int(input(': '))\n",
    "        if 1 <= n <= len(Menu):\n",
    "            return Menu(n)\n",
    "\n",
    "hash = ChainedHash(13)          # 크기가 13인 해시 테이블을 생성\n",
    "\n",
    "while True:\n",
    "    menu = select_menu()        # 메뉴 선택\n",
    "\n",
    "    if menu == Menu.추가:       # 추가\n",
    "        key = int(input('추가할 키를 입력하세요 : '))\n",
    "        val = input('추가할 값을 입력하세요 : ')\n",
    "        if not hash.add(key, val):\n",
    "            print ('추가를 실패했습니다.')\n",
    "\n",
    "    elif menu == Menu.삭제:     # 삭제\n",
    "        key = int(input('삭제할 키를 입력하세요 : '))\n",
    "        if not hash.remove(key):\n",
    "            print ('삭제를 실패했습니다.')\n",
    "\n",
    "    elif menu == Menu.검색:     # 검색\n",
    "        key = int(input('검색할 키를 입력하세요.'))\n",
    "        t = hash.search(key)\n",
    "        if t is not None:\n",
    "            print (f'검색한 키가 갖는 값은 {t}입니다')\n",
    "        else:\n",
    "            print ('검색할 데이터가 없습니다')\n",
    "\n",
    "    elif menu == Menu.덤프:     # 덤프\n",
    "        hash.dump()\n",
    "\n",
    "    else:                       # 종료\n",
    "        break"
   ]
  },
  {
   "cell_type": "code",
   "execution_count": null,
   "metadata": {},
   "outputs": [],
   "source": []
  }
 ],
 "metadata": {
  "interpreter": {
   "hash": "0cf90eb564dcf90a219ae509985b5381d51b47d0448d01a29ea34215728d8c14"
  },
  "kernelspec": {
   "display_name": "Python 3.8.8 64-bit ('base': conda)",
   "language": "python",
   "name": "python3"
  },
  "language_info": {
   "codemirror_mode": {
    "name": "ipython",
    "version": 3
   },
   "file_extension": ".py",
   "mimetype": "text/x-python",
   "name": "python",
   "nbconvert_exporter": "python",
   "pygments_lexer": "ipython3",
   "version": "3.8.8"
  },
  "orig_nbformat": 4
 },
 "nbformat": 4,
 "nbformat_minor": 2
}
