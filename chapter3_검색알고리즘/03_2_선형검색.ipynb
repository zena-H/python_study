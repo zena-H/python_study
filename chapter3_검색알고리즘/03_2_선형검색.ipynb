{
 "cells": [
  {
   "cell_type": "markdown",
   "metadata": {},
   "source": [
    "##### 선형검색 (순차 검색)"
   ]
  },
  {
   "cell_type": "code",
   "execution_count": null,
   "metadata": {},
   "outputs": [],
   "source": [
    "i = 0\n",
    "while True:\n",
    "    if i == len(a):\n",
    "        # 검색 실패\n",
    "    if a[i] == key:\n",
    "        # 검색 성공(찾은 원소의 인덱스는 i)\n",
    "    i +=1"
   ]
  },
  {
   "cell_type": "markdown",
   "metadata": {},
   "source": [
    "###### 3-1"
   ]
  },
  {
   "cell_type": "code",
   "execution_count": 1,
   "metadata": {},
   "outputs": [
    {
     "name": "stdout",
     "output_type": "stream",
     "text": [
      "검색값은 x[3]에 있습니다\n"
     ]
    }
   ],
   "source": [
    "# while 문으로 작성한 선형 검색 알고리즘\n",
    "\n",
    "from typing import Any, Sequence\n",
    "\n",
    "def seq_search(a : Sequence, key: Any) -> int:\n",
    "    \"\"\"시퀀스 a에서 key와 값이 같은 원소를 선형 검색(while 문)\"\"\"\n",
    "\n",
    "    i = 0\n",
    "\n",
    "    while True:\n",
    "        if i == len(a):\n",
    "            return -1           # 검색에 실패하여 -1을 반환\n",
    "        if a[i] == key:\n",
    "            return i            # 검색에 성공하여 현재 검사한 배열의 인덱스를 반환\n",
    "        i += 1\n",
    "\n",
    "if __name__ == \"__main__\":\n",
    "    num = int(input('원소 수를 입력하세요 : '))             # num 값을 입력받음\n",
    "    x = [None] * num                                       # 원소 수가 num인 배열을 생성\n",
    "\n",
    "    for i in range(num):\n",
    "        x[i] = int(input(f'x[{i}] : '))\n",
    "\n",
    "    ky = int(input('검색할 값을 입력하세요 : '))            # 검색할 키 ky를 입력받음\n",
    "\n",
    "    idx = seq_search(x, ky)                                # ky와 값이 같은 원소를 x에서 검색\n",
    "\n",
    "    if idx == -1:\n",
    "        print('검색값을 갖는 원소가 존재하지 않습니다')\n",
    "    else:\n",
    "        print(f'검색값은 x[{idx}]에 있습니다')"
   ]
  },
  {
   "cell_type": "markdown",
   "metadata": {},
   "source": [
    "###### 3-2"
   ]
  },
  {
   "cell_type": "code",
   "execution_count": 2,
   "metadata": {},
   "outputs": [
    {
     "name": "stdout",
     "output_type": "stream",
     "text": [
      "검색값은 x[3]에 있습니다\n"
     ]
    }
   ],
   "source": [
    "# for 문으로 작성한 선형 검색 알고리즘\n",
    "\n",
    "from typing import Any, Sequence\n",
    "\n",
    "def seq_search(a : Sequence, key : Any) -> int:\n",
    "    \"\"\"시퀀스 a에서 key와 값이 같은 원소를 선형검색(for 문)\"\"\"\n",
    "    for i in range(len(a)):\n",
    "        if a[i] == key:\n",
    "            return i        # 검색 성공(인덱스를 반환)\n",
    "    return -1               # 검색 실패(-1을 반환)\n",
    "\n",
    "if __name__ == \"__main__\":\n",
    "    num = int(input('원소 수를 입력하세요 : '))             # num 값을 입력받음\n",
    "    x = [None] * num                                       # 원소 수가 num인 배열을 생성\n",
    "\n",
    "    for i in range(num):\n",
    "        x[i] = int(input(f'x[{i}] : '))\n",
    "\n",
    "    ky = int(input('검색할 값을 입력하세요 : '))            # 검색할 키 ky를 입력받음\n",
    "\n",
    "    idx = seq_search(x, ky)                                # ky와 값이 같은 원소를 x에서 검색\n",
    "\n",
    "    if idx == -1:\n",
    "        print('검색값을 갖는 원소가 존재하지 않습니다')\n",
    "    else:\n",
    "        print(f'검색값은 x[{idx}]에 있습니다')"
   ]
  },
  {
   "cell_type": "markdown",
   "metadata": {},
   "source": [
    "###### 보충수업 3-1 : 다양한 자료형인 시퀀스에서 검색\n",
    "###### 실습 3C-1"
   ]
  },
  {
   "cell_type": "code",
   "execution_count": 3,
   "metadata": {},
   "outputs": [
    {
     "name": "stdout",
     "output_type": "stream",
     "text": [
      "실수를 검색합니다\n",
      "주의 : \"End\"를 입력하면 종료합니다\n",
      "검색값은 x[2]에 있습니다\n"
     ]
    }
   ],
   "source": [
    "# seq_search() 함수를 사용하여 실수 검색하기\n",
    "from ssearch_while import seq_search\n",
    "\n",
    "print ('실수를 검색합니다')\n",
    "print ('주의 : \"End\"를 입력하면 종료합니다')\n",
    "\n",
    "number = 0\n",
    "x = []                                          # 빈 리스트 x를 생성\n",
    "\n",
    "while True:\n",
    "    s = input(f'x[{number}] : ')\n",
    "    if s == 'End':\n",
    "        break\n",
    "    x.append(float(s))                          # 배열 맨 끝에 원소를 추가\n",
    "    number += 1\n",
    "\n",
    "ky = float(input('검색할 값을 입력하세요 : '))   # 검색할 키 ky를 입력받기\n",
    "\n",
    "idx = seq_search(x, ky)                         # ky와 값이 같은 원소를 x에서 검색\n",
    "if idx == -1:\n",
    "    print ('검색값을 갖는 원소가 존재하지 않습니다')\n",
    "else:\n",
    "    print(f'검색값은 x[{idx}]에 있습니다')"
   ]
  },
  {
   "cell_type": "markdown",
   "metadata": {},
   "source": [
    "###### 3C-2"
   ]
  },
  {
   "cell_type": "code",
   "execution_count": 5,
   "metadata": {},
   "outputs": [
    {
     "name": "stdout",
     "output_type": "stream",
     "text": [
      "(4, 7, 5.6, 2, 3.14, 1)에서 5.6의 인덱스는 2입니다.\n",
      "string에서 \"n\"의 인덱스는 4입니다.\n",
      "['DTS', 'AAC', 'FLAC']에서 \"DTS\"의 인덱스는 0입니다.\n"
     ]
    }
   ],
   "source": [
    "# seq_search() 함수를 사용하여 특정 인덱스 검색하기\n",
    "\n",
    "from ssearch_while import seq_search\n",
    "\n",
    "t = (4, 7, 5.6, 2, 3.14, 1)\n",
    "s = 'string'\n",
    "a = ['DTS', 'AAC', 'FLAC']\n",
    "\n",
    "print (f'{t}에서 5.6의 인덱스는 {seq_search(t, 5.6)}입니다.')\n",
    "print (f'{s}에서 \"n\"의 인덱스는 {seq_search(s, \"n\")}입니다.')\n",
    "print (f'{a}에서 \"DTS\"의 인덱스는 {seq_search(a, \"DTS\")}입니다.')"
   ]
  },
  {
   "cell_type": "markdown",
   "metadata": {},
   "source": [
    "##### 보초법\n",
    "###### 3-3"
   ]
  },
  {
   "cell_type": "code",
   "execution_count": 6,
   "metadata": {},
   "outputs": [
    {
     "name": "stdout",
     "output_type": "stream",
     "text": [
      "검색값은 x[3]에 있습니다.\n"
     ]
    }
   ],
   "source": [
    "# 선형 검색 알고리즘 (3-1)을 보초법으로 수정\n",
    "\n",
    "from typing import Any, Sequence\n",
    "import copy\n",
    "\n",
    "def seq_search(seq:Sequence, key: Any) -> int:\n",
    "    \"\"\"시퀀스 seq에서 key와 일치하는 원소를 선형 검색(보초법)\"\"\"\n",
    "    a = copy.deepcopy(seq)          # seq를 복사\n",
    "    a.append(key)                   # 보초 key를 추가\n",
    "\n",
    "    i = 0\n",
    "    while True:\n",
    "        if a[i] == key:\n",
    "            break                   # 검색에 성공하면 while 문을 종료\n",
    "        i += 1\n",
    "\n",
    "    return -1 if i == len(seq) else i\n",
    "\n",
    "\n",
    "if __name__==\"__main__\":\n",
    "    num = int(input('원소 수를 입력하세요 : '))     # num 값을 입력\n",
    "    x = [None] * num\n",
    "\n",
    "    for i in range(num):\n",
    "        x[i] = int(input(f'x[{i}] : '))\n",
    "\n",
    "    ky = int(input('검색할 값을 입력하세요 : '))    # 검색할 키 ky를 입력받기\n",
    "\n",
    "    idx = seq_search(x, ky)                        # 키 ky값과 같은 원소를 x에서 검색\n",
    "\n",
    "    if idx == -1:\n",
    "        print ('검색값을 갖는 원소가 존재하지 않습니다.')\n",
    "    else:\n",
    "        print (f'검색값은 x[{idx}]에 있습니다.')\n"
   ]
  },
  {
   "cell_type": "code",
   "execution_count": null,
   "metadata": {},
   "outputs": [],
   "source": []
  }
 ],
 "metadata": {
  "interpreter": {
   "hash": "0cf90eb564dcf90a219ae509985b5381d51b47d0448d01a29ea34215728d8c14"
  },
  "kernelspec": {
   "display_name": "Python 3.8.8 64-bit ('base': conda)",
   "language": "python",
   "name": "python3"
  },
  "language_info": {
   "codemirror_mode": {
    "name": "ipython",
    "version": 3
   },
   "file_extension": ".py",
   "mimetype": "text/x-python",
   "name": "python",
   "nbconvert_exporter": "python",
   "pygments_lexer": "ipython3",
   "version": "3.8.8"
  },
  "orig_nbformat": 4
 },
 "nbformat": 4,
 "nbformat_minor": 2
}
