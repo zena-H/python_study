{
 "cells": [
  {
   "cell_type": "markdown",
   "metadata": {},
   "source": [
    "##### 배열 개념 알아보기\n",
    "###### 2-1"
   ]
  },
  {
   "cell_type": "code",
   "execution_count": 1,
   "metadata": {},
   "outputs": [
    {
     "name": "stdout",
     "output_type": "stream",
     "text": [
      "학생 그룹 점수의 합계와 평균을 구합니다\n",
      "합계는 318점입니다.\n",
      "평균은 63.6점입니다.\n"
     ]
    }
   ],
   "source": [
    "# 학생 5명의 시험 점수를 입력받아 합계와 평균을 출력하기\n",
    "\n",
    "print ('학생 그룹 점수의 합계와 평균을 구합니다')\n",
    "\n",
    "score1 = int(input('1번 학생의 점수를 입력하세요 : '))\n",
    "score2 = int(input('2번 학생의 점수를 입력하세요 : '))\n",
    "score3 = int(input('3번 학생의 점수를 입력하세요 : '))\n",
    "score4 = int(input('4번 학생의 점수를 입력하세요 : '))\n",
    "score5 = int(input('5번 학생의 점수를 입력하세요 : '))\n",
    "\n",
    "total = 0\n",
    "total += score1\n",
    "total += score2\n",
    "total += score3\n",
    "total += score4\n",
    "total += score5\n",
    "\n",
    "print (f'합계는 {total}점입니다.')\n",
    "print (f'평균은 {total / 5}점입니다.')"
   ]
  },
  {
   "cell_type": "markdown",
   "metadata": {},
   "source": [
    "##### 리스트와 튜플 알아보기\n",
    "###### 리스트의 기초"
   ]
  },
  {
   "cell_type": "code",
   "execution_count": 3,
   "metadata": {},
   "outputs": [
    {
     "name": "stdout",
     "output_type": "stream",
     "text": [
      "[]\n",
      "[1, 2, 3]\n",
      "['A', 'B', 'C']\n"
     ]
    }
   ],
   "source": [
    "list01 = []\n",
    "list02 = [1, 2, 3]\n",
    "list03 = ['A', 'B', 'C', ]    # ['A', 'B', 'C'] 맨 마지막 원소에 쉼표를 써도 됨\n",
    "\n",
    "print (list01)\n",
    "print (list02)\n",
    "print (list03)"
   ]
  },
  {
   "cell_type": "code",
   "execution_count": 4,
   "metadata": {},
   "outputs": [
    {
     "name": "stdout",
     "output_type": "stream",
     "text": [
      "[]\n",
      "['A', 'B', 'C']\n",
      "[1, 2, 3]\n",
      "[1, 2, 3]\n",
      "[1, 2, 3]\n"
     ]
    }
   ],
   "source": [
    "list04 = list()\n",
    "list05 = list('ABC')        # ['A', 'B', 'C'] 문자열의 각 문자로부터 원소를 생성\n",
    "list06 = list([1, 2, 3])    # [1, 2, 3] 리스트로부터 원소를 생성\n",
    "list07 = list((1, 2, 3))    # [1, 2, 3] 튜플로부터 원소를 생성\n",
    "list08 = list({1, 2, 3})    # [1, 2, 3] 집합으로부터 원소를 생성\n",
    "\n",
    "print(list04); print(list05); print(list06); print(list07); print(list08)"
   ]
  },
  {
   "cell_type": "code",
   "execution_count": 5,
   "metadata": {},
   "outputs": [
    {
     "name": "stdout",
     "output_type": "stream",
     "text": [
      "[0, 1, 2, 3, 4, 5, 6]\n",
      "[3, 4, 5, 6, 7]\n",
      "[3, 5, 7, 9, 11]\n"
     ]
    }
   ],
   "source": [
    "list09 = list(range(7))\n",
    "list10 = list(range(3, 8))\n",
    "list11 = list(range(3, 13, 2))\n",
    "\n",
    "print(list09); print(list10); print(list11)"
   ]
  },
  {
   "cell_type": "code",
   "execution_count": 6,
   "metadata": {},
   "outputs": [
    {
     "name": "stdout",
     "output_type": "stream",
     "text": [
      "[None, None, None, None, None]\n"
     ]
    }
   ],
   "source": [
    "list12 = [None] * 5\n",
    "\n",
    "print (list12)"
   ]
  },
  {
   "cell_type": "markdown",
   "metadata": {},
   "source": [
    "###### 튜플의 기초"
   ]
  },
  {
   "cell_type": "code",
   "execution_count": 7,
   "metadata": {},
   "outputs": [
    {
     "name": "stdout",
     "output_type": "stream",
     "text": [
      "()\n",
      "(1,)\n",
      "(1,)\n",
      "(1, 2, 3)\n",
      "(1, 2, 3)\n",
      "(1, 2, 3)\n",
      "(1, 2, 3)\n",
      "('A', 'B', 'C')\n"
     ]
    }
   ],
   "source": [
    "tuple01 = ()\n",
    "tuple02 = 1,\n",
    "tuple03 = (1,)\n",
    "tuple04 = 1, 2, 3\n",
    "tuple05 = 1, 2, 3,\n",
    "tuple06 = (1, 2, 3)\n",
    "tuple07 = (1, 2, 3,)\n",
    "tuple08 = 'A', 'B', 'C'\n",
    "\n",
    "print(tuple01); print(tuple02); print(tuple03); print(tuple04)\n",
    "print(tuple05); print(tuple06); print(tuple07); print(tuple08)"
   ]
  },
  {
   "cell_type": "code",
   "execution_count": 8,
   "metadata": {},
   "outputs": [
    {
     "name": "stdout",
     "output_type": "stream",
     "text": [
      "1 1\n",
      "(1,) (1,)\n"
     ]
    }
   ],
   "source": [
    "# 단일 값을 가지는 튜플은 ,가 필요함\n",
    "v01 = 1\n",
    "v02 = (1)\n",
    "v03 = 1,\n",
    "v04 = (1,)\n",
    "\n",
    "print (v01, v02)\n",
    "print (v03, v04)"
   ]
  },
  {
   "cell_type": "code",
   "execution_count": 9,
   "metadata": {},
   "outputs": [
    {
     "name": "stdout",
     "output_type": "stream",
     "text": [
      "()\n",
      "('A', 'B', 'C')\n",
      "(1, 2, 3)\n",
      "(1, 2, 3)\n"
     ]
    }
   ],
   "source": [
    "tuple09 = tuple()           # 빈 튜플\n",
    "tuple10 = tuple('ABC')      # 문자열의 각 문자로부터 원소를 생성\n",
    "tuple11 = tuple([1,2,3])    # 리스트로부터 원소를 생성\n",
    "tuple12 = tuple({1,2,3})    # 집합으로부터 원소를 생성\n",
    "\n",
    "print(tuple09); print(tuple10); print(tuple11); print(tuple12)"
   ]
  },
  {
   "cell_type": "code",
   "execution_count": 10,
   "metadata": {},
   "outputs": [
    {
     "name": "stdout",
     "output_type": "stream",
     "text": [
      "(0, 1, 2, 3, 4, 5, 6)\n",
      "(3, 4, 5, 6, 7)\n",
      "(3, 5, 7, 9, 11)\n"
     ]
    }
   ],
   "source": [
    "tuple13 = tuple(range(7))\n",
    "tuple14 = tuple(range(3, 8))\n",
    "tuple15 = tuple(range(3, 13, 2))\n",
    "\n",
    "print(tuple13); print(tuple14); print(tuple15)"
   ]
  },
  {
   "cell_type": "markdown",
   "metadata": {},
   "source": [
    "###### 리스트와 튜플 풀어내기"
   ]
  },
  {
   "cell_type": "code",
   "execution_count": 12,
   "metadata": {},
   "outputs": [
    {
     "data": {
      "text/plain": [
       "(1, 2, 3)"
      ]
     },
     "execution_count": 12,
     "metadata": {},
     "output_type": "execute_result"
    }
   ],
   "source": [
    "x = [1, 2, 3]\n",
    "a, b, c = x\n",
    "\n",
    "a,b,c"
   ]
  },
  {
   "cell_type": "markdown",
   "metadata": {},
   "source": [
    "##### 인덱스로 원소에 접근하기"
   ]
  },
  {
   "cell_type": "code",
   "execution_count": 13,
   "metadata": {},
   "outputs": [
    {
     "name": "stdout",
     "output_type": "stream",
     "text": [
      "33\n",
      "55\n",
      "[11, 22, 33, 3.14, 55, 66, 77]\n"
     ]
    },
    {
     "ename": "IndexError",
     "evalue": "list index out of range",
     "output_type": "error",
     "traceback": [
      "\u001b[1;31m---------------------------------------------------------------------------\u001b[0m",
      "\u001b[1;31mIndexError\u001b[0m                                Traceback (most recent call last)",
      "\u001b[1;32m<ipython-input-13-fe67d11b0508>\u001b[0m in \u001b[0;36m<module>\u001b[1;34m\u001b[0m\n\u001b[0;32m      6\u001b[0m \u001b[0mprint\u001b[0m \u001b[1;33m(\u001b[0m\u001b[0mx\u001b[0m\u001b[1;33m)\u001b[0m\u001b[1;33m\u001b[0m\u001b[1;33m\u001b[0m\u001b[0m\n\u001b[0;32m      7\u001b[0m \u001b[1;33m\u001b[0m\u001b[0m\n\u001b[1;32m----> 8\u001b[1;33m \u001b[0mx\u001b[0m\u001b[1;33m[\u001b[0m\u001b[1;36m7\u001b[0m\u001b[1;33m]\u001b[0m    \u001b[1;31m# 존재하지 않는 인덱스이므로 오류를 출력\u001b[0m\u001b[1;33m\u001b[0m\u001b[1;33m\u001b[0m\u001b[0m\n\u001b[0m",
      "\u001b[1;31mIndexError\u001b[0m: list index out of range"
     ]
    }
   ],
   "source": [
    "x = [11, 22, 33, 44, 55, 66, 77]\n",
    "print (x[2])\n",
    "print (x[-3])\n",
    "\n",
    "x[-4] = 3.14\n",
    "print (x)\n",
    "\n",
    "x[7]    # 존재하지 않는 인덱스이므로 오류를 출력"
   ]
  },
  {
   "cell_type": "code",
   "execution_count": 15,
   "metadata": {},
   "outputs": [
    {
     "ename": "IndexError",
     "evalue": "list assignment index out of range",
     "output_type": "error",
     "traceback": [
      "\u001b[1;31m---------------------------------------------------------------------------\u001b[0m",
      "\u001b[1;31mIndexError\u001b[0m                                Traceback (most recent call last)",
      "\u001b[1;32m<ipython-input-15-b490cfd6bc1a>\u001b[0m in \u001b[0;36m<module>\u001b[1;34m\u001b[0m\n\u001b[1;32m----> 1\u001b[1;33m \u001b[0mx\u001b[0m\u001b[1;33m[\u001b[0m\u001b[1;36m7\u001b[0m\u001b[1;33m]\u001b[0m \u001b[1;33m=\u001b[0m \u001b[1;36m3.14\u001b[0m     \u001b[1;31m# x[7]에는 값을 대입할 수 없으므로 오류를 출력\u001b[0m\u001b[1;33m\u001b[0m\u001b[1;33m\u001b[0m\u001b[0m\n\u001b[0m",
      "\u001b[1;31mIndexError\u001b[0m: list assignment index out of range"
     ]
    }
   ],
   "source": [
    "x[7] = 3.14     # x[7]에는 값을 대입할 수 없으므로 오류를 출력"
   ]
  },
  {
   "cell_type": "markdown",
   "metadata": {},
   "source": [
    "##### 슬라이스식으로 원소에 접근하기\n",
    "###### s[i:j]\n",
    "###### s[i:j:k]"
   ]
  },
  {
   "cell_type": "code",
   "execution_count": 16,
   "metadata": {},
   "outputs": [
    {
     "name": "stdout",
     "output_type": "stream",
     "text": [
      "[11, 22, 33, 44, 55, 66]\n",
      "[11, 22, 33, 44, 55, 66, 77]\n",
      "[11, 33, 55, 77]\n",
      "[44, 55]\n",
      "[]\n"
     ]
    }
   ],
   "source": [
    "s = [11, 22, 33, 44, 55, 66, 77]\n",
    "\n",
    "print (s[0:6])      # 리스트 s의 0번째 원소부터 5번째 원소를 출력\n",
    "print (s[0:7])      # 리스트 s의 0번째 원소부터 6번째 원소를 출력\n",
    "print (s[0:7:2])    # 리스트 s의 0번째 원소부터 6번째 원소 중 2씩 건너뛰며 원소를 출력\n",
    "print (s[-4:-2])    # 리스트 s의 뒤에서 4번째 원소부터 뒤에서 2번째 원소를 출력\n",
    "print (s[3:1])      # 리스트 s의 j값(1)이 i값(3)보다 작지만 오류가 나지 않음"
   ]
  },
  {
   "cell_type": "markdown",
   "metadata": {},
   "source": [
    "###### 보충수업 2-1 \n",
    "###### 뮤터블과 이뮤터블의 대입"
   ]
  },
  {
   "cell_type": "code",
   "execution_count": 17,
   "metadata": {},
   "outputs": [
    {
     "name": "stdout",
     "output_type": "stream",
     "text": [
      "140713440651184\n",
      "2946616904240\n"
     ]
    }
   ],
   "source": [
    "n = 5\n",
    "print (id(n))\n",
    "\n",
    "n = 'ABC'\n",
    "print (id(n))"
   ]
  },
  {
   "cell_type": "code",
   "execution_count": 18,
   "metadata": {},
   "outputs": [
    {
     "name": "stdout",
     "output_type": "stream",
     "text": [
      "1\n",
      "2\n",
      "3\n"
     ]
    }
   ],
   "source": [
    "a, b, c = 1, 2, 3\n",
    "print(a); print(b); print(c)"
   ]
  },
  {
   "cell_type": "code",
   "execution_count": 19,
   "metadata": {},
   "outputs": [
    {
     "name": "stdout",
     "output_type": "stream",
     "text": [
      "4\n",
      "9\n"
     ]
    }
   ],
   "source": [
    "x = 6\n",
    "y = 2\n",
    "x, y = y + 2, x + 3\n",
    "\n",
    "print(x); print(y)"
   ]
  },
  {
   "cell_type": "code",
   "execution_count": 20,
   "metadata": {},
   "outputs": [
    {
     "name": "stdout",
     "output_type": "stream",
     "text": [
      "140713440651408\n",
      "140713440651440\n"
     ]
    }
   ],
   "source": [
    "n = 12\n",
    "print (id(n))\n",
    "\n",
    "n += 1\n",
    "print (id(n))"
   ]
  },
  {
   "cell_type": "code",
   "execution_count": 21,
   "metadata": {},
   "outputs": [
    {
     "name": "stdout",
     "output_type": "stream",
     "text": [
      "<class 'int'>\n"
     ]
    },
    {
     "ename": "TypeError",
     "evalue": "type() takes 1 or 3 arguments",
     "output_type": "error",
     "traceback": [
      "\u001b[1;31m---------------------------------------------------------------------------\u001b[0m",
      "\u001b[1;31mTypeError\u001b[0m                                 Traceback (most recent call last)",
      "\u001b[1;32m<ipython-input-21-8d3c313076cf>\u001b[0m in \u001b[0;36m<module>\u001b[1;34m\u001b[0m\n\u001b[0;32m      1\u001b[0m \u001b[0mx\u001b[0m \u001b[1;33m=\u001b[0m \u001b[1;36m0\u001b[0m\u001b[1;33m\u001b[0m\u001b[1;33m\u001b[0m\u001b[0m\n\u001b[0;32m      2\u001b[0m \u001b[0mprint\u001b[0m \u001b[1;33m(\u001b[0m\u001b[0mtype\u001b[0m\u001b[1;33m(\u001b[0m\u001b[0mx\u001b[0m \u001b[1;33m+\u001b[0m \u001b[1;36m17\u001b[0m\u001b[1;33m)\u001b[0m\u001b[1;33m)\u001b[0m\u001b[1;33m\u001b[0m\u001b[1;33m\u001b[0m\u001b[0m\n\u001b[1;32m----> 3\u001b[1;33m \u001b[0mprint\u001b[0m \u001b[1;33m(\u001b[0m\u001b[0mtype\u001b[0m \u001b[1;33m(\u001b[0m\u001b[0mx\u001b[0m \u001b[1;33m=\u001b[0m \u001b[1;36m17\u001b[0m\u001b[1;33m)\u001b[0m\u001b[1;33m)\u001b[0m\u001b[1;33m\u001b[0m\u001b[1;33m\u001b[0m\u001b[0m\n\u001b[0m",
      "\u001b[1;31mTypeError\u001b[0m: type() takes 1 or 3 arguments"
     ]
    }
   ],
   "source": [
    "x = 0\n",
    "print (type(x + 17))\n",
    "print (type (x = 17))"
   ]
  },
  {
   "cell_type": "code",
   "execution_count": 22,
   "metadata": {},
   "outputs": [],
   "source": [
    "a = b = 1"
   ]
  },
  {
   "cell_type": "code",
   "execution_count": 24,
   "metadata": {},
   "outputs": [
    {
     "ename": "SyntaxError",
     "evalue": "invalid syntax (<ipython-input-24-9eea2a6e2324>, line 1)",
     "output_type": "error",
     "traceback": [
      "\u001b[1;36m  File \u001b[1;32m\"<ipython-input-24-9eea2a6e2324>\"\u001b[1;36m, line \u001b[1;32m1\u001b[0m\n\u001b[1;33m    a = (b = 1)    # C, C++, Java에서 위의 식과 동일\u001b[0m\n\u001b[1;37m           ^\u001b[0m\n\u001b[1;31mSyntaxError\u001b[0m\u001b[1;31m:\u001b[0m invalid syntax\n"
     ]
    }
   ],
   "source": [
    "a = (b = 1)    # C, C++, Java에서 위의 식과 동일"
   ]
  },
  {
   "cell_type": "markdown",
   "metadata": {},
   "source": [
    "##### 자료구조의 개념 알아보기\n",
    "###### 자료구조 : 데이터 단위와 데이터 자체 사이의 물리적 또는 논리적인 관계"
   ]
  },
  {
   "cell_type": "markdown",
   "metadata": {},
   "source": [
    "###### 보충수업 2-2 : 리스트와 튜플 1"
   ]
  },
  {
   "cell_type": "code",
   "execution_count": 25,
   "metadata": {},
   "outputs": [
    {
     "name": "stdout",
     "output_type": "stream",
     "text": [
      "6\n"
     ]
    }
   ],
   "source": [
    "x = [15, 64, 7, 3.14, [33, 55], 'ABC']\n",
    "print (len(x))"
   ]
  },
  {
   "cell_type": "code",
   "execution_count": 27,
   "metadata": {},
   "outputs": [],
   "source": [
    "if x:\n",
    "    # x가 비어있지 않으면(True) 코드 실행\n",
    "    pass\n",
    "else: \n",
    "    # x가 비어있으면(False) 코드 실행\n",
    "    pass"
   ]
  },
  {
   "cell_type": "code",
   "execution_count": 30,
   "metadata": {},
   "outputs": [
    {
     "name": "stdout",
     "output_type": "stream",
     "text": [
      "True\n",
      "True\n",
      "True\n",
      "True\n",
      "True\n",
      "False\n"
     ]
    }
   ],
   "source": [
    "# 맨 앞 원소부터 차례로 비교하면서 어느 원소의 값이 크면 그 배열이 큰 것으로 판단\n",
    "# 배열의 원소 수가 다른경우에는 원소 수가 많은 배열을 더 크다고 판단\n",
    "\n",
    "print ([1, 2, 3] == [1, 2, 3])\n",
    "print ([1, 2, 3] < [1, 2, 4])\n",
    "print ([1, 2, 3, 4] <= [1, 2, 3, 4])\n",
    "print ([1, 2, 3] < [1, 2, 3, 5])\n",
    "print ([1, 2, 3] < [1, 2, 3, 5] < [1, 2, 3, 5, 6])\n",
    "\n",
    "print ([1, 2] >= [2, 1])"
   ]
  },
  {
   "cell_type": "markdown",
   "metadata": {},
   "source": [
    "###### 내포표기 생성"
   ]
  },
  {
   "cell_type": "code",
   "execution_count": 31,
   "metadata": {},
   "outputs": [
    {
     "name": "stdout",
     "output_type": "stream",
     "text": [
      "[2, 6, 10]\n"
     ]
    }
   ],
   "source": [
    "numbers = [1, 2, 3, 4, 5]\n",
    "twise = [num * 2 for num in numbers if num % 2 == 1]\n",
    "print (twise)"
   ]
  }
 ],
 "metadata": {
  "interpreter": {
   "hash": "0cf90eb564dcf90a219ae509985b5381d51b47d0448d01a29ea34215728d8c14"
  },
  "kernelspec": {
   "display_name": "Python 3.8.8 64-bit ('base': conda)",
   "language": "python",
   "name": "python3"
  },
  "language_info": {
   "codemirror_mode": {
    "name": "ipython",
    "version": 3
   },
   "file_extension": ".py",
   "mimetype": "text/x-python",
   "name": "python",
   "nbconvert_exporter": "python",
   "pygments_lexer": "ipython3",
   "version": "3.8.8"
  },
  "orig_nbformat": 4
 },
 "nbformat": 4,
 "nbformat_minor": 2
}
