{
 "cells": [
  {
   "cell_type": "markdown",
   "metadata": {},
   "source": [
    "##### 배열 원소의 최댓값 구하기\n",
    "###### a의 원소가 3개일 때"
   ]
  },
  {
   "cell_type": "code",
   "execution_count": null,
   "metadata": {},
   "outputs": [],
   "source": [
    "maximum = a[0]\n",
    "if a[1] > maximum: maximum = a[1]\n",
    "if a[2] > maximum: maximum = a[2]"
   ]
  },
  {
   "cell_type": "markdown",
   "metadata": {},
   "source": [
    "###### a의 원소가 4개일 때"
   ]
  },
  {
   "cell_type": "code",
   "execution_count": null,
   "metadata": {},
   "outputs": [],
   "source": [
    "maximum = a[0]\n",
    "if a[1] > maximum: maximum = a[1]\n",
    "if a[2] > maximum: maximum = a[2]\n",
    "if a[3] > maximum: maximum = a[3]"
   ]
  },
  {
   "cell_type": "code",
   "execution_count": null,
   "metadata": {},
   "outputs": [],
   "source": [
    "def max_of(a):\n",
    "    maximum = a[0]\n",
    "    for i in range(1, len(a)):\n",
    "        if a[i] > maximum:\n",
    "            maximum = a[i]"
   ]
  },
  {
   "cell_type": "markdown",
   "metadata": {},
   "source": [
    "##### 배열 원소의 최댓값을 구하는 함수 구현하기\n",
    "###### 2-2"
   ]
  },
  {
   "cell_type": "code",
   "execution_count": 1,
   "metadata": {},
   "outputs": [
    {
     "name": "stdout",
     "output_type": "stream",
     "text": [
      "배열의 최댓값을 구합니다\n",
      "최댓값은 192입니다.\n"
     ]
    }
   ],
   "source": [
    "# 시퀀스 원소의 최댓값 출력하기\n",
    "\n",
    "from typing import Any, Sequence\n",
    "\n",
    "def max_of(a: Sequence) -> Any:\n",
    "    \"\"\"시퀀스형 a 원소의 최댓값을 반환\"\"\"\n",
    "    maximum = a[0]\n",
    "    for i in range(1, len(a)):\n",
    "        if a[i] > maximum:\n",
    "            maximum = a[i]\n",
    "    return maximum\n",
    "\n",
    "\n",
    "if __name__ == \"__main__\":\n",
    "    print ('배열의 최댓값을 구합니다')\n",
    "    num = int(input('원소 수를 입력하세요 : '))\n",
    "    x = [None] * num        # 원소 수가 num인 리스트를 생성\n",
    "\n",
    "    for i in range(num):\n",
    "        x[i] = int(input(f'x[{i}]값을 입력하세요 : '))\n",
    "\n",
    "    print(f'최댓값은 {max_of(x)}입니다.')"
   ]
  },
  {
   "cell_type": "markdown",
   "metadata": {},
   "source": [
    "##### 주석과 자료형 힌트\n"
   ]
  },
  {
   "cell_type": "markdown",
   "metadata": {},
   "source": [
    "###### Any -> 제약이 없는 임의의 자료형  \n",
    "###### Sequence-> 시퀀스형(list, bytearr, str, tuple, bytes)\n",
    "\n",
    "def max_of(a: Sequence) -> Any:\n",
    "###### 건네 받는 매개변수 a의 자료형은 Sequence\n",
    "###### 반환하는 것은 임의의 자료형인 Any"
   ]
  },
  {
   "cell_type": "markdown",
   "metadata": {},
   "source": [
    "max_of 함수의 특성\n",
    "###### - 함수 안에서는 배열 a의 원소값을 변경하지 않습니다.\n",
    "###### - 호출하는 쪽이 넘겨주는 실제 인수의 자료형은 뮤터블인 리스트, 이뮤터블인 튜플,문자열 등 시퀀스형이라면 무엇이든 상관 없습니다.\n",
    "###### - 인수의 원소를 비교 연산자 >로 값을 비교할 수 있다면 다른 형(int형, float형)이 섞여있어도 됩니다.\n",
    "###### - 최댓값의 원소가 int형 언소이면 int형 값을 반환하고, float형 원소이면 float형 값을 반환합니다"
   ]
  },
  {
   "cell_type": "markdown",
   "metadata": {},
   "source": [
    "##### 모듈 테스트하기\n",
    "###### 2-3"
   ]
  },
  {
   "cell_type": "code",
   "execution_count": 2,
   "metadata": {},
   "outputs": [
    {
     "name": "stdout",
     "output_type": "stream",
     "text": [
      "배열의 최댓값을 구합니다\n",
      "주의: \"End\"를 입력하면 종료합니다\n",
      "4개를 입력했습니다\n",
      "최댓값은 72입니다\n"
     ]
    }
   ],
   "source": [
    "# 배열 원소의 최댓값을 구해서 출력하기(원솟값을 입력받음)\n",
    "\n",
    "from max import max_of\n",
    "\n",
    "print ('배열의 최댓값을 구합니다')\n",
    "print ('주의: \"End\"를 입력하면 종료합니다')\n",
    "\n",
    "number = 0\n",
    "x = []      # 빈 리스트\n",
    "\n",
    "while True:\n",
    "    s = input(f'x[{number}]값을 입력하세요 : ')\n",
    "    if s == 'End':\n",
    "        break\n",
    "    \n",
    "    x.append(int(s))\n",
    "    number += 1\n",
    "\n",
    "print (f'{number}개를 입력했습니다')\n",
    "print (f'최댓값은 {max_of(x)}입니다')"
   ]
  },
  {
   "cell_type": "markdown",
   "metadata": {},
   "source": [
    "###### 2-3"
   ]
  },
  {
   "cell_type": "code",
   "execution_count": 3,
   "metadata": {},
   "outputs": [
    {
     "name": "stdout",
     "output_type": "stream",
     "text": [
      "난수의 최댓값을 구합니다\n",
      "[99, 57, 44, 39, 60]\n",
      "이 가운데 최댓값은 99입니다\n"
     ]
    }
   ],
   "source": [
    "# 배열 원소의 최댓값을 구해서 출력하기 (원솟값을 난수로 생성)\n",
    "\n",
    "import random\n",
    "from max import max_of\n",
    "\n",
    "print ('난수의 최댓값을 구합니다')\n",
    "num = int(input('난수의 개수를 입력하세요 : '))\n",
    "lo = int(input('난수의 최솟값을 입력하세요 : '))\n",
    "hi = int(input('난수의 최댓값을 입력하세요 : '))\n",
    "x = [None] * num\n",
    "\n",
    "for i in range(num):\n",
    "    x[i] = random.randint(lo, hi)   # lo 이상 hi 이하인 정수 난수를 반환\n",
    "\n",
    "print (f'{(x)}')\n",
    "print (f'이 가운데 최댓값은 {max_of(x)}입니다')"
   ]
  },
  {
   "cell_type": "markdown",
   "metadata": {},
   "source": [
    "###### 2-5"
   ]
  },
  {
   "cell_type": "code",
   "execution_count": 4,
   "metadata": {},
   "outputs": [
    {
     "name": "stdout",
     "output_type": "stream",
     "text": [
      "(4, 7, 5.6, 2, 3.14, 1)의 최댓값은 7입니다.\n",
      "string의 최댓값은 t입니다.\n",
      "['DTS', 'AAC', 'FLAC']의 최댓값은 FLAC입니다.\n"
     ]
    }
   ],
   "source": [
    "# 각 배열 원소의 최댓값을 구해서 출력하기(튜플, 문자열, 문자열 리스트)\n",
    "\n",
    "from max import max_of\n",
    "\n",
    "t = (4, 7, 5.6, 2, 3.14, 1)\n",
    "s = 'string'\n",
    "a = ['DTS', 'AAC', 'FLAC']\n",
    "\n",
    "print (f'{t}의 최댓값은 {max_of(t)}입니다.')\n",
    "print (f'{s}의 최댓값은 {max_of(s)}입니다.')\n",
    "print (f'{a}의 최댓값은 {max_of(a)}입니다.')"
   ]
  },
  {
   "cell_type": "markdown",
   "metadata": {},
   "source": [
    "###### 보충 수업 2-3 : 리스트와 튜플 2\n",
    "###### 2C-1"
   ]
  },
  {
   "cell_type": "code",
   "execution_count": 5,
   "metadata": {},
   "outputs": [
    {
     "name": "stdout",
     "output_type": "stream",
     "text": [
      "x[0] = John\n",
      "x[1] = George\n",
      "x[2] = Paul\n",
      "x[3] = Ringo\n"
     ]
    }
   ],
   "source": [
    "# 리스트의 모든 원소를 스캔하기 (원소 수를 미리 파악)\n",
    "\n",
    "x = ['John', 'George', 'Paul', 'Ringo']\n",
    "\n",
    "for i in range(len(x)):\n",
    "    print (f'x[{i}] = {x[i]}')"
   ]
  },
  {
   "cell_type": "markdown",
   "metadata": {},
   "source": [
    "###### 2C-2"
   ]
  },
  {
   "cell_type": "code",
   "execution_count": 7,
   "metadata": {},
   "outputs": [
    {
     "name": "stdout",
     "output_type": "stream",
     "text": [
      "x[0] = John\n",
      "x[1] = George\n",
      "x[2] = Paul\n",
      "x[3] = Ringo\n"
     ]
    }
   ],
   "source": [
    "# 리스트의 모든 원소를 enumerate() 함수로 스캔하기\n",
    "\n",
    "x = ['John', 'George', 'Paul', 'Ringo']\n",
    "\n",
    "for i, name in enumerate(x):\n",
    "    print (f'x[{i}] = {name}')"
   ]
  },
  {
   "cell_type": "markdown",
   "metadata": {},
   "source": [
    "###### 2C-3"
   ]
  },
  {
   "cell_type": "code",
   "execution_count": 8,
   "metadata": {},
   "outputs": [
    {
     "name": "stdout",
     "output_type": "stream",
     "text": [
      "1번째 = John\n",
      "2번째 = George\n",
      "3번째 = Paul\n",
      "4번째 = Ringo\n"
     ]
    }
   ],
   "source": [
    "# 리스트의 모든 원소를 enumerate() 함수로 스캔하기 (1부터 카운트)\n",
    "\n",
    "x = ['John', 'George', 'Paul', 'Ringo']\n",
    "\n",
    "for i, name in enumerate(x,1):\n",
    "    print (f'{i}번째 = {name}')"
   ]
  },
  {
   "cell_type": "markdown",
   "metadata": {},
   "source": [
    "###### 2C-4"
   ]
  },
  {
   "cell_type": "code",
   "execution_count": 9,
   "metadata": {},
   "outputs": [
    {
     "name": "stdout",
     "output_type": "stream",
     "text": [
      "John\n",
      "George\n",
      "Paul\n",
      "Ringo\n"
     ]
    }
   ],
   "source": [
    "# 리스트의 모든 원소를 스캔하기(인덱스값을 사용하지 않음)\n",
    "\n",
    "x = ['John', 'George', 'Paul', 'Ringo']\n",
    "\n",
    "for i in x:\n",
    "    print (i)"
   ]
  },
  {
   "cell_type": "markdown",
   "metadata": {},
   "source": [
    "##### 배열 원소를 역순으로 정렬하기"
   ]
  },
  {
   "cell_type": "code",
   "execution_count": null,
   "metadata": {},
   "outputs": [],
   "source": [
    "for i in range(n // 2):   \n",
    "    a[i]와 a[n- i - 1]의 값을 교환"
   ]
  },
  {
   "cell_type": "markdown",
   "metadata": {},
   "source": [
    "###### 2-6"
   ]
  },
  {
   "cell_type": "code",
   "execution_count": 10,
   "metadata": {},
   "outputs": [
    {
     "name": "stdout",
     "output_type": "stream",
     "text": [
      "배열 원소를 역순으로 정렬합니다\n",
      "배열 원소를 역순으로 정렬했습니다\n",
      "x[0] = 7\n",
      "x[1] = 6\n",
      "x[2] = 9\n",
      "x[3] = 3\n",
      "x[4] = 1\n",
      "x[5] = 5\n",
      "x[6] = 2\n"
     ]
    }
   ],
   "source": [
    "# 뮤터블 시퀀스 원소를 역순으로 정렬\n",
    "\n",
    "from typing import Any, MutableSequence\n",
    "\n",
    "def reverse_array(a : MutableSequence) -> None:\n",
    "    \"\"\"뮤터블 시퀀스 a의 원소를 역순으로 정렬\"\"\"\n",
    "    n = len(a)\n",
    "    for i in range(n // 2):\n",
    "        a[i], a[n - i - 1] = a[n - i - 1], a[i]\n",
    "\n",
    "if __name__ == \"__main__\":\n",
    "    print ('배열 원소를 역순으로 정렬합니다')\n",
    "    nx = int(input('원소 수를 입력하세요 : '))\n",
    "    x = [None] * nx     # 원소 수가 nx인 리스트를 생성\n",
    "\n",
    "    for i in range(nx):\n",
    "        x[i] = int(input(f'x[{i}]값을 입력하세요 : '))\n",
    "\n",
    "    reverse_array(x)        # x를 역순으로 정렬\n",
    "\n",
    "    print ('배열 원소를 역순으로 정렬했습니다')\n",
    "    for i in range(nx):\n",
    "        print (f'x[{i}] = {x[i]}')"
   ]
  },
  {
   "cell_type": "markdown",
   "metadata": {},
   "source": [
    "###### 보충 수업 2-4 : ltmxmfmf durtnsdmfh wjdfufgkrl"
   ]
  },
  {
   "cell_type": "code",
   "execution_count": 12,
   "metadata": {},
   "outputs": [],
   "source": [
    "\n",
    "x.reverse()     # 리스트 x의 원소를 역순으로 정렬\n",
    "\n",
    "y = list(reversed(x))   #리스트 x의 원소를 역순으로 정렬하여 y에 대입"
   ]
  },
  {
   "cell_type": "markdown",
   "metadata": {},
   "source": [
    "##### 기수 변환하기(n진수 구하기)\n",
    "###### 2-7[A]"
   ]
  },
  {
   "cell_type": "code",
   "execution_count": 13,
   "metadata": {},
   "outputs": [],
   "source": [
    "# 10진수 정숫값을 입력받아 2~36진수로 변환하여 출력하기\n",
    "\n",
    "def card_conv(x : int, r: int) -> str:\n",
    "    \"\"\"정숫값 x를 r진수로 변환한 뒤 그 수를 나타내는 문자열을 반환\"\"\"\n",
    "\n",
    "    d = ''      # 변환 후의 문자열\n",
    "    dchar = '0123456789ABCDEFGHIJKLMNOPQRSTUVWXYZ'\n",
    "\n",
    "    while x > 0:\n",
    "        d += dchar[x % r]\n",
    "        x //= r\n",
    "\n",
    "    return d[::-1]"
   ]
  },
  {
   "cell_type": "markdown",
   "metadata": {},
   "source": [
    "###### 2-7[B]"
   ]
  },
  {
   "cell_type": "code",
   "execution_count": 16,
   "metadata": {},
   "outputs": [
    {
     "name": "stdout",
     "output_type": "stream",
     "text": [
      "10진수를 n진수로 변환합니다.\n",
      "2진수로는 11101입니다.\n"
     ]
    }
   ],
   "source": [
    "if __name__==\"__main__\":\n",
    "    print ('10진수를 n진수로 변환합니다.')\n",
    "\n",
    "    while True:\n",
    "        while True:     # 음이 아닌 정수를 입력받음\n",
    "            no = int(input('변환할 값으로 음이 아닌 정수를 입력하세요 : '))\n",
    "            if no > 0:\n",
    "                break\n",
    "\n",
    "        while True:     # 2~36진수의 정숫값을 입력받음\n",
    "            cd = int(input('어떤 진수로 변환할까요? : '))\n",
    "            if 2 <= cd <= 36:\n",
    "                break\n",
    "\n",
    "        print (f'{cd}진수로는 {card_conv(no, cd)}입니다.')\n",
    "\n",
    "        retry = input('한 번 더 변환할까요?(Y---예/ N----아니오) : ') \n",
    "        if retry.lower() == 'n':\n",
    "            break\n"
   ]
  },
  {
   "cell_type": "markdown",
   "metadata": {},
   "source": [
    "###### 보충 수업 2-6 : 함수 사이에 인수 주고받기\n",
    "###### 2C-5"
   ]
  },
  {
   "cell_type": "code",
   "execution_count": 17,
   "metadata": {},
   "outputs": [
    {
     "name": "stdout",
     "output_type": "stream",
     "text": [
      "1부터 5까지 정수의 합은 15입니다.\n"
     ]
    }
   ],
   "source": [
    "# 1부터 n까지 정수의 합 구하기\n",
    "\n",
    "def sum_1ton(n):\n",
    "    \"\"\"1부터 n까지 정수의 합\"\"\"\n",
    "    s = 0\n",
    "    while n > 0:\n",
    "        s += n\n",
    "        n -= 1\n",
    "    return s\n",
    "\n",
    "x = int(input('x의 값을 입력하세요 : '))\n",
    "print (f'1부터 {x}까지 정수의 합은 {sum_1ton(x)}입니다.')"
   ]
  },
  {
   "cell_type": "markdown",
   "metadata": {},
   "source": [
    "###### 2C-6"
   ]
  },
  {
   "cell_type": "code",
   "execution_count": 18,
   "metadata": {},
   "outputs": [
    {
     "name": "stdout",
     "output_type": "stream",
     "text": [
      "x = [11, 22, 33, 44, 55]\n",
      "x = [11, 22, 99, 44, 55]\n"
     ]
    }
   ],
   "source": [
    "# 리스트에서 임의의 원솟값을 업데이트하기\n",
    "\n",
    "def change(lst, idx, val):\n",
    "    \"\"\"lst[idx]의 값을 val로 업데이트\"\"\"\n",
    "    lst[idx] = val\n",
    "\n",
    "x = [11, 22, 33, 44, 55]\n",
    "print ('x =',x)\n",
    "\n",
    "index = int(input('업데이트할 인덱스를 선택하세요 : '))\n",
    "value = int(input('새로운 값을 입력하세요 : '))\n",
    "\n",
    "change(x, index, value)\n",
    "print (f'x = {x}')"
   ]
  },
  {
   "cell_type": "markdown",
   "metadata": {},
   "source": [
    "##### 소수 나열하기\n",
    "###### 2-8"
   ]
  },
  {
   "cell_type": "code",
   "execution_count": 19,
   "metadata": {},
   "outputs": [
    {
     "name": "stdout",
     "output_type": "stream",
     "text": [
      "2\n",
      "3\n",
      "5\n",
      "7\n",
      "11\n",
      "13\n",
      "17\n",
      "19\n",
      "23\n",
      "29\n",
      "31\n",
      "37\n",
      "41\n",
      "43\n",
      "47\n",
      "53\n",
      "59\n",
      "61\n",
      "67\n",
      "71\n",
      "73\n",
      "79\n",
      "83\n",
      "89\n",
      "97\n",
      "101\n",
      "103\n",
      "107\n",
      "109\n",
      "113\n",
      "127\n",
      "131\n",
      "137\n",
      "139\n",
      "149\n",
      "151\n",
      "157\n",
      "163\n",
      "167\n",
      "173\n",
      "179\n",
      "181\n",
      "191\n",
      "193\n",
      "197\n",
      "199\n",
      "211\n",
      "223\n",
      "227\n",
      "229\n",
      "233\n",
      "239\n",
      "241\n",
      "251\n",
      "257\n",
      "263\n",
      "269\n",
      "271\n",
      "277\n",
      "281\n",
      "283\n",
      "293\n",
      "307\n",
      "311\n",
      "313\n",
      "317\n",
      "331\n",
      "337\n",
      "347\n",
      "349\n",
      "353\n",
      "359\n",
      "367\n",
      "373\n",
      "379\n",
      "383\n",
      "389\n",
      "397\n",
      "401\n",
      "409\n",
      "419\n",
      "421\n",
      "431\n",
      "433\n",
      "439\n",
      "443\n",
      "449\n",
      "457\n",
      "461\n",
      "463\n",
      "467\n",
      "479\n",
      "487\n",
      "491\n",
      "499\n",
      "503\n",
      "509\n",
      "521\n",
      "523\n",
      "541\n",
      "547\n",
      "557\n",
      "563\n",
      "569\n",
      "571\n",
      "577\n",
      "587\n",
      "593\n",
      "599\n",
      "601\n",
      "607\n",
      "613\n",
      "617\n",
      "619\n",
      "631\n",
      "641\n",
      "643\n",
      "647\n",
      "653\n",
      "659\n",
      "661\n",
      "673\n",
      "677\n",
      "683\n",
      "691\n",
      "701\n",
      "709\n",
      "719\n",
      "727\n",
      "733\n",
      "739\n",
      "743\n",
      "751\n",
      "757\n",
      "761\n",
      "769\n",
      "773\n",
      "787\n",
      "797\n",
      "809\n",
      "811\n",
      "821\n",
      "823\n",
      "827\n",
      "829\n",
      "839\n",
      "853\n",
      "857\n",
      "859\n",
      "863\n",
      "877\n",
      "881\n",
      "883\n",
      "887\n",
      "907\n",
      "911\n",
      "919\n",
      "929\n",
      "937\n",
      "941\n",
      "947\n",
      "953\n",
      "967\n",
      "971\n",
      "977\n",
      "983\n",
      "991\n",
      "997\n",
      "나눗셈을 실행한 횟수 : 78022\n"
     ]
    }
   ],
   "source": [
    "# 1,000 이하의 소수를 나열하기\n",
    "\n",
    "counter = 0         # 나눗셈 횟수를 카운트\n",
    "\n",
    "for n in range(2, 1001):\n",
    "    for i in range(2, n):\n",
    "        counter += 1\n",
    "        if n % i == 0 :     # 나누어 떨어지면 소수가 아님\n",
    "            break           # 반복은 더 이상 불필요하여 중단\n",
    "\n",
    "    else:                   # 끝까지 나누어 떨어지지 않으면 다음을 수행\n",
    "        print (n)\n",
    "\n",
    "print (f'나눗셈을 실행한 횟수 : {counter}')"
   ]
  },
  {
   "cell_type": "markdown",
   "metadata": {},
   "source": [
    "###### 2-9"
   ]
  },
  {
   "cell_type": "code",
   "execution_count": 20,
   "metadata": {},
   "outputs": [
    {
     "name": "stdout",
     "output_type": "stream",
     "text": [
      "2\n",
      "3\n",
      "5\n",
      "7\n",
      "11\n",
      "13\n",
      "17\n",
      "19\n",
      "23\n",
      "29\n",
      "31\n",
      "37\n",
      "41\n",
      "43\n",
      "47\n",
      "53\n",
      "59\n",
      "61\n",
      "67\n",
      "71\n",
      "73\n",
      "79\n",
      "83\n",
      "89\n",
      "97\n",
      "101\n",
      "103\n",
      "107\n",
      "109\n",
      "113\n",
      "127\n",
      "131\n",
      "137\n",
      "139\n",
      "149\n",
      "151\n",
      "157\n",
      "163\n",
      "167\n",
      "173\n",
      "179\n",
      "181\n",
      "191\n",
      "193\n",
      "197\n",
      "199\n",
      "211\n",
      "223\n",
      "227\n",
      "229\n",
      "233\n",
      "239\n",
      "241\n",
      "251\n",
      "257\n",
      "263\n",
      "269\n",
      "271\n",
      "277\n",
      "281\n",
      "283\n",
      "293\n",
      "307\n",
      "311\n",
      "313\n",
      "317\n",
      "331\n",
      "337\n",
      "347\n",
      "349\n",
      "353\n",
      "359\n",
      "367\n",
      "373\n",
      "379\n",
      "383\n",
      "389\n",
      "397\n",
      "401\n",
      "409\n",
      "419\n",
      "421\n",
      "431\n",
      "433\n",
      "439\n",
      "443\n",
      "449\n",
      "457\n",
      "461\n",
      "463\n",
      "467\n",
      "479\n",
      "487\n",
      "491\n",
      "499\n",
      "503\n",
      "509\n",
      "521\n",
      "523\n",
      "541\n",
      "547\n",
      "557\n",
      "563\n",
      "569\n",
      "571\n",
      "577\n",
      "587\n",
      "593\n",
      "599\n",
      "601\n",
      "607\n",
      "613\n",
      "617\n",
      "619\n",
      "631\n",
      "641\n",
      "643\n",
      "647\n",
      "653\n",
      "659\n",
      "661\n",
      "673\n",
      "677\n",
      "683\n",
      "691\n",
      "701\n",
      "709\n",
      "719\n",
      "727\n",
      "733\n",
      "739\n",
      "743\n",
      "751\n",
      "757\n",
      "761\n",
      "769\n",
      "773\n",
      "787\n",
      "797\n",
      "809\n",
      "811\n",
      "821\n",
      "823\n",
      "827\n",
      "829\n",
      "839\n",
      "853\n",
      "857\n",
      "859\n",
      "863\n",
      "877\n",
      "881\n",
      "883\n",
      "887\n",
      "907\n",
      "911\n",
      "919\n",
      "929\n",
      "937\n",
      "941\n",
      "947\n",
      "953\n",
      "967\n",
      "971\n",
      "977\n",
      "983\n",
      "991\n",
      "997\n",
      "나눗셈을 실행한 횟수 : 14622\n"
     ]
    }
   ],
   "source": [
    "# 1,000 이하의 소수를 나열하기(알고리즘 개선)\n",
    "\n",
    "counter = 0                     # 나눗셈 횟수를 카운트\n",
    "ptr = 0                         # 이미 찾은 소수의 개수\n",
    "prime = [None] * 500            # 소수를 저장하는 배열\n",
    "\n",
    "prime[ptr] = 2                  # 2는 소수이므로 초깃값으로 지정\n",
    "ptr += 1\n",
    "\n",
    "for n in range(3, 1001, 2):     # 홀수만을 대상으로 설정\n",
    "    for i in range(1, ptr):     # 이미 찾은 소수로 나눔\n",
    "        counter += 1\n",
    "        if n % prime[i] == 0:   # 나누어 떨어지면 소수가 아님\n",
    "            break               # 반복 중단\n",
    "    else:                       # 끝까지 나누어 떨어지지 않았다면\n",
    "        prime[ptr] = n          # 소수로 배열에 등록\n",
    "        ptr += 1\n",
    "\n",
    "for i in range(ptr):\n",
    "    print (prime[i])\n",
    "print (f'나눗셈을 실행한 횟수 : {counter}')"
   ]
  },
  {
   "cell_type": "markdown",
   "metadata": {},
   "source": [
    "###### 2-10"
   ]
  },
  {
   "cell_type": "code",
   "execution_count": 21,
   "metadata": {},
   "outputs": [
    {
     "name": "stdout",
     "output_type": "stream",
     "text": [
      "2\n",
      "3\n",
      "5\n",
      "7\n",
      "11\n",
      "13\n",
      "17\n",
      "19\n",
      "23\n",
      "29\n",
      "31\n",
      "37\n",
      "41\n",
      "43\n",
      "47\n",
      "53\n",
      "59\n",
      "61\n",
      "67\n",
      "71\n",
      "73\n",
      "79\n",
      "83\n",
      "89\n",
      "97\n",
      "101\n",
      "103\n",
      "107\n",
      "109\n",
      "113\n",
      "127\n",
      "131\n",
      "137\n",
      "139\n",
      "149\n",
      "151\n",
      "157\n",
      "163\n",
      "167\n",
      "173\n",
      "179\n",
      "181\n",
      "191\n",
      "193\n",
      "197\n",
      "199\n",
      "211\n",
      "223\n",
      "227\n",
      "229\n",
      "233\n",
      "239\n",
      "241\n",
      "251\n",
      "257\n",
      "263\n",
      "269\n",
      "271\n",
      "277\n",
      "281\n",
      "283\n",
      "293\n",
      "307\n",
      "311\n",
      "313\n",
      "317\n",
      "331\n",
      "337\n",
      "347\n",
      "349\n",
      "353\n",
      "359\n",
      "367\n",
      "373\n",
      "379\n",
      "383\n",
      "389\n",
      "397\n",
      "401\n",
      "409\n",
      "419\n",
      "421\n",
      "431\n",
      "433\n",
      "439\n",
      "443\n",
      "449\n",
      "457\n",
      "461\n",
      "463\n",
      "467\n",
      "479\n",
      "487\n",
      "491\n",
      "499\n",
      "503\n",
      "509\n",
      "521\n",
      "523\n",
      "541\n",
      "547\n",
      "557\n",
      "563\n",
      "569\n",
      "571\n",
      "577\n",
      "587\n",
      "593\n",
      "599\n",
      "601\n",
      "607\n",
      "613\n",
      "617\n",
      "619\n",
      "631\n",
      "641\n",
      "643\n",
      "647\n",
      "653\n",
      "659\n",
      "661\n",
      "673\n",
      "677\n",
      "683\n",
      "691\n",
      "701\n",
      "709\n",
      "719\n",
      "727\n",
      "733\n",
      "739\n",
      "743\n",
      "751\n",
      "757\n",
      "761\n",
      "769\n",
      "773\n",
      "787\n",
      "797\n",
      "809\n",
      "811\n",
      "821\n",
      "823\n",
      "827\n",
      "829\n",
      "839\n",
      "853\n",
      "857\n",
      "859\n",
      "863\n",
      "877\n",
      "881\n",
      "883\n",
      "887\n",
      "907\n",
      "911\n",
      "919\n",
      "929\n",
      "937\n",
      "941\n",
      "947\n",
      "953\n",
      "967\n",
      "971\n",
      "977\n",
      "983\n",
      "991\n",
      "997\n",
      "곱셈과 나눗셈을 실행한 횟수 : 3774\n"
     ]
    }
   ],
   "source": [
    "# 1,000 이하의 소수를 나열하기(알고리즘 개선 2)\n",
    "\n",
    "counter = 0                         # 곱셈과 나눗셈을 합한 횟수\n",
    "ptr = 0                             # 이미 찾은 소수의 개수\n",
    "prime = [None] * 500                # 소수를 저장하는 배열\n",
    "\n",
    "prime[ptr] = 2                      # 2는 소수\n",
    "ptr += 1\n",
    "\n",
    "prime[ptr] = 3                      # 3은 소수\n",
    "ptr += 1\n",
    "\n",
    "for n in range(5, 1001, 2):         # 홀수만을 대상으로 설정\n",
    "    i = 1\n",
    "    while prime[i] * prime[i] <= n:\n",
    "        counter += 2\n",
    "        if n % prime[i] == 0:       # 나누어 떨어지므로 소수가 아님\n",
    "            break                   # 반복 중단\n",
    "        i += 1\n",
    "    else:                           # 끝까지 나누어 떨어지지 않았다면\n",
    "        prime[ptr] = n              # 소수로 배열에 등록\n",
    "        ptr += 1\n",
    "        counter += 1\n",
    "\n",
    "for i in range(ptr):                # ptr의 소수를 출력\n",
    "    print (prime[i])\n",
    "print (f'곱셈과 나눗셈을 실행한 횟수 : {counter}')"
   ]
  },
  {
   "cell_type": "markdown",
   "metadata": {},
   "source": [
    "###### 보충 수업 2-7 : 리스트의 원소와 복사\n",
    "###### 2C-7"
   ]
  },
  {
   "cell_type": "code",
   "execution_count": 22,
   "metadata": {},
   "outputs": [
    {
     "name": "stdout",
     "output_type": "stream",
     "text": [
      "x[0] = 15\n",
      "x[1] = 64\n",
      "x[2] = 7\n",
      "x[3] = 3.14\n",
      "x[4] = [32, 55]\n",
      "x[5] = ABC\n"
     ]
    }
   ],
   "source": [
    "# 자료형을 정하지 않은 리스트 원소 확인하기\n",
    "\n",
    "x = [15, 64, 7, 3.14, [32, 55], 'ABC']\n",
    "\n",
    "for i in range(len(x)):\n",
    "    print (f'x[{i}] = {x[i]}')"
   ]
  },
  {
   "cell_type": "code",
   "execution_count": 23,
   "metadata": {},
   "outputs": [
    {
     "name": "stdout",
     "output_type": "stream",
     "text": [
      "[[1, 9, 3], [4, 5, 6]]\n",
      "[[1, 9, 3], [4, 5, 6]]\n"
     ]
    }
   ],
   "source": [
    "x = [[1, 2, 3], [4, 5, 6]]\n",
    "y = x.copy()    # x를 y로 얕은 복사\n",
    "\n",
    "x[0][1] = 9\n",
    "\n",
    "print (x)\n",
    "print (y)"
   ]
  },
  {
   "cell_type": "code",
   "execution_count": 24,
   "metadata": {},
   "outputs": [
    {
     "name": "stdout",
     "output_type": "stream",
     "text": [
      "[[1, 9, 3], [4, 5, 6]]\n",
      "[[1, 2, 3], [4, 5, 6]]\n"
     ]
    }
   ],
   "source": [
    "import copy\n",
    "x = [[1, 2, 3], [4, 5, 6]]\n",
    "y = copy.deepcopy(x)\n",
    "\n",
    "x[0][1] = 9\n",
    "print (x)\n",
    "print (y)"
   ]
  },
  {
   "cell_type": "code",
   "execution_count": null,
   "metadata": {},
   "outputs": [],
   "source": []
  }
 ],
 "metadata": {
  "interpreter": {
   "hash": "0cf90eb564dcf90a219ae509985b5381d51b47d0448d01a29ea34215728d8c14"
  },
  "kernelspec": {
   "display_name": "Python 3.8.8 64-bit ('base': conda)",
   "language": "python",
   "name": "python3"
  },
  "language_info": {
   "codemirror_mode": {
    "name": "ipython",
    "version": 3
   },
   "file_extension": ".py",
   "mimetype": "text/x-python",
   "name": "python",
   "nbconvert_exporter": "python",
   "pygments_lexer": "ipython3",
   "version": "3.8.8"
  },
  "orig_nbformat": 4
 },
 "nbformat": 4,
 "nbformat_minor": 2
}
