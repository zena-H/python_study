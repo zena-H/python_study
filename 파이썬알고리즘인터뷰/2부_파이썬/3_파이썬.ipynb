{
 "cells": [
  {
   "cell_type": "markdown",
   "metadata": {},
   "source": [
    "##### 인덴트\n",
    "\n",
    "공식 가이드인 PEP 8(Python Enhancement Proposals, 파이썬 개선 제안서) 에 따라 공백 4칸을 원칙으로 함\n"
   ]
  },
  {
   "cell_type": "code",
   "execution_count": null,
   "metadata": {},
   "outputs": [],
   "source": [
    "# 첫 번째 줄에 파라미터가 없다면 공백 4칸을 추가함\n",
    "def long_function_name(\n",
    "    var_one, var_two, var_three, var_four):\n",
    "\n",
    "    print(var_one)\n",
    "\n",
    "# 첫 번째 줄에 파라미터가 있다면 파라미터가 시작되는 부분에 보기 좋게 맞춤\n",
    "foo = long_function_name(var_one, var_two,\n",
    "                         var_three, var_four)"
   ]
  },
  {
   "cell_type": "markdown",
   "metadata": {},
   "source": [
    "##### 네이밍 컨벤션\n",
    "\n",
    "파이썬의 변수명 Naming Convention은 자바와 달리 각 단어를 밑줄(_)로 구분하여 표기하는 Snake Case를 따름\n",
    "\n",
    "자바같은 경우에는 단어별로 대소문자를 구별하여 표기하는 Camel Case를 따름\n",
    "\n",
    "- Python : snake_case\n",
    "- JAVA : CamelCase"
   ]
  },
  {
   "cell_type": "markdown",
   "metadata": {},
   "source": [
    "##### 타입 힌트\n",
    "\n",
    "Type Hint : 타입을 지정할 수 있음, PEP 484에 추가됨"
   ]
  },
  {
   "cell_type": "code",
   "execution_count": null,
   "metadata": {},
   "outputs": [],
   "source": [
    "def fn(a : int) -> bool:\n",
    "    print(a)\n",
    "\n",
    "# 타입힌트에 오류가 없는지 확인하는 법\n",
    "\"\"\"\n",
    "(console)\n",
    "pip install mypy\n",
    "\n",
    "mypy 파일.py\n",
    "-> 문제가 있는 경우 Error: Incompatible return value type 발생\n",
    "\"\"\""
   ]
  },
  {
   "cell_type": "markdown",
   "metadata": {},
   "source": [
    "##### 리스트 컴프리헨션\n",
    "\n",
    "map, filter와 같은 함수형(Functional) 기능을 지원하면 람다표현식(Lambda Expression)도 지원"
   ]
  },
  {
   "cell_type": "code",
   "execution_count": 2,
   "metadata": {},
   "outputs": [
    {
     "data": {
      "text/plain": [
       "[11, 12, 13]"
      ]
     },
     "execution_count": 2,
     "metadata": {},
     "output_type": "execute_result"
    }
   ],
   "source": [
    "list(map(lambda x : x + 10, [1, 2, 3]))"
   ]
  },
  {
   "cell_type": "markdown",
   "metadata": {},
   "source": [
    "List Comprehension : 기존 리스트를 기반으로 새로운 리스트를 만들어내는 구문"
   ]
  },
  {
   "cell_type": "code",
   "execution_count": 3,
   "metadata": {},
   "outputs": [
    {
     "data": {
      "text/plain": [
       "[2, 6, 10, 14, 18]"
      ]
     },
     "execution_count": 3,
     "metadata": {},
     "output_type": "execute_result"
    }
   ],
   "source": [
    "[n * 2 for n in range(1, 10 + 1) if n % 2 == 1]"
   ]
  },
  {
   "cell_type": "code",
   "execution_count": 4,
   "metadata": {},
   "outputs": [
    {
     "data": {
      "text/plain": [
       "[2, 6, 10, 14, 18]"
      ]
     },
     "execution_count": 4,
     "metadata": {},
     "output_type": "execute_result"
    }
   ],
   "source": [
    "# List Comprehension을 사용하지 않을 경우\n",
    "a = []\n",
    "for n in range(1, 10 + 1):\n",
    "    if n % 2 == 1:\n",
    "        a.append(n * 2)\n",
    "\n",
    "a"
   ]
  },
  {
   "cell_type": "code",
   "execution_count": 6,
   "metadata": {},
   "outputs": [
    {
     "name": "stdout",
     "output_type": "stream",
     "text": [
      "{'a': 1, 'b': 2, 'c': 3}\n",
      "{'a': 1, 'b': 2, 'c': 3}\n"
     ]
    }
   ],
   "source": [
    "original = {'a':1, 'b':2, 'c':3}\n",
    "\n",
    "# 딕셔너리에서 사용하는 방법(List comprehension X)\n",
    "a = {}\n",
    "for key, value in original.items():\n",
    "    a[key] = value\n",
    "print(a)\n",
    "\n",
    "# 딕셔너리에서 사용하는 방법(List comprehension O)\n",
    "a = {key : value for key, value in original.items()}\n",
    "print(a)"
   ]
  },
  {
   "cell_type": "markdown",
   "metadata": {},
   "source": [
    "##### 제너레이터\n",
    "\n",
    "Generator : 루프의 반복 동작을 제어할 수 있는 루틴 형태"
   ]
  },
  {
   "cell_type": "code",
   "execution_count": 1,
   "metadata": {},
   "outputs": [],
   "source": [
    "# return -> 함수를 멈추고 값을 내보냄\n",
    "# yield -> 여기까지 실행 값을 내보낸다는 의미(맨 끝까지 실행)\n",
    "\n",
    "def get_natural_number():\n",
    "    n = 0\n",
    "    while 1:\n",
    "        n += 1\n",
    "        yield n\n",
    "\n",
    "def get_number():\n",
    "    n = 0\n",
    "    while 1:\n",
    "        n += 1\n",
    "        return n"
   ]
  },
  {
   "cell_type": "code",
   "execution_count": 3,
   "metadata": {},
   "outputs": [
    {
     "data": {
      "text/plain": [
       "1"
      ]
     },
     "execution_count": 3,
     "metadata": {},
     "output_type": "execute_result"
    }
   ],
   "source": [
    "get_number()"
   ]
  },
  {
   "cell_type": "code",
   "execution_count": 4,
   "metadata": {},
   "outputs": [
    {
     "data": {
      "text/plain": [
       "<generator object get_natural_number at 0x000001F428C62C10>"
      ]
     },
     "execution_count": 4,
     "metadata": {},
     "output_type": "execute_result"
    }
   ],
   "source": [
    "get_natural_number()"
   ]
  },
  {
   "cell_type": "code",
   "execution_count": 5,
   "metadata": {},
   "outputs": [
    {
     "name": "stdout",
     "output_type": "stream",
     "text": [
      "1\n",
      "2\n",
      "3\n",
      "4\n",
      "5\n",
      "6\n",
      "7\n",
      "8\n",
      "9\n",
      "10\n",
      "11\n",
      "12\n",
      "13\n",
      "14\n",
      "15\n",
      "16\n",
      "17\n",
      "18\n",
      "19\n",
      "20\n",
      "21\n",
      "22\n",
      "23\n",
      "24\n",
      "25\n",
      "26\n",
      "27\n",
      "28\n",
      "29\n",
      "30\n",
      "31\n",
      "32\n",
      "33\n",
      "34\n",
      "35\n",
      "36\n",
      "37\n",
      "38\n",
      "39\n",
      "40\n",
      "41\n",
      "42\n",
      "43\n",
      "44\n",
      "45\n",
      "46\n",
      "47\n",
      "48\n",
      "49\n",
      "50\n",
      "51\n",
      "52\n",
      "53\n",
      "54\n",
      "55\n",
      "56\n",
      "57\n",
      "58\n",
      "59\n",
      "60\n",
      "61\n",
      "62\n",
      "63\n",
      "64\n",
      "65\n",
      "66\n",
      "67\n",
      "68\n",
      "69\n",
      "70\n",
      "71\n",
      "72\n",
      "73\n",
      "74\n",
      "75\n",
      "76\n",
      "77\n",
      "78\n",
      "79\n",
      "80\n",
      "81\n",
      "82\n",
      "83\n",
      "84\n",
      "85\n",
      "86\n",
      "87\n",
      "88\n",
      "89\n",
      "90\n",
      "91\n",
      "92\n",
      "93\n",
      "94\n",
      "95\n",
      "96\n",
      "97\n",
      "98\n",
      "99\n",
      "100\n"
     ]
    }
   ],
   "source": [
    "g = get_natural_number()\n",
    "for _ in range(0, 100):\n",
    "    print(next(g))"
   ]
  },
  {
   "cell_type": "code",
   "execution_count": 7,
   "metadata": {},
   "outputs": [
    {
     "name": "stdout",
     "output_type": "stream",
     "text": [
      "<generator object generator at 0x000001F428FCCC10>\n",
      "1\n",
      "True\n",
      "string\n"
     ]
    }
   ],
   "source": [
    "def generator():\n",
    "    yield 1\n",
    "    yield True\n",
    "    yield 'string'\n",
    "\n",
    "g = generator()\n",
    "\n",
    "print(g)\n",
    "print(next(g))\n",
    "print(next(g))\n",
    "print(next(g))"
   ]
  },
  {
   "cell_type": "markdown",
   "metadata": {},
   "source": [
    "##### range\n"
   ]
  },
  {
   "cell_type": "code",
   "execution_count": 8,
   "metadata": {},
   "outputs": [
    {
     "data": {
      "text/plain": [
       "[0, 1, 2, 3, 4]"
      ]
     },
     "execution_count": 8,
     "metadata": {},
     "output_type": "execute_result"
    }
   ],
   "source": [
    "list(range(5))"
   ]
  },
  {
   "cell_type": "code",
   "execution_count": 9,
   "metadata": {},
   "outputs": [
    {
     "data": {
      "text/plain": [
       "range(0, 5)"
      ]
     },
     "execution_count": 9,
     "metadata": {},
     "output_type": "execute_result"
    }
   ],
   "source": [
    "range(5)"
   ]
  },
  {
   "cell_type": "code",
   "execution_count": 10,
   "metadata": {},
   "outputs": [
    {
     "data": {
      "text/plain": [
       "range"
      ]
     },
     "execution_count": 10,
     "metadata": {},
     "output_type": "execute_result"
    }
   ],
   "source": [
    "type(range(5))"
   ]
  },
  {
   "cell_type": "code",
   "execution_count": 12,
   "metadata": {},
   "outputs": [
    {
     "name": "stdout",
     "output_type": "stream",
     "text": [
      "0 1 2 3 4 "
     ]
    }
   ],
   "source": [
    "for i in range(5):\n",
    "    print(i, end = ' ')"
   ]
  },
  {
   "cell_type": "code",
   "execution_count": 13,
   "metadata": {},
   "outputs": [],
   "source": [
    "a = [n for n in range(1000000)]     # 생성된 값\n",
    "b = range(1000000)                  # 생성자"
   ]
  },
  {
   "cell_type": "code",
   "execution_count": 14,
   "metadata": {},
   "outputs": [
    {
     "data": {
      "text/plain": [
       "1000000"
      ]
     },
     "execution_count": 14,
     "metadata": {},
     "output_type": "execute_result"
    }
   ],
   "source": [
    "len(a)"
   ]
  },
  {
   "cell_type": "code",
   "execution_count": 15,
   "metadata": {},
   "outputs": [
    {
     "data": {
      "text/plain": [
       "1000000"
      ]
     },
     "execution_count": 15,
     "metadata": {},
     "output_type": "execute_result"
    }
   ],
   "source": [
    "len(b)"
   ]
  },
  {
   "cell_type": "code",
   "execution_count": 16,
   "metadata": {},
   "outputs": [
    {
     "data": {
      "text/plain": [
       "True"
      ]
     },
     "execution_count": 16,
     "metadata": {},
     "output_type": "execute_result"
    }
   ],
   "source": [
    "len(a) == len(b)"
   ]
  },
  {
   "cell_type": "code",
   "execution_count": 17,
   "metadata": {},
   "outputs": [
    {
     "name": "stdout",
     "output_type": "stream",
     "text": [
      "range(0, 1000000)\n",
      "<class 'range'>\n"
     ]
    }
   ],
   "source": [
    "print(b)\n",
    "print(type(b))"
   ]
  },
  {
   "cell_type": "code",
   "execution_count": 18,
   "metadata": {},
   "outputs": [
    {
     "data": {
      "text/plain": [
       "999"
      ]
     },
     "execution_count": 18,
     "metadata": {},
     "output_type": "execute_result"
    }
   ],
   "source": [
    "b[999]"
   ]
  },
  {
   "cell_type": "code",
   "execution_count": 20,
   "metadata": {},
   "outputs": [
    {
     "name": "stdout",
     "output_type": "stream",
     "text": [
      "8697456\n",
      "48\n",
      "48\n"
     ]
    }
   ],
   "source": [
    "import sys\n",
    "\n",
    "print(sys.getsizeof(a))\n",
    "print(sys.getsizeof(b))\n",
    "\n",
    "# 생성자는 값이 많아지더라도 값은 같음\n",
    "print(sys.getsizeof(range(100000000)))          "
   ]
  },
  {
   "cell_type": "markdown",
   "metadata": {},
   "source": [
    "##### enumerate\n",
    "\n",
    "enumerate : 인텍스를 포함한 enumerate 객체로 리턴함"
   ]
  },
  {
   "cell_type": "code",
   "execution_count": 21,
   "metadata": {},
   "outputs": [
    {
     "data": {
      "text/plain": [
       "[1, 2, 3, 2, 45, 2, 5]"
      ]
     },
     "execution_count": 21,
     "metadata": {},
     "output_type": "execute_result"
    }
   ],
   "source": [
    "a = [1, 2, 3, 2, 45 , 2, 5]\n",
    "\n",
    "a"
   ]
  },
  {
   "cell_type": "code",
   "execution_count": 22,
   "metadata": {},
   "outputs": [
    {
     "data": {
      "text/plain": [
       "<enumerate at 0x1f4289d2500>"
      ]
     },
     "execution_count": 22,
     "metadata": {},
     "output_type": "execute_result"
    }
   ],
   "source": [
    "enumerate(a)"
   ]
  },
  {
   "cell_type": "code",
   "execution_count": 23,
   "metadata": {},
   "outputs": [
    {
     "data": {
      "text/plain": [
       "[(0, 1), (1, 2), (2, 3), (3, 2), (4, 45), (5, 2), (6, 5)]"
      ]
     },
     "execution_count": 23,
     "metadata": {},
     "output_type": "execute_result"
    }
   ],
   "source": [
    "list(enumerate(a))"
   ]
  },
  {
   "cell_type": "code",
   "execution_count": 25,
   "metadata": {},
   "outputs": [
    {
     "name": "stdout",
     "output_type": "stream",
     "text": [
      "0 1\n",
      "1 2\n",
      "2 3\n",
      "3 2\n",
      "4 45\n",
      "5 2\n",
      "6 5\n"
     ]
    }
   ],
   "source": [
    "# 여러가지 방법으로 인덱스와 값 내보내기\n",
    "\n",
    "# 방법 1\n",
    "for i in range(len(a)):\n",
    "    print(i, a[i])"
   ]
  },
  {
   "cell_type": "code",
   "execution_count": 26,
   "metadata": {},
   "outputs": [
    {
     "name": "stdout",
     "output_type": "stream",
     "text": [
      "0 1\n",
      "1 2\n",
      "2 3\n",
      "3 2\n",
      "4 45\n",
      "5 2\n",
      "6 5\n"
     ]
    }
   ],
   "source": [
    "# 방법 2\n",
    "i = 0\n",
    "for v in a:\n",
    "    print(i, v)\n",
    "    i += 1"
   ]
  },
  {
   "cell_type": "code",
   "execution_count": 27,
   "metadata": {},
   "outputs": [
    {
     "name": "stdout",
     "output_type": "stream",
     "text": [
      "0 1\n",
      "1 2\n",
      "2 3\n",
      "3 2\n",
      "4 45\n",
      "5 2\n",
      "6 5\n"
     ]
    }
   ],
   "source": [
    "for i, v in enumerate(a):\n",
    "    print(i, v)"
   ]
  },
  {
   "cell_type": "markdown",
   "metadata": {},
   "source": [
    "##### // 나눗셈 연산자\n",
    "\n",
    "5 / 3\n",
    "- python 3.x -> 1.666667\n",
    "- python 2.x -> 1\n",
    "\n",
    "//는 파이썬 2.x에서 /와 같으며 몫을 반환한다"
   ]
  },
  {
   "cell_type": "code",
   "execution_count": 28,
   "metadata": {},
   "outputs": [
    {
     "data": {
      "text/plain": [
       "1.6666666666666667"
      ]
     },
     "execution_count": 28,
     "metadata": {},
     "output_type": "execute_result"
    }
   ],
   "source": [
    "5/3"
   ]
  },
  {
   "cell_type": "code",
   "execution_count": 29,
   "metadata": {},
   "outputs": [
    {
     "data": {
      "text/plain": [
       "float"
      ]
     },
     "execution_count": 29,
     "metadata": {},
     "output_type": "execute_result"
    }
   ],
   "source": [
    "type(5/3)"
   ]
  },
  {
   "cell_type": "code",
   "execution_count": 30,
   "metadata": {},
   "outputs": [
    {
     "data": {
      "text/plain": [
       "1"
      ]
     },
     "execution_count": 30,
     "metadata": {},
     "output_type": "execute_result"
    }
   ],
   "source": [
    "5//3"
   ]
  },
  {
   "cell_type": "code",
   "execution_count": 31,
   "metadata": {},
   "outputs": [
    {
     "data": {
      "text/plain": [
       "int"
      ]
     },
     "execution_count": 31,
     "metadata": {},
     "output_type": "execute_result"
    }
   ],
   "source": [
    "type(5 // 3)"
   ]
  },
  {
   "cell_type": "code",
   "execution_count": 32,
   "metadata": {},
   "outputs": [
    {
     "data": {
      "text/plain": [
       "1"
      ]
     },
     "execution_count": 32,
     "metadata": {},
     "output_type": "execute_result"
    }
   ],
   "source": [
    "int(5 / 3)"
   ]
  },
  {
   "cell_type": "code",
   "execution_count": 33,
   "metadata": {},
   "outputs": [
    {
     "data": {
      "text/plain": [
       "int"
      ]
     },
     "execution_count": 33,
     "metadata": {},
     "output_type": "execute_result"
    }
   ],
   "source": [
    "type(int(5 / 3))"
   ]
  },
  {
   "cell_type": "code",
   "execution_count": 34,
   "metadata": {},
   "outputs": [
    {
     "data": {
      "text/plain": [
       "2"
      ]
     },
     "execution_count": 34,
     "metadata": {},
     "output_type": "execute_result"
    }
   ],
   "source": [
    "# 나머지를 구하는 방법\n",
    "5 % 3"
   ]
  },
  {
   "cell_type": "code",
   "execution_count": 36,
   "metadata": {},
   "outputs": [
    {
     "data": {
      "text/plain": [
       "(1, 2)"
      ]
     },
     "execution_count": 36,
     "metadata": {},
     "output_type": "execute_result"
    }
   ],
   "source": [
    "# 몫과 나머지를 같이 구하는 방법\n",
    "divmod(5, 3)"
   ]
  },
  {
   "cell_type": "markdown",
   "metadata": {},
   "source": [
    "##### print\n",
    "\n",
    "python 2.x에서는 statement(절)이었으나 3.x부터는 함수로 바뀜"
   ]
  },
  {
   "cell_type": "code",
   "execution_count": 37,
   "metadata": {},
   "outputs": [
    {
     "name": "stdout",
     "output_type": "stream",
     "text": [
      "A1 B1\n",
      "A1,B1\n"
     ]
    }
   ],
   "source": [
    "print('A1', 'B1')\n",
    "\n",
    "print('A1', 'B1', sep = ',')"
   ]
  },
  {
   "cell_type": "code",
   "execution_count": 39,
   "metadata": {},
   "outputs": [
    {
     "name": "stdout",
     "output_type": "stream",
     "text": [
      "aa bb\n"
     ]
    }
   ],
   "source": [
    "print('aa', end = ' ')\n",
    "print('bb')"
   ]
  },
  {
   "cell_type": "code",
   "execution_count": 40,
   "metadata": {},
   "outputs": [
    {
     "name": "stdout",
     "output_type": "stream",
     "text": [
      "A B\n"
     ]
    }
   ],
   "source": [
    "a = ['A', 'B']\n",
    "\n",
    "print(' '.join(a))"
   ]
  },
  {
   "cell_type": "code",
   "execution_count": 41,
   "metadata": {},
   "outputs": [
    {
     "name": "stdout",
     "output_type": "stream",
     "text": [
      "2: Apple\n",
      "2: Apple\n"
     ]
    }
   ],
   "source": [
    "idx = 1\n",
    "fruit = 'Apple'\n",
    "\n",
    "print('{0}: {1}'.format(idx + 1, fruit))\n",
    "print('{}: {}'.format(idx + 1, fruit))"
   ]
  },
  {
   "cell_type": "code",
   "execution_count": 42,
   "metadata": {},
   "outputs": [
    {
     "name": "stdout",
     "output_type": "stream",
     "text": [
      "2 : Apple\n"
     ]
    }
   ],
   "source": [
    "print(f'{idx + 1} : {fruit}')"
   ]
  },
  {
   "cell_type": "code",
   "execution_count": 43,
   "metadata": {},
   "outputs": [
    {
     "name": "stdout",
     "output_type": "stream",
     "text": [
      "2 : Apple\n"
     ]
    }
   ],
   "source": [
    "print('%d : %s' % (idx + 1, fruit))"
   ]
  },
  {
   "cell_type": "markdown",
   "metadata": {},
   "source": [
    "##### pass\n",
    "\n",
    "pass : Null Operator로 아무것도 하지 않는 기능, mockup 인터페이스부터 구현한 다음에 추후 구현을 진행할 수 있게 함"
   ]
  },
  {
   "cell_type": "code",
   "execution_count": 44,
   "metadata": {},
   "outputs": [
    {
     "ename": "IndentationError",
     "evalue": "expected an indented block (<ipython-input-44-6d4f0c928c55>, line 4)",
     "output_type": "error",
     "traceback": [
      "\u001b[1;36m  File \u001b[1;32m\"<ipython-input-44-6d4f0c928c55>\"\u001b[1;36m, line \u001b[1;32m4\u001b[0m\n\u001b[1;33m    def method_b(self):\u001b[0m\n\u001b[1;37m    ^\u001b[0m\n\u001b[1;31mIndentationError\u001b[0m\u001b[1;31m:\u001b[0m expected an indented block\n"
     ]
    }
   ],
   "source": [
    "class MyClass(object):\n",
    "    def method_a(self):\n",
    "\n",
    "    def method_b(self):\n",
    "        print('Method B')"
   ]
  },
  {
   "cell_type": "code",
   "execution_count": 45,
   "metadata": {},
   "outputs": [],
   "source": [
    "class MyClass(object):\n",
    "    def method_a(self):\n",
    "        # 여기에 pass 추가\n",
    "        pass\n",
    "\n",
    "    def method_b(self):\n",
    "        print('Method B')"
   ]
  },
  {
   "cell_type": "markdown",
   "metadata": {},
   "source": [
    "##### locals\n",
    "\n",
    "locals : 로컬 심볼 테이블 딕셔너리를 가져오는 메소드로 업데이트 또한 가능하다"
   ]
  },
  {
   "cell_type": "code",
   "execution_count": 47,
   "metadata": {},
   "outputs": [
    {
     "name": "stdout",
     "output_type": "stream",
     "text": [
      "{'__name__': '__main__', '__doc__': 'Automatically created module for IPython interactive environment', '__package__': None, '__loader__': None, '__spec__': None, '__builtin__': <module 'builtins' (built-in)>, '__builtins__': <module 'builtins' (built-in)>, '_ih': ['', '# return -> 함수를 멈추고 값을 내보냄\\n# yield -> 여기까지 실행 값을 내보낸다는 의미(맨 끝까지 실행)\\n\\ndef get_natural_number():\\n    n = 0\\n    while 1:\\n        n += 1\\n        yield n\\n\\ndef get_number():\\n    n = 0\\n    while 1:\\n        n += 1\\n        return n', 'get_number()', 'get_number()', 'get_natural_number()', 'g = get_natural_number()\\nfor _ in range(0, 100):\\n    print(next(g))', \"def generator():\\n    yield 1\\n    yield True\\n    yield 'string'\\n\\ng = generator()\\n\\ng\\nnext(g)\\nnext(g)\\nnext(g)\", \"def generator():\\n    yield 1\\n    yield True\\n    yield 'string'\\n\\ng = generator()\\n\\nprint(g)\\nprint(next(g))\\nprint(next(g))\\nprint(next(g))\", 'list(range(5))', 'range(5)', 'type(range(5))', \"for i in range(5):\\n    print(i, end = ' ')\", \"for i in range(5):\\n    print(i, end = ' ')\", 'a = [n for n in range(1000000)]     # 생성된 값\\nb = range(1000000)                  # 생성자', 'len(a)', 'len(b)', 'len(a) == len(b)', 'print(b)\\nprint(type(b))', 'b[999]', 'import sys\\n\\nprint(sys.getsizeof(a))\\nprint(sys.getsizeof(b))', 'import sys\\n\\nprint(sys.getsizeof(a))\\nprint(sys.getsizeof(b))\\n\\nprint(sys.getsizeof(range(100000000)))', 'a = [1, 2, 3, 2, 45 , 2, 5]\\n\\na', 'enumerate(a)', 'list(enumerate(a))', '# 여러가지 방법으로 인덱스와 값 내보내기', '# 여러가지 방법으로 인덱스와 값 내보내기\\n\\n# 방법 1\\nfor i in range(len(a)):\\n    print(i, a[i])', '# 방법 2\\ni = 0\\nfor v in a:\\n    print(i, v)\\n    i += 1', 'for i, v in enumerate(a):\\n    print(i, v)', '5/3', 'type(5/3)', '5//3', 'type(5 // 3)', 'int(5 / 3)', 'type(int(5 / 3))', '# 나머지를 구하는 방법\\n5 % 3', '# 몫과 나머지를 같이 구하는 방법\\ndivmod(5/3)', '# 몫과 나머지를 같이 구하는 방법\\ndivmod(5, 3)', \"print('A1', 'B1')\\n\\nprint('A1', 'B1', sep = ',')\", \"print('aa', end = '')\\nprint('bb')\", \"print('aa', end = ' ')\\nprint('bb')\", \"a = ['A', 'B']\\n\\nprint(' '.join(a))\", \"idx = 1\\nfruit = 'Apple'\\n\\nprint('{0}: {1}'.format(idx + 1, fruit))\\nprint('{}: {}'.format(idx + 1, fruit))\", \"print(f'{idx + 1} : {fruit}')\", \"print('%d : %s' % (idx + 1, fruit))\", \"class MyClass(object):\\n    def method_a(self):\\n\\n    def method_b(self):\\n        print('Method B')\", \"class MyClass(object):\\n    def method_a(self):\\n        # 여기에 pass 추가\\n        pass\\n\\n    def method_b(self):\\n        print('Method B')\", 'print(locals())', 'print(locals())'], '_oh': {2: 1, 3: 1, 4: <generator object get_natural_number at 0x000001F428C62C10>, 6: 'string', 8: [0, 1, 2, 3, 4], 9: range(0, 5), 10: <class 'range'>, 14: 1000000, 15: 1000000, 16: True, 18: 999, 21: [1, 2, 3, 2, 45, 2, 5], 22: <enumerate object at 0x000001F4289D2500>, 23: [(0, 1), (1, 2), (2, 3), (3, 2), (4, 45), (5, 2), (6, 5)], 28: 1.6666666666666667, 29: <class 'float'>, 30: 1, 31: <class 'int'>, 32: 1, 33: <class 'int'>, 34: 2, 36: (1, 2)}, '_dh': ['c:\\\\Users\\\\han71\\\\Desktop\\\\python_study\\\\파이썬알고리즘인터뷰\\\\2부_파이썬'], 'In': ['', '# return -> 함수를 멈추고 값을 내보냄\\n# yield -> 여기까지 실행 값을 내보낸다는 의미(맨 끝까지 실행)\\n\\ndef get_natural_number():\\n    n = 0\\n    while 1:\\n        n += 1\\n        yield n\\n\\ndef get_number():\\n    n = 0\\n    while 1:\\n        n += 1\\n        return n', 'get_number()', 'get_number()', 'get_natural_number()', 'g = get_natural_number()\\nfor _ in range(0, 100):\\n    print(next(g))', \"def generator():\\n    yield 1\\n    yield True\\n    yield 'string'\\n\\ng = generator()\\n\\ng\\nnext(g)\\nnext(g)\\nnext(g)\", \"def generator():\\n    yield 1\\n    yield True\\n    yield 'string'\\n\\ng = generator()\\n\\nprint(g)\\nprint(next(g))\\nprint(next(g))\\nprint(next(g))\", 'list(range(5))', 'range(5)', 'type(range(5))', \"for i in range(5):\\n    print(i, end = ' ')\", \"for i in range(5):\\n    print(i, end = ' ')\", 'a = [n for n in range(1000000)]     # 생성된 값\\nb = range(1000000)                  # 생성자', 'len(a)', 'len(b)', 'len(a) == len(b)', 'print(b)\\nprint(type(b))', 'b[999]', 'import sys\\n\\nprint(sys.getsizeof(a))\\nprint(sys.getsizeof(b))', 'import sys\\n\\nprint(sys.getsizeof(a))\\nprint(sys.getsizeof(b))\\n\\nprint(sys.getsizeof(range(100000000)))', 'a = [1, 2, 3, 2, 45 , 2, 5]\\n\\na', 'enumerate(a)', 'list(enumerate(a))', '# 여러가지 방법으로 인덱스와 값 내보내기', '# 여러가지 방법으로 인덱스와 값 내보내기\\n\\n# 방법 1\\nfor i in range(len(a)):\\n    print(i, a[i])', '# 방법 2\\ni = 0\\nfor v in a:\\n    print(i, v)\\n    i += 1', 'for i, v in enumerate(a):\\n    print(i, v)', '5/3', 'type(5/3)', '5//3', 'type(5 // 3)', 'int(5 / 3)', 'type(int(5 / 3))', '# 나머지를 구하는 방법\\n5 % 3', '# 몫과 나머지를 같이 구하는 방법\\ndivmod(5/3)', '# 몫과 나머지를 같이 구하는 방법\\ndivmod(5, 3)', \"print('A1', 'B1')\\n\\nprint('A1', 'B1', sep = ',')\", \"print('aa', end = '')\\nprint('bb')\", \"print('aa', end = ' ')\\nprint('bb')\", \"a = ['A', 'B']\\n\\nprint(' '.join(a))\", \"idx = 1\\nfruit = 'Apple'\\n\\nprint('{0}: {1}'.format(idx + 1, fruit))\\nprint('{}: {}'.format(idx + 1, fruit))\", \"print(f'{idx + 1} : {fruit}')\", \"print('%d : %s' % (idx + 1, fruit))\", \"class MyClass(object):\\n    def method_a(self):\\n\\n    def method_b(self):\\n        print('Method B')\", \"class MyClass(object):\\n    def method_a(self):\\n        # 여기에 pass 추가\\n        pass\\n\\n    def method_b(self):\\n        print('Method B')\", 'print(locals())', 'print(locals())'], 'Out': {2: 1, 3: 1, 4: <generator object get_natural_number at 0x000001F428C62C10>, 6: 'string', 8: [0, 1, 2, 3, 4], 9: range(0, 5), 10: <class 'range'>, 14: 1000000, 15: 1000000, 16: True, 18: 999, 21: [1, 2, 3, 2, 45, 2, 5], 22: <enumerate object at 0x000001F4289D2500>, 23: [(0, 1), (1, 2), (2, 3), (3, 2), (4, 45), (5, 2), (6, 5)], 28: 1.6666666666666667, 29: <class 'float'>, 30: 1, 31: <class 'int'>, 32: 1, 33: <class 'int'>, 34: 2, 36: (1, 2)}, 'get_ipython': <bound method InteractiveShell.get_ipython of <ipykernel.zmqshell.ZMQInteractiveShell object at 0x000001F42796D520>>, 'exit': <IPython.core.autocall.ZMQExitAutocall object at 0x000001F427A41610>, 'quit': <IPython.core.autocall.ZMQExitAutocall object at 0x000001F427A41610>, '_': 99, '__': 1, '___': 1, 'sys': <module 'sys' (built-in)>, 'site': <module 'site' from 'C:\\\\Users\\\\han71\\\\anaconda3\\\\lib\\\\site.py'>, 'os': <module 'os' from 'C:\\\\Users\\\\han71\\\\anaconda3\\\\lib\\\\os.py'>, '__vsc_ipynb_file__': 'c:\\\\Users\\\\han71\\\\Desktop\\\\python_study\\\\파이썬알고리즘인터뷰\\\\2부_파이썬\\\\3_파이썬.ipynb', '_i': 'print(locals())', '_ii': \"class MyClass(object):\\n    def method_a(self):\\n        # 여기에 pass 추가\\n        pass\\n\\n    def method_b(self):\\n        print('Method B')\", '_iii': \"class MyClass(object):\\n    def method_a(self):\\n\\n    def method_b(self):\\n        print('Method B')\", '_i1': '# return -> 함수를 멈추고 값을 내보냄\\n# yield -> 여기까지 실행 값을 내보낸다는 의미(맨 끝까지 실행)\\n\\ndef get_natural_number():\\n    n = 0\\n    while 1:\\n        n += 1\\n        yield n\\n\\ndef get_number():\\n    n = 0\\n    while 1:\\n        n += 1\\n        return n', 'get_natural_number': <function get_natural_number at 0x000001F427A69CA0>, 'get_number': <function get_number at 0x000001F427A69D30>, '_i2': 'get_number()', '_2': 1, '_i3': 'get_number()', '_3': 1, '_i4': 'get_natural_number()', '_4': <generator object get_natural_number at 0x000001F428C62C10>, '_i5': 'g = get_natural_number()\\nfor _ in range(0, 100):\\n    print(next(g))', 'g': <generator object generator at 0x000001F428FCCC10>, '_i6': \"def generator():\\n    yield 1\\n    yield True\\n    yield 'string'\\n\\ng = generator()\\n\\ng\\nnext(g)\\nnext(g)\\nnext(g)\", 'generator': <function generator at 0x000001F42876FCA0>, '_6': 'string', '_i7': \"def generator():\\n    yield 1\\n    yield True\\n    yield 'string'\\n\\ng = generator()\\n\\nprint(g)\\nprint(next(g))\\nprint(next(g))\\nprint(next(g))\", '_i8': 'list(range(5))', '_8': [0, 1, 2, 3, 4], '_i9': 'range(5)', '_9': range(0, 5), '_i10': 'type(range(5))', '_10': <class 'range'>, '_i11': \"for i in range(5):\\n    print(i, end = ' ')\", 'i': 6, '_i12': \"for i in range(5):\\n    print(i, end = ' ')\", '_i13': 'a = [n for n in range(1000000)]     # 생성된 값\\nb = range(1000000)                  # 생성자', 'a': ['A', 'B'], 'b': range(0, 1000000), '_i14': 'len(a)', '_14': 1000000, '_i15': 'len(b)', '_15': 1000000, '_i16': 'len(a) == len(b)', '_16': True, '_i17': 'print(b)\\nprint(type(b))', '_i18': 'b[999]', '_18': 999, '_i19': 'import sys\\n\\nprint(sys.getsizeof(a))\\nprint(sys.getsizeof(b))', '_i20': 'import sys\\n\\nprint(sys.getsizeof(a))\\nprint(sys.getsizeof(b))\\n\\nprint(sys.getsizeof(range(100000000)))', '_i21': 'a = [1, 2, 3, 2, 45 , 2, 5]\\n\\na', '_21': [1, 2, 3, 2, 45, 2, 5], '_i22': 'enumerate(a)', '_22': <enumerate object at 0x000001F4289D2500>, '_i23': 'list(enumerate(a))', '_23': [(0, 1), (1, 2), (2, 3), (3, 2), (4, 45), (5, 2), (6, 5)], '_i24': '# 여러가지 방법으로 인덱스와 값 내보내기', '_i25': '# 여러가지 방법으로 인덱스와 값 내보내기\\n\\n# 방법 1\\nfor i in range(len(a)):\\n    print(i, a[i])', '_i26': '# 방법 2\\ni = 0\\nfor v in a:\\n    print(i, v)\\n    i += 1', 'v': 5, '_i27': 'for i, v in enumerate(a):\\n    print(i, v)', '_i28': '5/3', '_28': 1.6666666666666667, '_i29': 'type(5/3)', '_29': <class 'float'>, '_i30': '5//3', '_30': 1, '_i31': 'type(5 // 3)', '_31': <class 'int'>, '_i32': 'int(5 / 3)', '_32': 1, '_i33': 'type(int(5 / 3))', '_33': <class 'int'>, '_i34': '# 나머지를 구하는 방법\\n5 % 3', '_34': 2, '_i35': '# 몫과 나머지를 같이 구하는 방법\\ndivmod(5/3)', '_i36': '# 몫과 나머지를 같이 구하는 방법\\ndivmod(5, 3)', '_36': (1, 2), '_i37': \"print('A1', 'B1')\\n\\nprint('A1', 'B1', sep = ',')\", '_i38': \"print('aa', end = '')\\nprint('bb')\", '_i39': \"print('aa', end = ' ')\\nprint('bb')\", '_i40': \"a = ['A', 'B']\\n\\nprint(' '.join(a))\", '_i41': \"idx = 1\\nfruit = 'Apple'\\n\\nprint('{0}: {1}'.format(idx + 1, fruit))\\nprint('{}: {}'.format(idx + 1, fruit))\", 'idx': 1, 'fruit': 'Apple', '_i42': \"print(f'{idx + 1} : {fruit}')\", '_i43': \"print('%d : %s' % (idx + 1, fruit))\", '_i44': \"class MyClass(object):\\n    def method_a(self):\\n\\n    def method_b(self):\\n        print('Method B')\", '_i45': \"class MyClass(object):\\n    def method_a(self):\\n        # 여기에 pass 추가\\n        pass\\n\\n    def method_b(self):\\n        print('Method B')\", 'MyClass': <class '__main__.MyClass'>, '_i46': 'print(locals())', '_i47': 'print(locals())'}\n"
     ]
    }
   ],
   "source": [
    "print(locals())"
   ]
  },
  {
   "cell_type": "code",
   "execution_count": 48,
   "metadata": {},
   "outputs": [
    {
     "name": "stdout",
     "output_type": "stream",
     "text": [
      "{'In': ['',\n",
      "        '# return -> 함수를 멈추고 값을 내보냄\\n'\n",
      "        '# yield -> 여기까지 실행 값을 내보낸다는 의미(맨 끝까지 실행)\\n'\n",
      "        '\\n'\n",
      "        'def get_natural_number():\\n'\n",
      "        '    n = 0\\n'\n",
      "        '    while 1:\\n'\n",
      "        '        n += 1\\n'\n",
      "        '        yield n\\n'\n",
      "        '\\n'\n",
      "        'def get_number():\\n'\n",
      "        '    n = 0\\n'\n",
      "        '    while 1:\\n'\n",
      "        '        n += 1\\n'\n",
      "        '        return n',\n",
      "        'get_number()',\n",
      "        'get_number()',\n",
      "        'get_natural_number()',\n",
      "        'g = get_natural_number()\\nfor _ in range(0, 100):\\n    print(next(g))',\n",
      "        'def generator():\\n'\n",
      "        '    yield 1\\n'\n",
      "        '    yield True\\n'\n",
      "        \"    yield 'string'\\n\"\n",
      "        '\\n'\n",
      "        'g = generator()\\n'\n",
      "        '\\n'\n",
      "        'g\\n'\n",
      "        'next(g)\\n'\n",
      "        'next(g)\\n'\n",
      "        'next(g)',\n",
      "        'def generator():\\n'\n",
      "        '    yield 1\\n'\n",
      "        '    yield True\\n'\n",
      "        \"    yield 'string'\\n\"\n",
      "        '\\n'\n",
      "        'g = generator()\\n'\n",
      "        '\\n'\n",
      "        'print(g)\\n'\n",
      "        'print(next(g))\\n'\n",
      "        'print(next(g))\\n'\n",
      "        'print(next(g))',\n",
      "        'list(range(5))',\n",
      "        'range(5)',\n",
      "        'type(range(5))',\n",
      "        \"for i in range(5):\\n    print(i, end = ' ')\",\n",
      "        \"for i in range(5):\\n    print(i, end = ' ')\",\n",
      "        'a = [n for n in range(1000000)]     # 생성된 값\\n'\n",
      "        'b = range(1000000)                  # 생성자',\n",
      "        'len(a)',\n",
      "        'len(b)',\n",
      "        'len(a) == len(b)',\n",
      "        'print(b)\\nprint(type(b))',\n",
      "        'b[999]',\n",
      "        'import sys\\n\\nprint(sys.getsizeof(a))\\nprint(sys.getsizeof(b))',\n",
      "        'import sys\\n'\n",
      "        '\\n'\n",
      "        'print(sys.getsizeof(a))\\n'\n",
      "        'print(sys.getsizeof(b))\\n'\n",
      "        '\\n'\n",
      "        'print(sys.getsizeof(range(100000000)))',\n",
      "        'a = [1, 2, 3, 2, 45 , 2, 5]\\n\\na',\n",
      "        'enumerate(a)',\n",
      "        'list(enumerate(a))',\n",
      "        '# 여러가지 방법으로 인덱스와 값 내보내기',\n",
      "        '# 여러가지 방법으로 인덱스와 값 내보내기\\n'\n",
      "        '\\n'\n",
      "        '# 방법 1\\n'\n",
      "        'for i in range(len(a)):\\n'\n",
      "        '    print(i, a[i])',\n",
      "        '# 방법 2\\ni = 0\\nfor v in a:\\n    print(i, v)\\n    i += 1',\n",
      "        'for i, v in enumerate(a):\\n    print(i, v)',\n",
      "        '5/3',\n",
      "        'type(5/3)',\n",
      "        '5//3',\n",
      "        'type(5 // 3)',\n",
      "        'int(5 / 3)',\n",
      "        'type(int(5 / 3))',\n",
      "        '# 나머지를 구하는 방법\\n5 % 3',\n",
      "        '# 몫과 나머지를 같이 구하는 방법\\ndivmod(5/3)',\n",
      "        '# 몫과 나머지를 같이 구하는 방법\\ndivmod(5, 3)',\n",
      "        \"print('A1', 'B1')\\n\\nprint('A1', 'B1', sep = ',')\",\n",
      "        \"print('aa', end = '')\\nprint('bb')\",\n",
      "        \"print('aa', end = ' ')\\nprint('bb')\",\n",
      "        \"a = ['A', 'B']\\n\\nprint(' '.join(a))\",\n",
      "        'idx = 1\\n'\n",
      "        \"fruit = 'Apple'\\n\"\n",
      "        '\\n'\n",
      "        \"print('{0}: {1}'.format(idx + 1, fruit))\\n\"\n",
      "        \"print('{}: {}'.format(idx + 1, fruit))\",\n",
      "        \"print(f'{idx + 1} : {fruit}')\",\n",
      "        \"print('%d : %s' % (idx + 1, fruit))\",\n",
      "        'class MyClass(object):\\n'\n",
      "        '    def method_a(self):\\n'\n",
      "        '\\n'\n",
      "        '    def method_b(self):\\n'\n",
      "        \"        print('Method B')\",\n",
      "        'class MyClass(object):\\n'\n",
      "        '    def method_a(self):\\n'\n",
      "        '        # 여기에 pass 추가\\n'\n",
      "        '        pass\\n'\n",
      "        '\\n'\n",
      "        '    def method_b(self):\\n'\n",
      "        \"        print('Method B')\",\n",
      "        'print(locals())',\n",
      "        'print(locals())',\n",
      "        'import pprint\\n\\npprint.pprint(locals())'],\n",
      " 'MyClass': <class '__main__.MyClass'>,\n",
      " 'Out': {2: 1,\n",
      "         3: 1,\n",
      "         4: <generator object get_natural_number at 0x000001F428C62C10>,\n",
      "         6: 'string',\n",
      "         8: [0, 1, 2, 3, 4],\n",
      "         9: range(0, 5),\n",
      "         10: <class 'range'>,\n",
      "         14: 1000000,\n",
      "         15: 1000000,\n",
      "         16: True,\n",
      "         18: 999,\n",
      "         21: [1, 2, 3, 2, 45, 2, 5],\n",
      "         22: <enumerate object at 0x000001F4289D2500>,\n",
      "         23: [(0, 1), (1, 2), (2, 3), (3, 2), (4, 45), (5, 2), (6, 5)],\n",
      "         28: 1.6666666666666667,\n",
      "         29: <class 'float'>,\n",
      "         30: 1,\n",
      "         31: <class 'int'>,\n",
      "         32: 1,\n",
      "         33: <class 'int'>,\n",
      "         34: 2,\n",
      "         36: (1, 2)},\n",
      " '_': 99,\n",
      " '_10': <class 'range'>,\n",
      " '_14': 1000000,\n",
      " '_15': 1000000,\n",
      " '_16': True,\n",
      " '_18': 999,\n",
      " '_2': 1,\n",
      " '_21': [1, 2, 3, 2, 45, 2, 5],\n",
      " '_22': <enumerate object at 0x000001F4289D2500>,\n",
      " '_23': [(0, 1), (1, 2), (2, 3), (3, 2), (4, 45), (5, 2), (6, 5)],\n",
      " '_28': 1.6666666666666667,\n",
      " '_29': <class 'float'>,\n",
      " '_3': 1,\n",
      " '_30': 1,\n",
      " '_31': <class 'int'>,\n",
      " '_32': 1,\n",
      " '_33': <class 'int'>,\n",
      " '_34': 2,\n",
      " '_36': (1, 2),\n",
      " '_4': <generator object get_natural_number at 0x000001F428C62C10>,\n",
      " '_6': 'string',\n",
      " '_8': [0, 1, 2, 3, 4],\n",
      " '_9': range(0, 5),\n",
      " '__': 1,\n",
      " '___': 1,\n",
      " '__builtin__': <module 'builtins' (built-in)>,\n",
      " '__builtins__': <module 'builtins' (built-in)>,\n",
      " '__doc__': 'Automatically created module for IPython interactive environment',\n",
      " '__loader__': None,\n",
      " '__name__': '__main__',\n",
      " '__package__': None,\n",
      " '__spec__': None,\n",
      " '__vsc_ipynb_file__': 'c:\\\\Users\\\\han71\\\\Desktop\\\\python_study\\\\파이썬알고리즘인터뷰\\\\2부_파이썬\\\\3_파이썬.ipynb',\n",
      " '_dh': ['c:\\\\Users\\\\han71\\\\Desktop\\\\python_study\\\\파이썬알고리즘인터뷰\\\\2부_파이썬'],\n",
      " '_i': 'print(locals())',\n",
      " '_i1': '# return -> 함수를 멈추고 값을 내보냄\\n'\n",
      "        '# yield -> 여기까지 실행 값을 내보낸다는 의미(맨 끝까지 실행)\\n'\n",
      "        '\\n'\n",
      "        'def get_natural_number():\\n'\n",
      "        '    n = 0\\n'\n",
      "        '    while 1:\\n'\n",
      "        '        n += 1\\n'\n",
      "        '        yield n\\n'\n",
      "        '\\n'\n",
      "        'def get_number():\\n'\n",
      "        '    n = 0\\n'\n",
      "        '    while 1:\\n'\n",
      "        '        n += 1\\n'\n",
      "        '        return n',\n",
      " '_i10': 'type(range(5))',\n",
      " '_i11': \"for i in range(5):\\n    print(i, end = ' ')\",\n",
      " '_i12': \"for i in range(5):\\n    print(i, end = ' ')\",\n",
      " '_i13': 'a = [n for n in range(1000000)]     # 생성된 값\\n'\n",
      "         'b = range(1000000)                  # 생성자',\n",
      " '_i14': 'len(a)',\n",
      " '_i15': 'len(b)',\n",
      " '_i16': 'len(a) == len(b)',\n",
      " '_i17': 'print(b)\\nprint(type(b))',\n",
      " '_i18': 'b[999]',\n",
      " '_i19': 'import sys\\n\\nprint(sys.getsizeof(a))\\nprint(sys.getsizeof(b))',\n",
      " '_i2': 'get_number()',\n",
      " '_i20': 'import sys\\n'\n",
      "         '\\n'\n",
      "         'print(sys.getsizeof(a))\\n'\n",
      "         'print(sys.getsizeof(b))\\n'\n",
      "         '\\n'\n",
      "         'print(sys.getsizeof(range(100000000)))',\n",
      " '_i21': 'a = [1, 2, 3, 2, 45 , 2, 5]\\n\\na',\n",
      " '_i22': 'enumerate(a)',\n",
      " '_i23': 'list(enumerate(a))',\n",
      " '_i24': '# 여러가지 방법으로 인덱스와 값 내보내기',\n",
      " '_i25': '# 여러가지 방법으로 인덱스와 값 내보내기\\n'\n",
      "         '\\n'\n",
      "         '# 방법 1\\n'\n",
      "         'for i in range(len(a)):\\n'\n",
      "         '    print(i, a[i])',\n",
      " '_i26': '# 방법 2\\ni = 0\\nfor v in a:\\n    print(i, v)\\n    i += 1',\n",
      " '_i27': 'for i, v in enumerate(a):\\n    print(i, v)',\n",
      " '_i28': '5/3',\n",
      " '_i29': 'type(5/3)',\n",
      " '_i3': 'get_number()',\n",
      " '_i30': '5//3',\n",
      " '_i31': 'type(5 // 3)',\n",
      " '_i32': 'int(5 / 3)',\n",
      " '_i33': 'type(int(5 / 3))',\n",
      " '_i34': '# 나머지를 구하는 방법\\n5 % 3',\n",
      " '_i35': '# 몫과 나머지를 같이 구하는 방법\\ndivmod(5/3)',\n",
      " '_i36': '# 몫과 나머지를 같이 구하는 방법\\ndivmod(5, 3)',\n",
      " '_i37': \"print('A1', 'B1')\\n\\nprint('A1', 'B1', sep = ',')\",\n",
      " '_i38': \"print('aa', end = '')\\nprint('bb')\",\n",
      " '_i39': \"print('aa', end = ' ')\\nprint('bb')\",\n",
      " '_i4': 'get_natural_number()',\n",
      " '_i40': \"a = ['A', 'B']\\n\\nprint(' '.join(a))\",\n",
      " '_i41': 'idx = 1\\n'\n",
      "         \"fruit = 'Apple'\\n\"\n",
      "         '\\n'\n",
      "         \"print('{0}: {1}'.format(idx + 1, fruit))\\n\"\n",
      "         \"print('{}: {}'.format(idx + 1, fruit))\",\n",
      " '_i42': \"print(f'{idx + 1} : {fruit}')\",\n",
      " '_i43': \"print('%d : %s' % (idx + 1, fruit))\",\n",
      " '_i44': 'class MyClass(object):\\n'\n",
      "         '    def method_a(self):\\n'\n",
      "         '\\n'\n",
      "         '    def method_b(self):\\n'\n",
      "         \"        print('Method B')\",\n",
      " '_i45': 'class MyClass(object):\\n'\n",
      "         '    def method_a(self):\\n'\n",
      "         '        # 여기에 pass 추가\\n'\n",
      "         '        pass\\n'\n",
      "         '\\n'\n",
      "         '    def method_b(self):\\n'\n",
      "         \"        print('Method B')\",\n",
      " '_i46': 'print(locals())',\n",
      " '_i47': 'print(locals())',\n",
      " '_i48': 'import pprint\\n\\npprint.pprint(locals())',\n",
      " '_i5': 'g = get_natural_number()\\nfor _ in range(0, 100):\\n    print(next(g))',\n",
      " '_i6': 'def generator():\\n'\n",
      "        '    yield 1\\n'\n",
      "        '    yield True\\n'\n",
      "        \"    yield 'string'\\n\"\n",
      "        '\\n'\n",
      "        'g = generator()\\n'\n",
      "        '\\n'\n",
      "        'g\\n'\n",
      "        'next(g)\\n'\n",
      "        'next(g)\\n'\n",
      "        'next(g)',\n",
      " '_i7': 'def generator():\\n'\n",
      "        '    yield 1\\n'\n",
      "        '    yield True\\n'\n",
      "        \"    yield 'string'\\n\"\n",
      "        '\\n'\n",
      "        'g = generator()\\n'\n",
      "        '\\n'\n",
      "        'print(g)\\n'\n",
      "        'print(next(g))\\n'\n",
      "        'print(next(g))\\n'\n",
      "        'print(next(g))',\n",
      " '_i8': 'list(range(5))',\n",
      " '_i9': 'range(5)',\n",
      " '_ih': ['',\n",
      "         '# return -> 함수를 멈추고 값을 내보냄\\n'\n",
      "         '# yield -> 여기까지 실행 값을 내보낸다는 의미(맨 끝까지 실행)\\n'\n",
      "         '\\n'\n",
      "         'def get_natural_number():\\n'\n",
      "         '    n = 0\\n'\n",
      "         '    while 1:\\n'\n",
      "         '        n += 1\\n'\n",
      "         '        yield n\\n'\n",
      "         '\\n'\n",
      "         'def get_number():\\n'\n",
      "         '    n = 0\\n'\n",
      "         '    while 1:\\n'\n",
      "         '        n += 1\\n'\n",
      "         '        return n',\n",
      "         'get_number()',\n",
      "         'get_number()',\n",
      "         'get_natural_number()',\n",
      "         'g = get_natural_number()\\n'\n",
      "         'for _ in range(0, 100):\\n'\n",
      "         '    print(next(g))',\n",
      "         'def generator():\\n'\n",
      "         '    yield 1\\n'\n",
      "         '    yield True\\n'\n",
      "         \"    yield 'string'\\n\"\n",
      "         '\\n'\n",
      "         'g = generator()\\n'\n",
      "         '\\n'\n",
      "         'g\\n'\n",
      "         'next(g)\\n'\n",
      "         'next(g)\\n'\n",
      "         'next(g)',\n",
      "         'def generator():\\n'\n",
      "         '    yield 1\\n'\n",
      "         '    yield True\\n'\n",
      "         \"    yield 'string'\\n\"\n",
      "         '\\n'\n",
      "         'g = generator()\\n'\n",
      "         '\\n'\n",
      "         'print(g)\\n'\n",
      "         'print(next(g))\\n'\n",
      "         'print(next(g))\\n'\n",
      "         'print(next(g))',\n",
      "         'list(range(5))',\n",
      "         'range(5)',\n",
      "         'type(range(5))',\n",
      "         \"for i in range(5):\\n    print(i, end = ' ')\",\n",
      "         \"for i in range(5):\\n    print(i, end = ' ')\",\n",
      "         'a = [n for n in range(1000000)]     # 생성된 값\\n'\n",
      "         'b = range(1000000)                  # 생성자',\n",
      "         'len(a)',\n",
      "         'len(b)',\n",
      "         'len(a) == len(b)',\n",
      "         'print(b)\\nprint(type(b))',\n",
      "         'b[999]',\n",
      "         'import sys\\n\\nprint(sys.getsizeof(a))\\nprint(sys.getsizeof(b))',\n",
      "         'import sys\\n'\n",
      "         '\\n'\n",
      "         'print(sys.getsizeof(a))\\n'\n",
      "         'print(sys.getsizeof(b))\\n'\n",
      "         '\\n'\n",
      "         'print(sys.getsizeof(range(100000000)))',\n",
      "         'a = [1, 2, 3, 2, 45 , 2, 5]\\n\\na',\n",
      "         'enumerate(a)',\n",
      "         'list(enumerate(a))',\n",
      "         '# 여러가지 방법으로 인덱스와 값 내보내기',\n",
      "         '# 여러가지 방법으로 인덱스와 값 내보내기\\n'\n",
      "         '\\n'\n",
      "         '# 방법 1\\n'\n",
      "         'for i in range(len(a)):\\n'\n",
      "         '    print(i, a[i])',\n",
      "         '# 방법 2\\ni = 0\\nfor v in a:\\n    print(i, v)\\n    i += 1',\n",
      "         'for i, v in enumerate(a):\\n    print(i, v)',\n",
      "         '5/3',\n",
      "         'type(5/3)',\n",
      "         '5//3',\n",
      "         'type(5 // 3)',\n",
      "         'int(5 / 3)',\n",
      "         'type(int(5 / 3))',\n",
      "         '# 나머지를 구하는 방법\\n5 % 3',\n",
      "         '# 몫과 나머지를 같이 구하는 방법\\ndivmod(5/3)',\n",
      "         '# 몫과 나머지를 같이 구하는 방법\\ndivmod(5, 3)',\n",
      "         \"print('A1', 'B1')\\n\\nprint('A1', 'B1', sep = ',')\",\n",
      "         \"print('aa', end = '')\\nprint('bb')\",\n",
      "         \"print('aa', end = ' ')\\nprint('bb')\",\n",
      "         \"a = ['A', 'B']\\n\\nprint(' '.join(a))\",\n",
      "         'idx = 1\\n'\n",
      "         \"fruit = 'Apple'\\n\"\n",
      "         '\\n'\n",
      "         \"print('{0}: {1}'.format(idx + 1, fruit))\\n\"\n",
      "         \"print('{}: {}'.format(idx + 1, fruit))\",\n",
      "         \"print(f'{idx + 1} : {fruit}')\",\n",
      "         \"print('%d : %s' % (idx + 1, fruit))\",\n",
      "         'class MyClass(object):\\n'\n",
      "         '    def method_a(self):\\n'\n",
      "         '\\n'\n",
      "         '    def method_b(self):\\n'\n",
      "         \"        print('Method B')\",\n",
      "         'class MyClass(object):\\n'\n",
      "         '    def method_a(self):\\n'\n",
      "         '        # 여기에 pass 추가\\n'\n",
      "         '        pass\\n'\n",
      "         '\\n'\n",
      "         '    def method_b(self):\\n'\n",
      "         \"        print('Method B')\",\n",
      "         'print(locals())',\n",
      "         'print(locals())',\n",
      "         'import pprint\\n\\npprint.pprint(locals())'],\n",
      " '_ii': 'print(locals())',\n",
      " '_iii': 'class MyClass(object):\\n'\n",
      "         '    def method_a(self):\\n'\n",
      "         '        # 여기에 pass 추가\\n'\n",
      "         '        pass\\n'\n",
      "         '\\n'\n",
      "         '    def method_b(self):\\n'\n",
      "         \"        print('Method B')\",\n",
      " '_oh': {2: 1,\n",
      "         3: 1,\n",
      "         4: <generator object get_natural_number at 0x000001F428C62C10>,\n",
      "         6: 'string',\n",
      "         8: [0, 1, 2, 3, 4],\n",
      "         9: range(0, 5),\n",
      "         10: <class 'range'>,\n",
      "         14: 1000000,\n",
      "         15: 1000000,\n",
      "         16: True,\n",
      "         18: 999,\n",
      "         21: [1, 2, 3, 2, 45, 2, 5],\n",
      "         22: <enumerate object at 0x000001F4289D2500>,\n",
      "         23: [(0, 1), (1, 2), (2, 3), (3, 2), (4, 45), (5, 2), (6, 5)],\n",
      "         28: 1.6666666666666667,\n",
      "         29: <class 'float'>,\n",
      "         30: 1,\n",
      "         31: <class 'int'>,\n",
      "         32: 1,\n",
      "         33: <class 'int'>,\n",
      "         34: 2,\n",
      "         36: (1, 2)},\n",
      " 'a': ['A', 'B'],\n",
      " 'b': range(0, 1000000),\n",
      " 'exit': <IPython.core.autocall.ZMQExitAutocall object at 0x000001F427A41610>,\n",
      " 'fruit': 'Apple',\n",
      " 'g': <generator object generator at 0x000001F428FCCC10>,\n",
      " 'generator': <function generator at 0x000001F42876FCA0>,\n",
      " 'get_ipython': <bound method InteractiveShell.get_ipython of <ipykernel.zmqshell.ZMQInteractiveShell object at 0x000001F42796D520>>,\n",
      " 'get_natural_number': <function get_natural_number at 0x000001F427A69CA0>,\n",
      " 'get_number': <function get_number at 0x000001F427A69D30>,\n",
      " 'i': 6,\n",
      " 'idx': 1,\n",
      " 'os': <module 'os' from 'C:\\\\Users\\\\han71\\\\anaconda3\\\\lib\\\\os.py'>,\n",
      " 'pprint': <module 'pprint' from 'C:\\\\Users\\\\han71\\\\anaconda3\\\\lib\\\\pprint.py'>,\n",
      " 'quit': <IPython.core.autocall.ZMQExitAutocall object at 0x000001F427A41610>,\n",
      " 'site': <module 'site' from 'C:\\\\Users\\\\han71\\\\anaconda3\\\\lib\\\\site.py'>,\n",
      " 'sys': <module 'sys' (built-in)>,\n",
      " 'v': 5}\n"
     ]
    }
   ],
   "source": [
    "import pprint\n",
    "\n",
    "pprint.pprint(locals())"
   ]
  },
  {
   "cell_type": "markdown",
   "metadata": {},
   "source": [
    "#### 코딩 스타일"
   ]
  },
  {
   "cell_type": "markdown",
   "metadata": {},
   "source": [
    "##### 변수명과 주석"
   ]
  },
  {
   "cell_type": "code",
   "execution_count": 53,
   "metadata": {},
   "outputs": [],
   "source": [
    "# 변수명이 뭔지 알기 힘들고 주석이 없는 코드\n",
    "from typing import List\n",
    "\n",
    "def numMatchingSubseq(self, S: str, words: List[str]) -> int:\n",
    "    a = 0\n",
    "\n",
    "    for b in words:\n",
    "        c = 0\n",
    "        for i in range(len(b)):\n",
    "            d = S[c:].find(b[i])\n",
    "            if d < 0:\n",
    "                a -= 1\n",
    "                break\n",
    "            else:\n",
    "                c += d + 1\n",
    "        a += 1\n",
    "    \n",
    "    return a"
   ]
  },
  {
   "cell_type": "code",
   "execution_count": 55,
   "metadata": {},
   "outputs": [],
   "source": [
    "# 변수명을 확실히 하고 주석 추가\n",
    "\n",
    "def numMatchingSubseq(self, S: str, words: List[str]) -> int:\n",
    "    matched_count = 0\n",
    "\n",
    "    for word in words:\n",
    "        pos = 0\n",
    "        for i in range(len(word)):      # Find matching position for each character\n",
    "            found_pos = S[pos:].find(word[i])\n",
    "            if found_pos < 0:\n",
    "                matched_count -= 1\n",
    "                break\n",
    "            else:                       # If found, take step position forward\n",
    "                pos += found_pos + 1\n",
    "        matched_count += 1\n",
    "\n",
    "    return matched_count"
   ]
  },
  {
   "cell_type": "markdown",
   "metadata": {},
   "source": [
    "##### List Comprehension\n",
    "\n",
    "정보를 축약하는 특성 탓에 가독성을 떨어트리기도 함"
   ]
  },
  {
   "cell_type": "code",
   "execution_count": null,
   "metadata": {},
   "outputs": [],
   "source": [
    "import re\n",
    "str1 = 'Between tomorrow\\'s dream and yesterday\\'s regret is today\\'s opportunity'"
   ]
  },
  {
   "cell_type": "code",
   "execution_count": 57,
   "metadata": {},
   "outputs": [
    {
     "data": {
      "text/plain": [
       "['be', 'et', 'tw']"
      ]
     },
     "execution_count": 57,
     "metadata": {},
     "output_type": "execute_result"
    }
   ],
   "source": [
    "# example\n",
    "\n",
    "strls = [str1[i : i + 2].lower() for i in range(len(str1) - 1) if re.findall('[a-z]{2}', str1[i : i + 2].lower())]\n",
    "\n",
    "strls[:3]"
   ]
  },
  {
   "cell_type": "code",
   "execution_count": 59,
   "metadata": {},
   "outputs": [
    {
     "data": {
      "text/plain": [
       "['be', 'et', 'tw']"
      ]
     },
     "execution_count": 59,
     "metadata": {},
     "output_type": "execute_result"
    }
   ],
   "source": [
    "strls = [\n",
    "    str1[i: i + 2].lower() for i in range(len(str1) + 1)\n",
    "    if re.findall('[a-z]{2}', str1[i: i + 2].lower())\n",
    "    ]\n",
    "\n",
    "strls[:3]"
   ]
  },
  {
   "cell_type": "code",
   "execution_count": 61,
   "metadata": {},
   "outputs": [
    {
     "data": {
      "text/plain": [
       "['be', 'et', 'tw']"
      ]
     },
     "execution_count": 61,
     "metadata": {},
     "output_type": "execute_result"
    }
   ],
   "source": [
    "# 풀어쓰기\n",
    "strls = []\n",
    "\n",
    "for i in range(len(str1) - 1):\n",
    "    if re.findall('[a-z]{2}', str1[i: i + 2].lower()):\n",
    "        strls.append(str1[i: i + 2].lower())\n",
    "\n",
    "strls[:3]"
   ]
  },
  {
   "cell_type": "code",
   "execution_count": 62,
   "metadata": {},
   "outputs": [
    {
     "data": {
      "text/plain": [
       "[(0, 1, 0),\n",
       " (0, 1, 2),\n",
       " (0, 1, 3),\n",
       " (0, 1, 4),\n",
       " (0, 2, 0),\n",
       " (0, 2, 1),\n",
       " (0, 2, 3),\n",
       " (0, 2, 4),\n",
       " (0, 3, 0),\n",
       " (0, 3, 1),\n",
       " (0, 3, 2),\n",
       " (0, 3, 4),\n",
       " (0, 4, 0),\n",
       " (0, 4, 1),\n",
       " (0, 4, 2),\n",
       " (0, 4, 3),\n",
       " (1, 0, 1),\n",
       " (1, 0, 2),\n",
       " (1, 0, 3),\n",
       " (1, 0, 4),\n",
       " (1, 2, 0),\n",
       " (1, 2, 1),\n",
       " (1, 2, 3),\n",
       " (1, 2, 4),\n",
       " (1, 3, 0),\n",
       " (1, 3, 1),\n",
       " (1, 3, 2),\n",
       " (1, 3, 4),\n",
       " (1, 4, 0),\n",
       " (1, 4, 1),\n",
       " (1, 4, 2),\n",
       " (1, 4, 3),\n",
       " (2, 0, 1),\n",
       " (2, 0, 2),\n",
       " (2, 0, 3),\n",
       " (2, 0, 4),\n",
       " (2, 1, 0),\n",
       " (2, 1, 2),\n",
       " (2, 1, 3),\n",
       " (2, 1, 4),\n",
       " (2, 3, 0),\n",
       " (2, 3, 1),\n",
       " (2, 3, 2),\n",
       " (2, 3, 4),\n",
       " (2, 4, 0),\n",
       " (2, 4, 1),\n",
       " (2, 4, 2),\n",
       " (2, 4, 3),\n",
       " (3, 0, 1),\n",
       " (3, 0, 2),\n",
       " (3, 0, 3),\n",
       " (3, 0, 4),\n",
       " (3, 1, 0),\n",
       " (3, 1, 2),\n",
       " (3, 1, 3),\n",
       " (3, 1, 4),\n",
       " (3, 2, 0),\n",
       " (3, 2, 1),\n",
       " (3, 2, 3),\n",
       " (3, 2, 4),\n",
       " (3, 4, 0),\n",
       " (3, 4, 1),\n",
       " (3, 4, 2),\n",
       " (3, 4, 3),\n",
       " (4, 0, 1),\n",
       " (4, 0, 2),\n",
       " (4, 0, 3),\n",
       " (4, 0, 4),\n",
       " (4, 1, 0),\n",
       " (4, 1, 2),\n",
       " (4, 1, 3),\n",
       " (4, 1, 4),\n",
       " (4, 2, 0),\n",
       " (4, 2, 1),\n",
       " (4, 2, 3),\n",
       " (4, 2, 4),\n",
       " (4, 3, 0),\n",
       " (4, 3, 1),\n",
       " (4, 3, 2),\n",
       " (4, 3, 4)]"
      ]
     },
     "execution_count": 62,
     "metadata": {},
     "output_type": "execute_result"
    }
   ],
   "source": [
    "# 대체로 2개 이상은 넘어가지 않도록 함.\n",
    "# 2개 이상일 때,\n",
    "\n",
    "[\n",
    "    (x, y, z)\n",
    "    for x in range(5)\n",
    "    for y in range(5)\n",
    "    if x != y\n",
    "    for z in range(5)\n",
    "    if y != z\n",
    "]\n"
   ]
  },
  {
   "cell_type": "markdown",
   "metadata": {},
   "source": [
    "##### 구글 파이썬 스타일 가이드"
   ]
  },
  {
   "cell_type": "code",
   "execution_count": 65,
   "metadata": {},
   "outputs": [],
   "source": [
    "from typing import Mapping, Optional, Sequence"
   ]
  },
  {
   "cell_type": "code",
   "execution_count": 64,
   "metadata": {},
   "outputs": [],
   "source": [
    "# 1 : 함수의 기본값으로 가변 객체(Mutable Object)를 사용하지 않음, 함수가 객체를 수정하면 기본값이 변경되기 때문\n",
    "\n",
    "def foo(a, b = []):\n",
    "    pass\n",
    "\n",
    "def foo(a, b: Mapping = {}):\n",
    "    pass"
   ]
  },
  {
   "cell_type": "code",
   "execution_count": 67,
   "metadata": {},
   "outputs": [],
   "source": [
    "# 대신 불변 객체(Immutable Object)를 사용함\n",
    "\n",
    "def foo(a, b = None):\n",
    "    if b is None:\n",
    "        b = []\n",
    "\n",
    "def foo(a, b : Optional[Sequence] = None):\n",
    "    if b is None:\n",
    "        b = []"
   ]
  },
  {
   "cell_type": "code",
   "execution_count": 68,
   "metadata": {},
   "outputs": [],
   "source": [
    "# True, False를 판별할  때는 암시적(Implicit)인 방법을 사용하는 편이 간결\n",
    "\n",
    "def ex1(users):\n",
    "    # yes\n",
    "    if not users :\n",
    "        print('no users')\n",
    "    \n",
    "    # no\n",
    "    if len(users) == 0:\n",
    "        print('no users')"
   ]
  },
  {
   "cell_type": "code",
   "execution_count": 69,
   "metadata": {},
   "outputs": [],
   "source": [
    "def ex2(foo):\n",
    "    # yes\n",
    "    if foo == 0:\n",
    "        print('foo')\n",
    "\n",
    "    # no\n",
    "    if foo is not None and not foo:\n",
    "        print('foo')"
   ]
  },
  {
   "cell_type": "code",
   "execution_count": 70,
   "metadata": {},
   "outputs": [],
   "source": [
    "def ex3(i):\n",
    "    # yes\n",
    "    if i % 10 == 0:\n",
    "        print(i)\n",
    "\n",
    "    # no\n",
    "    if not i % 10:\n",
    "        print(i)"
   ]
  },
  {
   "cell_type": "markdown",
   "metadata": {},
   "source": [
    "##### 파이썬 철학"
   ]
  },
  {
   "cell_type": "code",
   "execution_count": 71,
   "metadata": {},
   "outputs": [
    {
     "name": "stdout",
     "output_type": "stream",
     "text": [
      "The Zen of Python, by Tim Peters\n",
      "\n",
      "Beautiful is better than ugly.\n",
      "Explicit is better than implicit.\n",
      "Simple is better than complex.\n",
      "Complex is better than complicated.\n",
      "Flat is better than nested.\n",
      "Sparse is better than dense.\n",
      "Readability counts.\n",
      "Special cases aren't special enough to break the rules.\n",
      "Although practicality beats purity.\n",
      "Errors should never pass silently.\n",
      "Unless explicitly silenced.\n",
      "In the face of ambiguity, refuse the temptation to guess.\n",
      "There should be one-- and preferably only one --obvious way to do it.\n",
      "Although that way may not be obvious at first unless you're Dutch.\n",
      "Now is better than never.\n",
      "Although never is often better than *right* now.\n",
      "If the implementation is hard to explain, it's a bad idea.\n",
      "If the implementation is easy to explain, it may be a good idea.\n",
      "Namespaces are one honking great idea -- let's do more of those!\n"
     ]
    }
   ],
   "source": [
    "import this"
   ]
  }
 ],
 "metadata": {
  "interpreter": {
   "hash": "0cf90eb564dcf90a219ae509985b5381d51b47d0448d01a29ea34215728d8c14"
  },
  "kernelspec": {
   "display_name": "Python 3.8.8 ('base')",
   "language": "python",
   "name": "python3"
  },
  "language_info": {
   "codemirror_mode": {
    "name": "ipython",
    "version": 3
   },
   "file_extension": ".py",
   "mimetype": "text/x-python",
   "name": "python",
   "nbconvert_exporter": "python",
   "pygments_lexer": "ipython3",
   "version": "3.8.8"
  },
  "orig_nbformat": 4
 },
 "nbformat": 4,
 "nbformat_minor": 2
}
