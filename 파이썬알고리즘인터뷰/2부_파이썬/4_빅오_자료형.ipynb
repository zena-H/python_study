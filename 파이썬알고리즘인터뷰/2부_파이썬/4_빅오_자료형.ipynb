{
 "cells": [
  {
   "cell_type": "markdown",
   "metadata": {},
   "source": [
    "##### 빅오\n",
    "\n",
    "빅오(O, big-O) : 입력값이 무한대로 향할 때(점근적 실행 시간, Asymptotic Running Time) 함수의 상한을 설명하는 수학적 표기 방법\n",
    "\n",
    "점근적 실행 시간(시간 복잡도, Time Complexity) : 어떤 알고리즘을 수행하는 데 걸리는 시간을 설명하는 계산 복잡도\n",
    "\n",
    "빅오로 시간 복잡도를 표현할 때는 최고차항만을 표기하며 상수항은 무시\n",
    "\n",
    "\n",
    "###### 빅오 표기법의 종류\n",
    "\n",
    "- O(1) : 입력값이 아무리 커도 실행시간은 일정, 상수항이 크다면 일정한 시간의 의미는 없음, 최고의 알고리즘이 돌 수 있지만 그만큼 신중해야함\n",
    "\n",
    "- O(log n) : 여기서부터 실행 시간은 입력값에 영향을 받음. 하지만 로그같은 경우 크게 영향받지 않는 편\n",
    "\n",
    "- O(n) : 입력값만큼 실행 시간에 영향을 받으며, 알고리즘을 수행하는 데 걸리는 시간은 입력값에 비례한다.\n",
    "\n",
    "- O(n log n) : 병합 정렬을 비롯한 대부분의 료율 좋은 정렬 알고리즘이 이에 해당한다. 적어도 모든 수에 대해 한 번 이상은 비교해야 하는 비교 기반 정렬 알고리즘은 아무리 좋은 알고리즘도 O(n log n)보다 빠를 수 없다. 물론 입력값이 최선인 경우, 비교를 건너뛰어 O(n)이 될 수 있으며 Timsort가 이런 로직에 해당한다.\n",
    "\n",
    "O(n²) : 버블 정렬 같은 비효율적인 정렬 알고리즘이 이에 해당한다.\n",
    "\n",
    "O(2ⁿ) : 피보나치 수를 재귀로 계산하는 알고리즘이 이에 해당한다. 간혹 n²과 혼동하는 경우가 있는데 2ⁿ이 훨씬 큼\n",
    "\n",
    "O(n!) : 각 도시를 방문하고 돌아오는 가장 빫은 경로를 찾는 외판원 문제(TSP, Traveling Salesman Problem)를 브루트 포스로 풀이할 때가 이에 해당하며 가장 느린 알고리즘"
   ]
  },
  {
   "cell_type": "code",
   "execution_count": 1,
   "metadata": {},
   "outputs": [
    {
     "name": "stdout",
     "output_type": "stream",
     "text": [
      "1 1 2\n",
      "2 4 4\n",
      "3 9 8\n",
      "4 16 16\n",
      "5 25 32\n",
      "6 36 64\n",
      "7 49 128\n",
      "8 64 256\n",
      "9 81 512\n",
      "10 100 1024\n",
      "11 121 2048\n",
      "12 144 4096\n",
      "13 169 8192\n",
      "14 196 16384\n",
      "15 225 32768\n"
     ]
    }
   ],
   "source": [
    "# n²과 2ⁿ의 계산 결과를 보여주는 코드\n",
    "\n",
    "for n in range(1, 15 + 1):\n",
    "    print(n, n **2, 2 ** n)"
   ]
  },
  {
   "cell_type": "markdown",
   "metadata": {},
   "source": [
    "##### 상한과 최악\n",
    "\n",
    "- O (빅오) : 상한(Upper Bound), 주어진 (최선/최악/평균) 경우의 수행 시간의 상한을 나타냄  \n",
    "- Ω (빅 오메가) : 하한 (Lower Bound)  \n",
    "- θ (빅 세타) : 평균 (Average)  \n",
    "\n"
   ]
  },
  {
   "cell_type": "markdown",
   "metadata": {},
   "source": [
    "##### 분할 상환 분석\n",
    "\n",
    "분할 상환 분석(Amortized Analysis) : 함수의 동작을 설명할 때 중요한 분석 기법 중 하나\n",
    "\n",
    "###### 시간 또는 메모리를 분석하는 알고리즘의 복잡도를 계산할 때, 알고리즘 전체를 보지 않고 최악의 경우만을 살펴보는 것은 지나치게 비관적이라는 이유로 분할 상환 분석 방법이 등장하는 계기가 됨"
   ]
  },
  {
   "cell_type": "markdown",
   "metadata": {},
   "source": [
    "##### 병렬화\n",
    "\n",
    "일부 알고리즘은 병렬화로 실행 속도를 높일 수 있다.\n",
    "\n",
    "GPU 각각의 코어는 CPU보다 훨씬 더 느리지만 CPU의 코어는 수천여 개로 구성되어있어 더 많은 연산을 동시에 수행할 수 있다."
   ]
  },
  {
   "cell_type": "markdown",
   "metadata": {},
   "source": [
    "#### 자료형\n",
    "\n",
    "##### 파이썬 자료형\n",
    "\n",
    "- None(class None Type)\n",
    "\n",
    "- 숫자 : {정수형 : {정수 : class int, 불리언 : class bool}, 실수 : class float} \n",
    "\n",
    "- 집합형 : {집합 : class set}\n",
    "\n",
    "- 매핑 : {딕셔너리 : class dict}\n",
    "\n",
    "- 시퀀스 {불변 : {문자열 : class str, 튜플 : class tuple, 바이트 : class bytes}, 가변 : {리스트 : class list}}"
   ]
  },
  {
   "cell_type": "markdown",
   "metadata": {},
   "source": [
    "##### 정수\n",
    "\n",
    "python 2까지는 int와 long을 구분함\n",
    "\n",
    "int : C 스타일의 고정 정밀도(Fixed-Precision) 정수형  \n",
    "long : 임의 정밀도(Arbitary-Precision) 정수형\n",
    "\n",
    "PEP 237을 통해 2.4버전부터는 int가 충분하지 않으면 자동으로 long 타입으로 바뀌어 오버플로가 발생하는 일이 사라짐\n",
    "\n",
    "PEP 237 로드맵에 따라 version 3부터는 int 단일형으로 통합\n",
    "\n",
    "- bool은 int의 서브클래스, True(1), False(0)\n",
    "\n",
    "- object > int > bool"
   ]
  },
  {
   "cell_type": "code",
   "execution_count": 2,
   "metadata": {},
   "outputs": [
    {
     "data": {
      "text/plain": [
       "True"
      ]
     },
     "execution_count": 2,
     "metadata": {},
     "output_type": "execute_result"
    }
   ],
   "source": [
    "True == 1"
   ]
  },
  {
   "cell_type": "code",
   "execution_count": 3,
   "metadata": {},
   "outputs": [
    {
     "data": {
      "text/plain": [
       "True"
      ]
     },
     "execution_count": 3,
     "metadata": {},
     "output_type": "execute_result"
    }
   ],
   "source": [
    "False == 0"
   ]
  },
  {
   "cell_type": "code",
   "execution_count": null,
   "metadata": {},
   "outputs": [],
   "source": []
  }
 ],
 "metadata": {
  "interpreter": {
   "hash": "0cf90eb564dcf90a219ae509985b5381d51b47d0448d01a29ea34215728d8c14"
  },
  "kernelspec": {
   "display_name": "Python 3.8.8 ('base')",
   "language": "python",
   "name": "python3"
  },
  "language_info": {
   "codemirror_mode": {
    "name": "ipython",
    "version": 3
   },
   "file_extension": ".py",
   "mimetype": "text/x-python",
   "name": "python",
   "nbconvert_exporter": "python",
   "pygments_lexer": "ipython3",
   "version": "3.8.8"
  },
  "orig_nbformat": 4
 },
 "nbformat": 4,
 "nbformat_minor": 2
}
