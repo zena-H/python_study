{
 "cells": [
  {
   "cell_type": "markdown",
   "metadata": {},
   "source": [
    "병합 정렬 : 배열의 앞부분과 뒷부분의 두 그룹으로 나누어 각각 정렬한 수 병합하는 작업을 반복하는 알고리즘\n",
    "\n",
    "##### 정렬을 마친 배열의 병합\n",
    "\n",
    "###### 6-14"
   ]
  },
  {
   "cell_type": "code",
   "execution_count": 1,
   "metadata": {},
   "outputs": [
    {
     "name": "stdout",
     "output_type": "stream",
     "text": [
      "정렬을 마친 두 배열의 병합을 수행합니다.\n",
      "배열 a와 b를 병합하여 배열 c에 저장했습니다.\n",
      "배열 a : [2, 4, 6, 8, 11, 13]\n",
      "배열 b : [1, 2, 3, 4, 9, 16, 21]\n",
      "배열 c : [1, 2, 2, 3, 4, 4, 6, 8, 9, 11, 13, 16, 21]\n"
     ]
    }
   ],
   "source": [
    "# 정렬을 마친 두 배열을 병합하기\n",
    "\n",
    "from typing import Sequence, MutableSequence\n",
    "\n",
    "def merge_sorted_list(a: Sequence, b: Sequence, c: MutableSequence) -> None:\n",
    "    \"\"\"정렬을 마친 배열 a와 b를 병합하여 c에 저장\"\"\"\n",
    "    pa, pb, pc = 0, 0, 0\n",
    "    na, nb, nc = len(a), len(b), len(c)     # 각 배열의 원소 수\n",
    "\n",
    "    while pa < na and pb < nb:              # pa와 pb를 비교하여 작은 값을 pc에 저장\n",
    "        if a[pa] <= b[pb]:\n",
    "            c[pc] = a[pa]\n",
    "            pa += 1\n",
    "        else:\n",
    "            c[pc] = b[pb]\n",
    "            pb += 1\n",
    "        pc += 1\n",
    "\n",
    "    while pa < na:                          # a에 남은 원소를 c에 복사\n",
    "        c[pc] = a[pa]\n",
    "        pa += 1\n",
    "        pc += 1\n",
    "\n",
    "    while pb < nb:                          # b에 남은 원소를 c에 복사\n",
    "        c[pc] = b[pb]\n",
    "        pb += 1\n",
    "        pc += 1\n",
    "\n",
    "if __name__ == \"__main__\":\n",
    "    a = [2, 4, 6, 8, 11, 13]\n",
    "    b = [1, 2, 3, 4, 9, 16, 21]\n",
    "    c = [None] * (len(a) + len(b))\n",
    "    print('정렬을 마친 두 배열의 병합을 수행합니다.')\n",
    "\n",
    "    merge_sorted_list(a, b, c)              # 배열 a와 b를 병합하여 c에 저장\n",
    "\n",
    "    print('배열 a와 b를 병합하여 배열 c에 저장했습니다.')\n",
    "    print(f'배열 a : {a}')\n",
    "    print(f'배열 b : {b}')\n",
    "    print(f'배열 c : {c}')"
   ]
  },
  {
   "cell_type": "markdown",
   "metadata": {},
   "source": [
    "###### 조금만 더! : sorted() 함수로 병합 정렬하기"
   ]
  },
  {
   "cell_type": "code",
   "execution_count": 2,
   "metadata": {},
   "outputs": [
    {
     "name": "stdout",
     "output_type": "stream",
     "text": [
      "[1, 2, 2, 3, 4, 4, 6, 8, 9, 11, 13, 16, 21]\n"
     ]
    }
   ],
   "source": [
    "# sorted() 함수를 사용하여 병합 정렬\n",
    "# 장점 : 정렬을 마치지 않은 상태에서 사용할 수 있다\n",
    "# 단점 : 속도가 빠르지 않다\n",
    "\n",
    "c = list(sorted(a + b))         # a와 b를 연결하여 오름차순으로 정렬한 것을 list로 변환하여 c에 저장\n",
    "\n",
    "print(c)"
   ]
  },
  {
   "cell_type": "code",
   "execution_count": 3,
   "metadata": {},
   "outputs": [
    {
     "name": "stdout",
     "output_type": "stream",
     "text": [
      "[1, 2, 2, 3, 4, 4, 6, 8, 9, 11, 13, 16, 21]\n"
     ]
    }
   ],
   "source": [
    "# heapq 모듈의 merge 사용하여 병합 정렬\n",
    "# 빠르게 정렬하기 위하여 사용\n",
    "\n",
    "# 정렬을 마친 두 배열의 병합(heapq.merge 사용)\n",
    "\n",
    "import heapq\n",
    "\n",
    "c = list(heapq.merge(a, b))          # 배열 a와 b를 병합하여 c에 저장\n",
    "\n",
    "print(c)"
   ]
  },
  {
   "cell_type": "markdown",
   "metadata": {},
   "source": [
    "##### 병합 정렬 만들기\n",
    "병합 정렬 알고리즘\n",
    "\n",
    "배열의 원소 수가 2개 이상인 경우\n",
    "1. 배열의 앞부분을 병합 정렬로 정렬\n",
    "2. 배열의 뒷부분을 병합 정렬로 정렬\n",
    "3. 배열의 앞부분과 뒷부분을 병합\n",
    "\n",
    "###### 6-15"
   ]
  },
  {
   "cell_type": "code",
   "execution_count": 5,
   "metadata": {},
   "outputs": [
    {
     "name": "stdout",
     "output_type": "stream",
     "text": [
      "병합 정렬을 수행합니다.\n",
      "오름차순으로 정렬했습니다.\n",
      "x[0] = 1\n",
      "x[1] = 2\n",
      "x[2] = 3\n",
      "x[3] = 4\n",
      "x[4] = 5\n",
      "x[5] = 6\n",
      "x[6] = 7\n",
      "x[7] = 8\n",
      "x[8] = 9\n"
     ]
    }
   ],
   "source": [
    "# 병합 정렬 알고리즘 구현하기\n",
    "\n",
    "from typing import MutableSequence\n",
    "\n",
    "def merge_sort(a: MutableSequence) -> None:\n",
    "    \"\"\"병합 정렬\"\"\"\n",
    "\n",
    "    def _merge_sort(a: MutableSequence, left: int, right : int) -> None:\n",
    "        \"\"\"a[left] ~ a[right]를 재귀적으로 병합 정렬\"\"\"\n",
    "        if left < right:\n",
    "            center = (left + right) // 2\n",
    "\n",
    "            _merge_sort(a, left, center)            # 배열 앞부분을 병합 정렬\n",
    "            _merge_sort(a, center + 1, right)       # 배열 뒷부분을 병합 정렬\n",
    "\n",
    "            p = j = 0\n",
    "            i = k = left\n",
    "\n",
    "            while i <= center:\n",
    "                buff[p] = a[i]\n",
    "                p += 1\n",
    "                i += 1\n",
    "\n",
    "            while i <= right and j < p:\n",
    "                if buff[j] <= a[i]:\n",
    "                    a[k] = buff[j]\n",
    "                    j += 1\n",
    "\n",
    "                else:\n",
    "                    a[k] = a[i]\n",
    "                    i += 1\n",
    "                k += 1\n",
    "\n",
    "            while j < p:\n",
    "                a[k] = buff[j]\n",
    "                k += 1\n",
    "                j += 1\n",
    "\n",
    "    n = len(a)\n",
    "    buff = [None] * n               # 작업용 배열을 생성\n",
    "    _merge_sort(a, 0, n - 1)        # 배열 전체를 병합 정렬\n",
    "    del buff                        # 작업용 배열을 소멸\n",
    "\n",
    "if __name__ == \"__main__\":\n",
    "    print('병합 정렬을 수행합니다.')\n",
    "    num = int(input('원소 수를 입력하세요 : '))\n",
    "    x = [None] * num                # 원소 수가 num인 배열을 생성\n",
    "\n",
    "    for i in range(num):\n",
    "        x[i] = int(input(f'x[{i}] : '))\n",
    "\n",
    "    merge_sort(x)                   # 배열 x를 병합 정렬\n",
    "\n",
    "    print('오름차순으로 정렬했습니다.')\n",
    "    for i in range(num):\n",
    "        print(f'x[{i}] = {x[i]}')"
   ]
  },
  {
   "cell_type": "code",
   "execution_count": null,
   "metadata": {},
   "outputs": [],
   "source": []
  }
 ],
 "metadata": {
  "interpreter": {
   "hash": "0cf90eb564dcf90a219ae509985b5381d51b47d0448d01a29ea34215728d8c14"
  },
  "kernelspec": {
   "display_name": "Python 3.8.8 64-bit ('base': conda)",
   "language": "python",
   "name": "python3"
  },
  "language_info": {
   "codemirror_mode": {
    "name": "ipython",
    "version": 3
   },
   "file_extension": ".py",
   "mimetype": "text/x-python",
   "name": "python",
   "nbconvert_exporter": "python",
   "pygments_lexer": "ipython3",
   "version": "3.8.8"
  },
  "orig_nbformat": 4
 },
 "nbformat": 4,
 "nbformat_minor": 2
}
