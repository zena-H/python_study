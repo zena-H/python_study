{
 "cells": [
  {
   "cell_type": "markdown",
   "metadata": {},
   "source": [
    "##### 도수 정렬 알아보기\n",
    "도수 정렬 : 원소의 대소 관계를 판단하지 않고 빠르게 정렬하는 알고리즘(분포수 세기 정렬)\n",
    "\n",
    "###### 6-17"
   ]
  },
  {
   "cell_type": "code",
   "execution_count": 17,
   "metadata": {},
   "outputs": [
    {
     "name": "stdout",
     "output_type": "stream",
     "text": [
      "도수 정렬을 수행합니다.\n",
      "오름차순으로 정렬했습니다.\n",
      "x[0] = 5\n",
      "x[1] = 11\n",
      "x[2] = 22\n",
      "x[3] = 32\n",
      "x[4] = 68\n",
      "x[5] = 70\n",
      "x[6] = 99\n"
     ]
    }
   ],
   "source": [
    "# 도수 정렬 알고리즘 구현하기\n",
    "\n",
    "from typing import MutableSequence\n",
    "\n",
    "def fsort(a: MutableSequence, max: int) -> None:\n",
    "    \"\"\"도수 정렬(배열 원솟값은 0 이상 max 이하\"\"\"\n",
    "    n = len(a)                                      # 정렬할 배열 a\n",
    "    f = [0] * (max + 1)                             # 누적 도수 분포표 배열 f\n",
    "    b = [0] * n                                     # 작업용 배열 b\n",
    "\n",
    "    for i in range(n):              f[a[i]] += 1                    # [1단계]\n",
    "    for i in range(1, max + 1):     f[i] += f[i - 1]                # [2단계]\n",
    "    for i in range(n - 1, -1, -1):  f[a[i]] -= 1; b[f[a[i]]] = a[i];# [3단계]\n",
    "    for i in range(n):              a[i] = b[i]                     # [4단계]\n",
    "\n",
    "def counting_sort(a: MutableSequence) -> None:\n",
    "    \"\"\"도수 정렬\"\"\"\n",
    "    fsort(a, max(a))\n",
    "\n",
    "if __name__ == \"__main__\":\n",
    "    print('도수 정렬을 수행합니다.')\n",
    "    num = int(input('원소 수를 입력하세요 : '))\n",
    "    x = [None] * num                            # 원소 수가 num인 배열을 생성\n",
    "\n",
    "    for i in range(num):                        # 양수만 입력받도록 제한\n",
    "        while True:\n",
    "            x[i] = int(input(f'x[{i}] : '))\n",
    "            if x[i] >= 0: break\n",
    "\n",
    "    counting_sort(x)                            # 배열 x를 도수 정렬\n",
    "\n",
    "    print('오름차순으로 정렬했습니다.')\n",
    "    for i in range(num):\n",
    "        print(f'x[{i}] = {x[i]}')"
   ]
  },
  {
   "cell_type": "code",
   "execution_count": null,
   "metadata": {},
   "outputs": [],
   "source": []
  }
 ],
 "metadata": {
  "interpreter": {
   "hash": "0cf90eb564dcf90a219ae509985b5381d51b47d0448d01a29ea34215728d8c14"
  },
  "kernelspec": {
   "display_name": "Python 3.8.8 64-bit ('base': conda)",
   "language": "python",
   "name": "python3"
  },
  "language_info": {
   "codemirror_mode": {
    "name": "ipython",
    "version": 3
   },
   "file_extension": ".py",
   "mimetype": "text/x-python",
   "name": "python",
   "nbconvert_exporter": "python",
   "pygments_lexer": "ipython3",
   "version": "3.8.8"
  },
  "orig_nbformat": 4
 },
 "nbformat": 4,
 "nbformat_minor": 2
}
