{
 "cells": [
  {
   "cell_type": "markdown",
   "metadata": {},
   "source": [
    "##### 힙 정렬 알아보기\n",
    "힙 정렬 : 힙의 특성을 이용하여 정렬하는 알고리즘  \n",
    "힙 : '부모의 값이 자식의 값보다 항상 크다' 라는 조건을 만족하는 완전 이진 트리 -> 부모의 값이 자식의 값보다 항상 작아도 힙이라고 함   \n",
    "∴ 두 값의 대소 관계가 일정하기만 하면 됨 "
   ]
  },
  {
   "cell_type": "markdown",
   "metadata": {},
   "source": [
    "##### 힙 정렬의 특징\n",
    "다음의 작업 반복\n",
    "- 힙에서 최댓값인 루트를 꺼냄\n",
    "- 루트 이외의 부분을 힙으로 만듦\n",
    "\n",
    "##### 루트를 삭제한 힙의 재구성\n",
    "- 힙의 재구성.jpg 참고\n",
    "\n",
    "##### 힙 정렬 알고리즘 알아보기\n",
    "\n",
    "i : 배열의 마지막 인덱스\n",
    "n : 배열의 원소 수\n",
    "\n",
    "1. i 값을 n - 1로 초기화\n",
    "2. a[0]과 a[i]를 교환\n",
    "3. a[0], a[1] .... a[i - 1]을 힙으로 만듦\n",
    "4. i값을 1씩 감소시켜 0이 되면 종료. 그렇지 않으면 2번 과정으로 돌아감\n",
    "\n",
    "##### 배열을 힙으로 만들기\n",
    "\n",
    "###### 6-16"
   ]
  },
  {
   "cell_type": "code",
   "execution_count": 1,
   "metadata": {},
   "outputs": [
    {
     "name": "stdout",
     "output_type": "stream",
     "text": [
      "힙 정렬을 수행합니다.\n",
      "오름차순으로 정렬했습니다.\n",
      "x[0] = 1\n",
      "x[1] = 3\n",
      "x[2] = 4\n",
      "x[3] = 6\n",
      "x[4] = 7\n",
      "x[5] = 8\n",
      "x[6] = 9\n"
     ]
    }
   ],
   "source": [
    "# 힙 정렬 알고리즘 구현하기\n",
    "\n",
    "from typing import MutableSequence\n",
    "\n",
    "def heap_sort(a: MutableSequence) -> None:\n",
    "    \"\"\"힙 정렬\"\"\"\n",
    "\n",
    "    def down_heap(a: MutableSequence, left: int, right: int) -> None:\n",
    "        \"\"\"a[left] ~ a[right]를 힙으로 만들기\"\"\"\n",
    "        temp = a[left]                  # 루트\n",
    "\n",
    "        parent = left\n",
    "\n",
    "        while parent < (right + 1) // 2:\n",
    "            cl = parent * 2 + 1         # 왼쪽 자식\n",
    "            cr = cl + 1                 # 오른쪽 자식\n",
    "            child = cr if cr <= right and a[cr] > a[cl] else cl     # 큰 값을 선택\n",
    "            if temp >= a[child]:\n",
    "                break\n",
    "            a[parent] = a[child]\n",
    "            parent = child\n",
    "        a[parent] = temp\n",
    "\n",
    "    n = len(a)\n",
    "\n",
    "    for i in range((n - 1) // 2, -1, -1):       # a[i] ~ a[n - 1]을 힙으로 만들기\n",
    "        down_heap(a, i, n - 1)\n",
    "\n",
    "    for i in range(n - 1, 0, -1):\n",
    "        a[0], a[i] = a[i], a[0]                 # 최댓값인 a[0]과 마지막 원소를 교환\n",
    "        down_heap(a, 0, i - 1)                  # a[0] ~ a[i - 1]을 힙으로 만들기\n",
    "\n",
    "if __name__ == \"__main__\":\n",
    "    print('힙 정렬을 수행합니다.')\n",
    "    num = int(input('원소 수를 입력하세요 : '))\n",
    "    x = [None] * num                            # 원소 수가 num인 배열을 생성\n",
    "\n",
    "    for i in range(num):\n",
    "        x[i] = int(input(f'x[{i}] : '))\n",
    "\n",
    "    heap_sort(x)                                # 배열 x를 힙 정렬\n",
    "\n",
    "    print('오름차순으로 정렬했습니다.')\n",
    "    for i in range(num):\n",
    "        print(f'x[{i}] = {x[i]}')"
   ]
  },
  {
   "cell_type": "markdown",
   "metadata": {},
   "source": [
    "##### 힙정렬의 시간 복잡도\n",
    "O(log n)\n",
    "\n",
    "###### 보충 수업 6-5 : heapq모듈을 사용하는 힙 정렬\n",
    "###### 6C-5"
   ]
  },
  {
   "cell_type": "code",
   "execution_count": 2,
   "metadata": {},
   "outputs": [
    {
     "name": "stdout",
     "output_type": "stream",
     "text": [
      "힙 정렬을 수행합니다.\n",
      "오름차순으로 정렬했습니다.\n",
      "x[0] = 1\n",
      "x[1] = 3\n",
      "x[2] = 4\n",
      "x[3] = 6\n",
      "x[4] = 7\n",
      "x[5] = 8\n",
      "x[6] = 9\n"
     ]
    }
   ],
   "source": [
    "# 힙 정렬 알고리즘 구현하기(heapq.push와 heapq.pop을 사용)\n",
    "\n",
    "import heapq\n",
    "from typing import MutableSequence\n",
    "\n",
    "def heap_sort(a: MutableSequence) -> None:\n",
    "    \"\"\"힙 정렬(heapq.push와 heaqp.pop을 사용)\"\"\"\n",
    "\n",
    "    heap = []\n",
    "    for i in a:\n",
    "        heapq.heappush(heap, i)\n",
    "    for i in range(len(a)):\n",
    "        a[i] = heapq.heappop(heap)\n",
    "        \n",
    "if __name__ == \"__main__\":\n",
    "    print('힙 정렬을 수행합니다.')\n",
    "    num = int(input('원소 수를 입력하세요 : '))\n",
    "    x = [None] * num                            # 원소 수가 num인 배열을 생성\n",
    "\n",
    "    for i in range(num):\n",
    "        x[i] = int(input(f'x[{i}] : '))\n",
    "\n",
    "    heap_sort(x)                                # 배열 x를 힙 정렬\n",
    "\n",
    "    print('오름차순으로 정렬했습니다.')\n",
    "    for i in range(num):\n",
    "        print(f'x[{i}] = {x[i]}')"
   ]
  }
 ],
 "metadata": {
  "interpreter": {
   "hash": "0cf90eb564dcf90a219ae509985b5381d51b47d0448d01a29ea34215728d8c14"
  },
  "kernelspec": {
   "display_name": "Python 3.8.8 64-bit ('base': conda)",
   "language": "python",
   "name": "python3"
  },
  "language_info": {
   "codemirror_mode": {
    "name": "ipython",
    "version": 3
   },
   "file_extension": ".py",
   "mimetype": "text/x-python",
   "name": "python",
   "nbconvert_exporter": "python",
   "pygments_lexer": "ipython3",
   "version": "3.8.8"
  },
  "orig_nbformat": 4
 },
 "nbformat": 4,
 "nbformat_minor": 2
}
