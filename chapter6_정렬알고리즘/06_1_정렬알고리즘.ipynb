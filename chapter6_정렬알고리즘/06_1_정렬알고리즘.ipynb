{
 "cells": [
  {
   "cell_type": "markdown",
   "metadata": {},
   "source": [
    "##### 정렬이란?\n",
    "\n",
    "정렬 : 항목값의 대소 관계에 따라 데이터 집합을 일정한 순서로 바꾸어 늘어놓는 작업\n",
    "\n",
    "오름차순 : 값이 작은 데이터를 앞쪽에 늘어놓는 것\n",
    "내림차순 : 값이 큰 데이터를 앞쪽에 늘어놓는 것"
   ]
  },
  {
   "cell_type": "markdown",
   "metadata": {},
   "source": [
    "내부 정렬 : 정렬한 모든 데이터를 하나의 배열에 저장할 수 있는 경우에 사용하는 알고리즘\n",
    "\n",
    "외부 정렬 : 정렬할 데이터가 많아서 하나의 배열에 저장할 수 없는 경우에 사용하는 알고리즘"
   ]
  },
  {
   "cell_type": "markdown",
   "metadata": {},
   "source": [
    "정렬알고리즘의 핵심 \n",
    "- 교환 \n",
    "- 선택\n",
    "- 삽입"
   ]
  },
  {
   "cell_type": "markdown",
   "metadata": {},
   "source": [
    "8가지 정렬 알고리즘\n",
    "- 버블 정렬\n",
    "- 단순 선택 정렬\n",
    "- 단순 삽입 정렬\n",
    "- 셀 정렬\n",
    "- 퀵 정렬\n",
    "- 병합 정렬\n",
    "- 힙 정렬\n",
    "- 도수 정렬"
   ]
  },
  {
   "cell_type": "markdown",
   "metadata": {},
   "source": []
  }
 ],
 "metadata": {
  "language_info": {
   "name": "python"
  },
  "orig_nbformat": 4
 },
 "nbformat": 4,
 "nbformat_minor": 2
}
