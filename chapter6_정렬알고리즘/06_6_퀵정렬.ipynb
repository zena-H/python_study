{
 "cells": [
  {
   "cell_type": "markdown",
   "metadata": {},
   "source": [
    "##### 퀵 정렬 알아보기\n",
    "각 그룹에서 피벗을 선택하여 나누기를 반복하며 모든 그룹이 1씩 남으면 정렬 완료"
   ]
  },
  {
   "cell_type": "markdown",
   "metadata": {},
   "source": [
    "##### 배열을 두 그룹으로 나누기\n",
    "\n",
    "###### 6-10"
   ]
  },
  {
   "cell_type": "code",
   "execution_count": 3,
   "metadata": {},
   "outputs": [
    {
     "name": "stdout",
     "output_type": "stream",
     "text": [
      "배열을 나눕니다.\n",
      "피벗은 5입니다.\n",
      "피벗 이하인 그룹입니다.\n",
      "1 3 2 4 5\n",
      "피벗과 일치하는 그룹입니다.\n",
      "5\n",
      "피벗 이상인 그룹입니다.\n",
      "5 7 6 8 9\n"
     ]
    }
   ],
   "source": [
    "# 배열을 두 그룹으로 나누기\n",
    "\n",
    "from typing import MutableSequence\n",
    "\n",
    "def partition(a: MutableSequence) -> None:\n",
    "    \"\"\"배열을 나누어 출력\"\"\"\n",
    "    n = len(a)\n",
    "    pl = 0          # 왼쪽 커서\n",
    "    pr = n - 1      # 오른쪽 커서\n",
    "    x = a[n // 2]   # 피벗(가운데 원소)\n",
    "\n",
    "    while pl <= pr:\n",
    "        while a[pl] < x: pl += 1\n",
    "        while a[pr] > x: pr -= 1\n",
    "        if pl <= pr:\n",
    "            a[pl], a[pr] = a[pr], a[pl]\n",
    "            pl += 1\n",
    "            pr -= 1\n",
    "\n",
    "    print (f'피벗은 {x}입니다.')\n",
    "\n",
    "    print ('피벗 이하인 그룹입니다.')\n",
    "    print (*a[0 : pl])              # a[0] ~ a[pl - 1]\n",
    "\n",
    "    if pl > pr + 1:\n",
    "        print ('피벗과 일치하는 그룹입니다.')\n",
    "        print (*a[pr + 1 : pl])     # a[pr + 1] ~ a[pl - 1]\n",
    "    \n",
    "    print ('피벗 이상인 그룹입니다.')\n",
    "    print (*a[pr + 1 : n])          # a[pr + 1] ~ a[n - 1]\n",
    "\n",
    "if __name__ == \"__main__\":\n",
    "    print('배열을 나눕니다.')\n",
    "    num = int(input('원소 수를 입력하세요 : '))\n",
    "    x = [None] * num\n",
    "\n",
    "    for i in range(num):\n",
    "        x[i] = int(input(f'x[{i}] : '))\n",
    "\n",
    "    partition(x)                # 배열 x를 나누어서 출력"
   ]
  },
  {
   "cell_type": "markdown",
   "metadata": {},
   "source": [
    "##### 퀵 정렬 만들기\n",
    "\n",
    "###### 6-11"
   ]
  },
  {
   "cell_type": "code",
   "execution_count": 7,
   "metadata": {},
   "outputs": [
    {
     "name": "stdout",
     "output_type": "stream",
     "text": [
      "퀵 정렬을 수행합니다.\n",
      "오름차순으로 정렬했습니다.\n",
      "x[0] = 1\n",
      "x[1] = 2\n",
      "x[2] = 3\n",
      "x[3] = 4\n",
      "x[4] = 5\n",
      "x[5] = 6\n",
      "x[6] = 7\n",
      "x[7] = 8\n",
      "x[8] = 9\n"
     ]
    }
   ],
   "source": [
    "# 퀵 정렬 알고리즘 구현하기\n",
    "\n",
    "from typing import MutableSequence\n",
    "\n",
    "def qsort(a: MutableSequence, left: int, right: int) -> None:\n",
    "    \"\"\"a[left] ~ a[right]를 퀵 정렬\"\"\"\n",
    "    pl = left                   # 왼쪽 커서\n",
    "    pr = right                  # 오른쪽 커서\n",
    "    x = a[(left + right) // 2]  # 피벗(가운데 원소)\n",
    "\n",
    "    while pl <= pr:\n",
    "        while a[pl] < x: pl += 1\n",
    "        while a[pr] > x: pr -= 1\n",
    "        if pl <= pr:\n",
    "            a[pl], a[pr] = a[pr], a[pl]\n",
    "            pl += 1\n",
    "            pr -= 1\n",
    "\n",
    "    if left < pr: qsort(a, left, pr)\n",
    "    if pl < right: qsort(a, pl, right)\n",
    "\n",
    "def quick_sort(a: MutableSequence) -> None:\n",
    "    \"\"\"퀵 정렬\"\"\"\n",
    "    qsort(a, 0, len(a) - 1)\n",
    "\n",
    "if __name__ == \"__main__\":\n",
    "    print ('퀵 정렬을 수행합니다.')\n",
    "    num = int(input('원소 수를 입력하세요.'))\n",
    "    x = [None] * num            # 원소 수가 num인 배열을 생성\n",
    "\n",
    "    for i in range(num):\n",
    "        x[i] = int(input(f'x[{i}] : '))\n",
    "\n",
    "    quick_sort(x)               # 배열 x를 퀵 정렬\n",
    "\n",
    "    print ('오름차순으로 정렬했습니다.')\n",
    "    for i in range(num):\n",
    "        print(f'x[{i}] = {x[i]}')"
   ]
  },
  {
   "cell_type": "markdown",
   "metadata": {},
   "source": [
    "###### 보충 수업 6-3 : 퀵 정렬에서 나누는 과정 출력하기\n",
    "###### 6C-3 "
   ]
  },
  {
   "cell_type": "code",
   "execution_count": 8,
   "metadata": {},
   "outputs": [
    {
     "name": "stdout",
     "output_type": "stream",
     "text": [
      "퀵 정렬을 수행합니다.\n",
      "a[0] ~ a[8] :  5 8 4 2 6 1 3 9 7\n",
      "a[0] ~ a[4] :  5 3 4 2 1\n",
      "a[0] ~ a[2] :  1 3 2\n",
      "a[0] ~ a[1] :  1 2\n",
      "a[3] ~ a[4] :  4 5\n",
      "a[5] ~ a[8] :  6 8 9 7\n",
      "a[5] ~ a[6] :  6 7\n",
      "a[7] ~ a[8] :  9 8\n",
      "오름차순으로 정렬했습니다.\n",
      "x[0] = 1\n",
      "x[1] = 2\n",
      "x[2] = 3\n",
      "x[3] = 4\n",
      "x[4] = 5\n",
      "x[5] = 6\n",
      "x[6] = 7\n",
      "x[7] = 8\n",
      "x[8] = 9\n"
     ]
    }
   ],
   "source": [
    "# 퀵 정렬 알고리즘 구현하기\n",
    "\n",
    "from typing import MutableSequence\n",
    "\n",
    "def qsort(a: MutableSequence, left: int, right: int) -> None:\n",
    "    \"\"\"a[left] ~ a[right]를 퀵 정렬(배열을 나누는 과정 출력)\"\"\"\n",
    "    pl = left                   # 왼쪽 커서\n",
    "    pr = right                  # 오른쪽 커서\n",
    "    x = a[(left + right) // 2]  # 피벗(가운데 원소)\n",
    "\n",
    "    print(f'a[{left}] ~ a[{right}] : ', *a[left : right + 1])       # 새로 추가된 부분\n",
    "\n",
    "    while pl <= pr:\n",
    "        while a[pl] < x: pl += 1\n",
    "        while a[pr] > x: pr -= 1\n",
    "        if pl <= pr:\n",
    "            a[pl], a[pr] = a[pr], a[pl]\n",
    "            pl += 1\n",
    "            pr -= 1\n",
    "\n",
    "    if left < pr: qsort(a, left, pr)\n",
    "    if pl < right: qsort(a, pl, right)\n",
    "\n",
    "def quick_sort(a: MutableSequence) -> None:\n",
    "    \"\"\"퀵 정렬\"\"\"\n",
    "    qsort(a, 0, len(a) - 1)\n",
    "\n",
    "if __name__ == \"__main__\":\n",
    "    print ('퀵 정렬을 수행합니다.')\n",
    "    num = int(input('원소 수를 입력하세요.'))\n",
    "    x = [None] * num            # 원소 수가 num인 배열을 생성\n",
    "\n",
    "    for i in range(num):\n",
    "        x[i] = int(input(f'x[{i}] : '))\n",
    "\n",
    "    quick_sort(x)               # 배열 x를 퀵 정렬\n",
    "\n",
    "    print ('오름차순으로 정렬했습니다.')\n",
    "    for i in range(num):\n",
    "        print(f'x[{i}] = {x[i]}')"
   ]
  },
  {
   "cell_type": "markdown",
   "metadata": {},
   "source": [
    "##### 비재귀적인 퀵 정렬 만들기\n",
    "\n",
    "###### 6-12"
   ]
  },
  {
   "cell_type": "code",
   "execution_count": 11,
   "metadata": {},
   "outputs": [
    {
     "name": "stdout",
     "output_type": "stream",
     "text": [
      "퀵 정렬을 수행합니다.\n",
      "오름차순으로 정렬했습니다.\n",
      "x[0] = 2\n",
      "x[1] = 2\n",
      "x[2] = 3\n",
      "x[3] = 4\n",
      "x[4] = 5\n",
      "x[5] = 6\n",
      "x[6] = 7\n",
      "x[7] = 8\n",
      "x[8] = 9\n"
     ]
    }
   ],
   "source": [
    "# 비재귀적인 퀵 정렬 만들기\n",
    "\n",
    "from stack import Stack\n",
    "from typing import MutableSequence\n",
    "\n",
    "def qsort(a: MutableSequence, left: int, right: int) -> None:\n",
    "    \"\"\"a[left] ~ a[right]를 퀵 정렬(비재귀적인 퀵 정렬)\"\"\"\n",
    "    range = Stack(right - left + 1)                 # 스택 생성\n",
    "\n",
    "    range.push((left, right))\n",
    "\n",
    "    while not range.is_empty():\n",
    "        pl, pr = left, right = range.pop()          # 왼쪽, 오른쪽 커서를 꺼냄\n",
    "        x = a[(left + right) // 2]                  # 피벗(가운데 원소)\n",
    "\n",
    "        while pl <= pr:\n",
    "            while a[pl] < x: pl += 1\n",
    "            while a[pr] > x: pr -= 1\n",
    "            if pl <= pr:\n",
    "                a[pl], a[pr] = a[pr], a[pl]\n",
    "                pl += 1\n",
    "                pr -= 1\n",
    "\n",
    "        if left < pr: range.push((left, pr))\n",
    "        if pl < right: range.push((pl, right))\n",
    "\n",
    "def quick_sort(a: MutableSequence) -> None:\n",
    "    \"\"\"퀵 정렬\"\"\"\n",
    "    qsort(a, 0, len(a) - 1)\n",
    "        \n",
    "if __name__ == \"__main__\":\n",
    "    print ('퀵 정렬을 수행합니다.')\n",
    "    num = int(input('원소 수를 입력하세요.'))\n",
    "    x = [None] * num            # 원소 수가 num인 배열을 생성\n",
    "\n",
    "    for i in range(num):\n",
    "        x[i] = int(input(f'x[{i}] : '))\n",
    "\n",
    "    quick_sort(x)               # 배열 x를 퀵 정렬\n",
    "\n",
    "    print ('오름차순으로 정렬했습니다.')\n",
    "    for i in range(num):\n",
    "        print(f'x[{i}] = {x[i]}')"
   ]
  },
  {
   "cell_type": "markdown",
   "metadata": {},
   "source": [
    "##### 퀵 정렬의 시간 복잡도\n",
    "\n",
    "###### 6-13"
   ]
  },
  {
   "cell_type": "code",
   "execution_count": 2,
   "metadata": {},
   "outputs": [
    {
     "name": "stdout",
     "output_type": "stream",
     "text": [
      "퀵 정렬을 합니다.(원소 수가 9 미만이면 단순 삽입 정렬을 합니다.)\n",
      "오름차순으로 정렬했습니다.\n",
      "x[0] = 0\n",
      "x[1] = 1\n",
      "x[2] = 2\n",
      "x[3] = 3\n",
      "x[4] = 3\n",
      "x[5] = 4\n",
      "x[6] = 5\n",
      "x[7] = 5\n",
      "x[8] = 6\n",
      "x[9] = 7\n",
      "x[10] = 8\n",
      "x[11] = 9\n"
     ]
    }
   ],
   "source": [
    "# 퀵 정렬 알고리즘 구현하기(원소 수가 9 미만이면 단순 삽입 정렬)\n",
    "\n",
    "from typing import MutableSequence\n",
    "\n",
    "def sort3(a: MutableSequence, idx1: int, idx2: int, idx3: int):\n",
    "    \"\"\"a[idx1], a[idx2], a[idx3]을 오름차순으로 정렬하고 중앙값의 인덱스를 반환\"\"\" \n",
    "    if a[idx2] < a[idx1]: a[idx2], a[idx1] = a[idx1], a[idx2]\n",
    "    if a[idx3] < a[idx2]: a[idx3], a[idx2] = a[idx2], a[idx3]\n",
    "    if a[idx2] < a[idx1]: a[idx2], a[idx1] = a[idx1], a[idx2]\n",
    "\n",
    "    return idx2\n",
    "\n",
    "def insertion_sort(a: MutableSequence, left: int, right: int) -> None:\n",
    "    \"\"\"a[left] ~ a[right]를 단순 삽입 정렬\"\"\"\n",
    "    for i in range(left + 1, right + 1):\n",
    "        j = i\n",
    "        tmp = a[i]\n",
    "        while j > 0 and a[j - 1] > tmp:\n",
    "            a[j] = a[j - 1]\n",
    "            j -= 1\n",
    "            a[j] = tmp\n",
    "\n",
    "def qsort(a: MutableSequence, left: int, right: int) -> None:\n",
    "    \"\"\"a[left] ~ a[right]를 퀵 정렬\"\"\"\n",
    "    if right - left < 9:                # 원소 수가 9 미만이면 단순 삽입 정렬로 전환\n",
    "        insertion_sort(a, left, right)\n",
    "    else:\n",
    "        pl = left                       # 왼쪽 커서\n",
    "        pr = right                      # 오른쪽 커서\n",
    "        m = sort3(a, pl, (pl + pr) // 2, pr)\n",
    "        x = a[m]\n",
    "\n",
    "        a[m], a[pr -1] = a[pr - 1], a[m]\n",
    "        pl += 1\n",
    "        pr -= 2\n",
    "        while pl <= pr:\n",
    "            while a[pl] < x: pl += 1\n",
    "            while a[pr] > x: pr -= 1\n",
    "            if pl <= pr:\n",
    "                a[pl], a[pr] = a[pr], a[pl]\n",
    "                pr += 1\n",
    "                pr -= 1\n",
    "\n",
    "\n",
    "        if left < pr: qsort(a, left, pr)\n",
    "        if pl < right: qsort(a, pl, right)\n",
    "\n",
    "def quick_sort(a:MutableSequence) -> None:\n",
    "    \"\"\"퀵 정렬\"\"\"\n",
    "    qsort(a, 0, len(a) - 1)\n",
    "\n",
    "if __name__ == \"__main__\":\n",
    "    print('퀵 정렬을 합니다.(원소 수가 9 미만이면 단순 삽입 정렬을 합니다.)')\n",
    "    num = int(input('원소 수를 입력하세요 : '))\n",
    "    x = [None] * num                # 원소 수가 num인 배열을 생성\n",
    "\n",
    "    for i in range(num):\n",
    "        x[i] = int(input(f'x[{i}] : '))\n",
    "\n",
    "    quick_sort(x)                   # 배열 x를 퀵 정렬\n",
    "\n",
    "    print('오름차순으로 정렬했습니다.')\n",
    "    for i in range(num):\n",
    "        print(f'x[{i}] = {x[i]}')"
   ]
  },
  {
   "cell_type": "markdown",
   "metadata": {},
   "source": [
    "###### 보충 수업 6-4 : sorted() 함수로 정렬하기\n",
    "\n",
    "###### 6C-4"
   ]
  },
  {
   "cell_type": "code",
   "execution_count": 3,
   "metadata": {},
   "outputs": [
    {
     "name": "stdout",
     "output_type": "stream",
     "text": [
      "sorted() 함수를 사용하여 정렬합니다.\n",
      "오름차순으로 정렬했습니다.\n",
      "x[0] = 1\n",
      "x[1] = 3\n",
      "x[2] = 4\n",
      "x[3] = 6\n",
      "x[4] = 7\n",
      "내림차순으로 정렬했습니다.\n",
      "x[0] = 7\n",
      "x[1] = 6\n",
      "x[2] = 4\n",
      "x[3] = 3\n",
      "x[4] = 1\n"
     ]
    }
   ],
   "source": [
    "# sorted() 함수를 사용하여 정렬하기\n",
    "\n",
    "print('sorted() 함수를 사용하여 정렬합니다.')\n",
    "num = int(input('원소 수를 입력하세요 : '))\n",
    "x = [None] * num            # 원소 수가 num인 배열을 생성\n",
    "\n",
    "for i in range(num):\n",
    "    x[i] = int(input(f'x[{i}] : '))\n",
    "\n",
    "# 배열 x를 오름차순으로 정렬\n",
    "x = sorted(x)\n",
    "print('오름차순으로 정렬했습니다.')\n",
    "for i in range(num):\n",
    "    print(f'x[{i}] = {x[i]}')\n",
    "\n",
    "# 배열 x를 내림차순으로 정렬\n",
    "x = sorted(x, reverse = True)\n",
    "print('내림차순으로 정렬했습니다.')\n",
    "for i in range(num):\n",
    "    print(f'x[{i}] = {x[i]}')"
   ]
  }
 ],
 "metadata": {
  "interpreter": {
   "hash": "0cf90eb564dcf90a219ae509985b5381d51b47d0448d01a29ea34215728d8c14"
  },
  "kernelspec": {
   "display_name": "Python 3.8.8 64-bit ('base': conda)",
   "language": "python",
   "name": "python3"
  },
  "language_info": {
   "codemirror_mode": {
    "name": "ipython",
    "version": 3
   },
   "file_extension": ".py",
   "mimetype": "text/x-python",
   "name": "python",
   "nbconvert_exporter": "python",
   "pygments_lexer": "ipython3",
   "version": "3.8.8"
  },
  "orig_nbformat": 4
 },
 "nbformat": 4,
 "nbformat_minor": 2
}
